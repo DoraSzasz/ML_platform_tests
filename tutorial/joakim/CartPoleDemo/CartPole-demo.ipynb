{
 "cells": [
  {
   "cell_type": "markdown",
   "metadata": {},
   "source": [
    "# Solving CartPole OpenAI environment using DQNAgent"
   ]
  },
  {
   "cell_type": "markdown",
   "metadata": {},
   "source": [
    "#### first install rl package - not done in the container as it requires a bit older version of keras"
   ]
  },
  {
   "cell_type": "code",
   "execution_count": 1,
   "metadata": {
    "collapsed": false
   },
   "outputs": [
    {
     "name": "stdout",
     "output_type": "stream",
     "text": [
      "Requirement already satisfied: keras-rl in /usr/local/lib/python2.7/site-packages\n",
      "Requirement already satisfied: keras<2.0.7,>=1.0.7 in /usr/local/lib/python2.7/site-packages (from keras-rl)\n",
      "Requirement already satisfied: six in /usr/local/lib/python2.7/site-packages (from keras<2.0.7,>=1.0.7->keras-rl)\n",
      "Requirement already satisfied: theano in /usr/local/lib/python2.7/site-packages (from keras<2.0.7,>=1.0.7->keras-rl)\n",
      "Requirement already satisfied: pyyaml in /usr/local/lib/python2.7/site-packages (from keras<2.0.7,>=1.0.7->keras-rl)\n",
      "Requirement already satisfied: scipy>=0.11 in /usr/local/lib/python2.7/site-packages (from theano->keras<2.0.7,>=1.0.7->keras-rl)\n",
      "Requirement already satisfied: numpy>=1.7.1 in /usr/local/lib/python2.7/site-packages (from theano->keras<2.0.7,>=1.0.7->keras-rl)\n"
     ]
    }
   ],
   "source": [
    "!pip install keras-rl"
   ]
  },
  {
   "cell_type": "markdown",
   "metadata": {},
   "source": [
    "Standard imports"
   ]
  },
  {
   "cell_type": "code",
   "execution_count": 2,
   "metadata": {
    "collapsed": false
   },
   "outputs": [
    {
     "name": "stderr",
     "output_type": "stream",
     "text": [
      "Using TensorFlow backend.\n"
     ]
    }
   ],
   "source": [
    "import numpy as np\n",
    "import gym\n",
    "\n",
    "from keras.models import Sequential\n",
    "from keras.layers import Dense, Activation, Flatten\n",
    "from keras.optimizers import Adam\n",
    "\n",
    "from rl.agents.dqn import DQNAgent\n",
    "from rl.policy import BoltzmannQPolicy\n",
    "from rl.memory import SequentialMemory"
   ]
  },
  {
   "cell_type": "markdown",
   "metadata": {},
   "source": [
    "#### Open environment\n",
    "extract the number of actions. \n",
    "There are two discrete actions - move left and move Right"
   ]
  },
  {
   "cell_type": "code",
   "execution_count": 3,
   "metadata": {
    "collapsed": false
   },
   "outputs": [
    {
     "name": "stderr",
     "output_type": "stream",
     "text": [
      "[2017-10-29 22:43:48,300] Making new env: CartPole-v0\n"
     ]
    }
   ],
   "source": [
    "env = gym.make('CartPole-v0')\n",
    "np.random.seed(123)\n",
    "env.seed(123)\n",
    "nb_actions = env.action_space.n"
   ]
  },
  {
   "cell_type": "markdown",
   "metadata": {},
   "source": [
    "#### Build a simple NN"
   ]
  },
  {
   "cell_type": "code",
   "execution_count": 4,
   "metadata": {
    "collapsed": false
   },
   "outputs": [
    {
     "name": "stdout",
     "output_type": "stream",
     "text": [
      "_________________________________________________________________\n",
      "Layer (type)                 Output Shape              Param #   \n",
      "=================================================================\n",
      "flatten_1 (Flatten)          (None, 4)                 0         \n",
      "_________________________________________________________________\n",
      "dense_1 (Dense)              (None, 16)                80        \n",
      "_________________________________________________________________\n",
      "activation_1 (Activation)    (None, 16)                0         \n",
      "_________________________________________________________________\n",
      "dense_2 (Dense)              (None, 16)                272       \n",
      "_________________________________________________________________\n",
      "activation_2 (Activation)    (None, 16)                0         \n",
      "_________________________________________________________________\n",
      "dense_3 (Dense)              (None, 16)                272       \n",
      "_________________________________________________________________\n",
      "activation_3 (Activation)    (None, 16)                0         \n",
      "_________________________________________________________________\n",
      "dense_4 (Dense)              (None, 2)                 34        \n",
      "_________________________________________________________________\n",
      "activation_4 (Activation)    (None, 2)                 0         \n",
      "=================================================================\n",
      "Total params: 658\n",
      "Trainable params: 658\n",
      "Non-trainable params: 0\n",
      "_________________________________________________________________\n",
      "None\n"
     ]
    }
   ],
   "source": [
    "model = Sequential()\n",
    "model.add(Flatten(input_shape=(1,) + env.observation_space.shape))\n",
    "model.add(Dense(16))\n",
    "model.add(Activation('relu'))\n",
    "model.add(Dense(16))\n",
    "model.add(Activation('relu'))\n",
    "model.add(Dense(16))\n",
    "model.add(Activation('relu'))\n",
    "model.add(Dense(nb_actions))\n",
    "model.add(Activation('linear'))\n",
    "print(model.summary())"
   ]
  },
  {
   "cell_type": "markdown",
   "metadata": {},
   "source": [
    "#### Configure and compile our agent. \n",
    "You can use every built-in Keras optimizer and even the metrics!\n"
   ]
  },
  {
   "cell_type": "code",
   "execution_count": 5,
   "metadata": {
    "collapsed": true
   },
   "outputs": [],
   "source": [
    "memory = SequentialMemory(limit=50000, window_length=1)\n",
    "policy = BoltzmannQPolicy()\n",
    "dqn = DQNAgent(model=model, \n",
    "               nb_actions=nb_actions, \n",
    "               memory=memory, \n",
    "               nb_steps_warmup=10,\n",
    "               target_model_update=1e-2, \n",
    "               policy=policy)\n",
    "dqn.compile(Adam(lr=1e-3), metrics=['mae'])"
   ]
  },
  {
   "cell_type": "markdown",
   "metadata": {},
   "source": [
    "#### Actual learning \n",
    "Visualization is OFF untill we figure out how to export display correctly."
   ]
  },
  {
   "cell_type": "code",
   "execution_count": null,
   "metadata": {
    "collapsed": false
   },
   "outputs": [
    {
     "name": "stdout",
     "output_type": "stream",
     "text": [
      "Training for 50000 steps ...\n"
     ]
    },
    {
     "name": "stderr",
     "output_type": "stream",
     "text": [
      "/usr/local/lib/python2.7/site-packages/rl/memory.py:29: UserWarning: Not enough entries to sample without replacement. Consider increasing your warm-up phase to avoid oversampling!\n",
      "  warnings.warn('Not enough entries to sample without replacement. Consider increasing your warm-up phase to avoid oversampling!')\n"
     ]
    },
    {
     "name": "stdout",
     "output_type": "stream",
     "text": [
      "    23/50000: episode: 1, duration: 2.473s, episode steps: 23, steps per second: 9, episode reward: 23.000, mean reward: 1.000 [1.000, 1.000], mean action: 0.609 [0.000, 1.000], mean observation: -0.082 [-2.106, 1.171], loss: 0.479087, mean_absolute_error: 0.504080, mean_q: 0.036019\n",
      "    33/50000: episode: 2, duration: 0.166s, episode steps: 10, steps per second: 60, episode reward: 10.000, mean reward: 1.000 [1.000, 1.000], mean action: 0.300 [0.000, 1.000], mean observation: 0.157 [-1.129, 1.948], loss: 0.423291, mean_absolute_error: 0.512142, mean_q: 0.117085\n",
      "    69/50000: episode: 3, duration: 0.599s, episode steps: 36, steps per second: 60, episode reward: 36.000, mean reward: 1.000 [1.000, 1.000], mean action: 0.528 [0.000, 1.000], mean observation: 0.134 [-0.535, 0.891], loss: 0.263303, mean_absolute_error: 0.553609, mean_q: 0.434907\n",
      "    86/50000: episode: 4, duration: 0.281s, episode steps: 17, steps per second: 60, episode reward: 17.000, mean reward: 1.000 [1.000, 1.000], mean action: 0.471 [0.000, 1.000], mean observation: 0.081 [-0.803, 1.185], loss: 0.105214, mean_absolute_error: 0.625190, mean_q: 0.881705\n",
      "   106/50000: episode: 5, duration: 0.334s, episode steps: 20, steps per second: 60, episode reward: 20.000, mean reward: 1.000 [1.000, 1.000], mean action: 0.350 [0.000, 1.000], mean observation: 0.083 [-1.147, 2.055], loss: 0.048204, mean_absolute_error: 0.685496, mean_q: 1.212216\n",
      "   121/50000: episode: 6, duration: 0.250s, episode steps: 15, steps per second: 60, episode reward: 15.000, mean reward: 1.000 [1.000, 1.000], mean action: 0.333 [0.000, 1.000], mean observation: 0.110 [-1.171, 1.979], loss: 0.046952, mean_absolute_error: 0.762356, mean_q: 1.439160\n",
      "   130/50000: episode: 7, duration: 0.149s, episode steps: 9, steps per second: 61, episode reward: 9.000, mean reward: 1.000 [1.000, 1.000], mean action: 1.000 [1.000, 1.000], mean observation: -0.139 [-2.798, 1.804], loss: 0.030220, mean_absolute_error: 0.798130, mean_q: 1.541915\n",
      "   142/50000: episode: 8, duration: 0.199s, episode steps: 12, steps per second: 60, episode reward: 12.000, mean reward: 1.000 [1.000, 1.000], mean action: 0.167 [0.000, 1.000], mean observation: 0.122 [-1.571, 2.524], loss: 0.037548, mean_absolute_error: 0.837522, mean_q: 1.657251\n",
      "   168/50000: episode: 9, duration: 0.433s, episode steps: 26, steps per second: 60, episode reward: 26.000, mean reward: 1.000 [1.000, 1.000], mean action: 0.500 [0.000, 1.000], mean observation: -0.097 [-1.171, 0.826], loss: 0.046201, mean_absolute_error: 0.910415, mean_q: 1.755939\n",
      "   180/50000: episode: 10, duration: 0.200s, episode steps: 12, steps per second: 60, episode reward: 12.000, mean reward: 1.000 [1.000, 1.000], mean action: 0.417 [0.000, 1.000], mean observation: 0.088 [-0.804, 1.385], loss: 0.033770, mean_absolute_error: 0.956969, mean_q: 1.901809\n",
      "   215/50000: episode: 11, duration: 0.582s, episode steps: 35, steps per second: 60, episode reward: 35.000, mean reward: 1.000 [1.000, 1.000], mean action: 0.571 [0.000, 1.000], mean observation: -0.046 [-1.915, 1.149], loss: 0.049512, mean_absolute_error: 1.039266, mean_q: 2.038231\n",
      "   234/50000: episode: 12, duration: 0.315s, episode steps: 19, steps per second: 60, episode reward: 19.000, mean reward: 1.000 [1.000, 1.000], mean action: 0.316 [0.000, 1.000], mean observation: 0.065 [-1.329, 2.177], loss: 0.057448, mean_absolute_error: 1.140232, mean_q: 2.234101\n",
      "   247/50000: episode: 13, duration: 0.218s, episode steps: 13, steps per second: 60, episode reward: 13.000, mean reward: 1.000 [1.000, 1.000], mean action: 0.692 [0.000, 1.000], mean observation: -0.088 [-1.817, 1.030], loss: 0.036852, mean_absolute_error: 1.187485, mean_q: 2.375370\n",
      "   259/50000: episode: 14, duration: 0.197s, episode steps: 12, steps per second: 61, episode reward: 12.000, mean reward: 1.000 [1.000, 1.000], mean action: 0.667 [0.000, 1.000], mean observation: -0.102 [-1.492, 0.810], loss: 0.057228, mean_absolute_error: 1.249556, mean_q: 2.454403\n",
      "   277/50000: episode: 15, duration: 0.302s, episode steps: 18, steps per second: 60, episode reward: 18.000, mean reward: 1.000 [1.000, 1.000], mean action: 0.389 [0.000, 1.000], mean observation: 0.065 [-0.993, 1.730], loss: 0.081439, mean_absolute_error: 1.308044, mean_q: 2.539694\n",
      "   300/50000: episode: 16, duration: 0.383s, episode steps: 23, steps per second: 60, episode reward: 23.000, mean reward: 1.000 [1.000, 1.000], mean action: 0.652 [0.000, 1.000], mean observation: -0.056 [-2.306, 1.384], loss: 0.089998, mean_absolute_error: 1.406208, mean_q: 2.723802\n",
      "   334/50000: episode: 17, duration: 0.566s, episode steps: 34, steps per second: 60, episode reward: 34.000, mean reward: 1.000 [1.000, 1.000], mean action: 0.353 [0.000, 1.000], mean observation: 0.007 [-1.932, 2.928], loss: 0.111196, mean_absolute_error: 1.522904, mean_q: 2.898646\n",
      "   355/50000: episode: 18, duration: 0.300s, episode steps: 21, steps per second: 70, episode reward: 21.000, mean reward: 1.000 [1.000, 1.000], mean action: 0.333 [0.000, 1.000], mean observation: 0.070 [-1.386, 2.316], loss: 0.083263, mean_absolute_error: 1.634531, mean_q: 3.170300\n",
      "   392/50000: episode: 19, duration: 0.199s, episode steps: 37, steps per second: 186, episode reward: 37.000, mean reward: 1.000 [1.000, 1.000], mean action: 0.486 [0.000, 1.000], mean observation: 0.042 [-0.754, 1.131], loss: 0.115857, mean_absolute_error: 1.754023, mean_q: 3.394032\n",
      "   405/50000: episode: 20, duration: 0.072s, episode steps: 13, steps per second: 180, episode reward: 13.000, mean reward: 1.000 [1.000, 1.000], mean action: 0.615 [0.000, 1.000], mean observation: -0.095 [-1.618, 0.987], loss: 0.140685, mean_absolute_error: 1.870289, mean_q: 3.576292\n",
      "   432/50000: episode: 21, duration: 0.140s, episode steps: 27, steps per second: 193, episode reward: 27.000, mean reward: 1.000 [1.000, 1.000], mean action: 0.444 [0.000, 1.000], mean observation: 0.128 [-0.595, 1.636], loss: 0.120820, mean_absolute_error: 1.950514, mean_q: 3.740392\n",
      "   448/50000: episode: 22, duration: 0.089s, episode steps: 16, steps per second: 179, episode reward: 16.000, mean reward: 1.000 [1.000, 1.000], mean action: 0.750 [0.000, 1.000], mean observation: -0.076 [-2.493, 1.555], loss: 0.124951, mean_absolute_error: 2.050216, mean_q: 3.959363\n",
      "   456/50000: episode: 23, duration: 0.044s, episode steps: 8, steps per second: 181, episode reward: 8.000, mean reward: 1.000 [1.000, 1.000], mean action: 0.000 [0.000, 0.000], mean observation: 0.157 [-1.531, 2.553], loss: 0.156319, mean_absolute_error: 2.080761, mean_q: 3.996799\n",
      "   465/50000: episode: 24, duration: 0.048s, episode steps: 9, steps per second: 188, episode reward: 9.000, mean reward: 1.000 [1.000, 1.000], mean action: 0.111 [0.000, 1.000], mean observation: 0.147 [-1.357, 2.221], loss: 0.158615, mean_absolute_error: 2.131687, mean_q: 4.061403\n",
      "   497/50000: episode: 25, duration: 0.164s, episode steps: 32, steps per second: 195, episode reward: 32.000, mean reward: 1.000 [1.000, 1.000], mean action: 0.344 [0.000, 1.000], mean observation: -0.039 [-2.139, 2.752], loss: 0.147886, mean_absolute_error: 2.201372, mean_q: 4.183372\n",
      "   507/50000: episode: 26, duration: 0.054s, episode steps: 10, steps per second: 185, episode reward: 10.000, mean reward: 1.000 [1.000, 1.000], mean action: 0.200 [0.000, 1.000], mean observation: 0.121 [-1.164, 2.038], loss: 0.241124, mean_absolute_error: 2.295244, mean_q: 4.383927\n",
      "   521/50000: episode: 27, duration: 0.083s, episode steps: 14, steps per second: 170, episode reward: 14.000, mean reward: 1.000 [1.000, 1.000], mean action: 0.286 [0.000, 1.000], mean observation: 0.075 [-1.380, 2.121], loss: 0.140800, mean_absolute_error: 2.364519, mean_q: 4.560142\n",
      "   531/50000: episode: 28, duration: 0.058s, episode steps: 10, steps per second: 173, episode reward: 10.000, mean reward: 1.000 [1.000, 1.000], mean action: 0.200 [0.000, 1.000], mean observation: 0.126 [-1.421, 2.282], loss: 0.126282, mean_absolute_error: 2.370562, mean_q: 4.504555\n",
      "   552/50000: episode: 29, duration: 0.112s, episode steps: 21, steps per second: 188, episode reward: 21.000, mean reward: 1.000 [1.000, 1.000], mean action: 0.429 [0.000, 1.000], mean observation: 0.097 [-0.750, 1.534], loss: 0.234384, mean_absolute_error: 2.423084, mean_q: 4.507908\n",
      "   566/50000: episode: 30, duration: 0.074s, episode steps: 14, steps per second: 189, episode reward: 14.000, mean reward: 1.000 [1.000, 1.000], mean action: 0.429 [0.000, 1.000], mean observation: 0.110 [-0.744, 1.345], loss: 0.222853, mean_absolute_error: 2.481289, mean_q: 4.621963\n",
      "   612/50000: episode: 31, duration: 0.234s, episode steps: 46, steps per second: 197, episode reward: 46.000, mean reward: 1.000 [1.000, 1.000], mean action: 0.478 [0.000, 1.000], mean observation: -0.141 [-1.100, 0.877], loss: 0.179916, mean_absolute_error: 2.612521, mean_q: 4.957155\n",
      "   628/50000: episode: 32, duration: 0.087s, episode steps: 16, steps per second: 183, episode reward: 16.000, mean reward: 1.000 [1.000, 1.000], mean action: 0.312 [0.000, 1.000], mean observation: 0.080 [-1.420, 2.332], loss: 0.270852, mean_absolute_error: 2.704571, mean_q: 5.062954\n",
      "   653/50000: episode: 33, duration: 0.132s, episode steps: 25, steps per second: 189, episode reward: 25.000, mean reward: 1.000 [1.000, 1.000], mean action: 0.440 [0.000, 1.000], mean observation: 0.050 [-1.150, 1.808], loss: 0.160693, mean_absolute_error: 2.799488, mean_q: 5.379557\n",
      "   663/50000: episode: 34, duration: 0.054s, episode steps: 10, steps per second: 184, episode reward: 10.000, mean reward: 1.000 [1.000, 1.000], mean action: 0.900 [0.000, 1.000], mean observation: -0.124 [-2.485, 1.616], loss: 0.154988, mean_absolute_error: 2.929965, mean_q: 5.653317\n",
      "   700/50000: episode: 35, duration: 0.192s, episode steps: 37, steps per second: 193, episode reward: 37.000, mean reward: 1.000 [1.000, 1.000], mean action: 0.405 [0.000, 1.000], mean observation: 0.047 [-1.399, 2.362], loss: 0.181799, mean_absolute_error: 2.929511, mean_q: 5.631456\n",
      "   735/50000: episode: 36, duration: 0.181s, episode steps: 35, steps per second: 193, episode reward: 35.000, mean reward: 1.000 [1.000, 1.000], mean action: 0.543 [0.000, 1.000], mean observation: 0.102 [-0.608, 0.884], loss: 0.212961, mean_absolute_error: 3.074551, mean_q: 5.904660\n",
      "   757/50000: episode: 37, duration: 0.120s, episode steps: 22, steps per second: 183, episode reward: 22.000, mean reward: 1.000 [1.000, 1.000], mean action: 0.545 [0.000, 1.000], mean observation: -0.060 [-1.535, 0.994], loss: 0.296254, mean_absolute_error: 3.173027, mean_q: 6.028390\n",
      "   771/50000: episode: 38, duration: 0.074s, episode steps: 14, steps per second: 188, episode reward: 14.000, mean reward: 1.000 [1.000, 1.000], mean action: 0.286 [0.000, 1.000], mean observation: 0.108 [-1.164, 2.121], loss: 0.207172, mean_absolute_error: 3.241408, mean_q: 6.243365\n",
      "   790/50000: episode: 39, duration: 0.097s, episode steps: 19, steps per second: 197, episode reward: 19.000, mean reward: 1.000 [1.000, 1.000], mean action: 0.632 [0.000, 1.000], mean observation: -0.087 [-1.888, 0.990], loss: 0.166297, mean_absolute_error: 3.337808, mean_q: 6.529961\n",
      "   811/50000: episode: 40, duration: 0.114s, episode steps: 21, steps per second: 184, episode reward: 21.000, mean reward: 1.000 [1.000, 1.000], mean action: 0.429 [0.000, 1.000], mean observation: 0.077 [-0.810, 1.585], loss: 0.243716, mean_absolute_error: 3.371956, mean_q: 6.519587\n",
      "   857/50000: episode: 41, duration: 0.232s, episode steps: 46, steps per second: 198, episode reward: 46.000, mean reward: 1.000 [1.000, 1.000], mean action: 0.543 [0.000, 1.000], mean observation: -0.017 [-1.694, 0.808], loss: 0.234912, mean_absolute_error: 3.494079, mean_q: 6.782974\n",
      "   872/50000: episode: 42, duration: 0.078s, episode steps: 15, steps per second: 193, episode reward: 15.000, mean reward: 1.000 [1.000, 1.000], mean action: 0.600 [0.000, 1.000], mean observation: -0.097 [-1.749, 1.123], loss: 0.199559, mean_absolute_error: 3.581892, mean_q: 7.010359\n",
      "   908/50000: episode: 43, duration: 0.186s, episode steps: 36, steps per second: 194, episode reward: 36.000, mean reward: 1.000 [1.000, 1.000], mean action: 0.556 [0.000, 1.000], mean observation: -0.002 [-1.636, 1.006], loss: 0.229735, mean_absolute_error: 3.707119, mean_q: 7.230443\n",
      "   932/50000: episode: 44, duration: 0.122s, episode steps: 24, steps per second: 197, episode reward: 24.000, mean reward: 1.000 [1.000, 1.000], mean action: 0.500 [0.000, 1.000], mean observation: -0.072 [-1.102, 0.634], loss: 0.257261, mean_absolute_error: 3.853631, mean_q: 7.506067\n",
      "  1026/50000: episode: 45, duration: 0.470s, episode steps: 94, steps per second: 200, episode reward: 94.000, mean reward: 1.000 [1.000, 1.000], mean action: 0.489 [0.000, 1.000], mean observation: 0.007 [-1.232, 1.188], loss: 0.231906, mean_absolute_error: 4.099706, mean_q: 8.063335\n",
      "  1063/50000: episode: 46, duration: 0.186s, episode steps: 37, steps per second: 199, episode reward: 37.000, mean reward: 1.000 [1.000, 1.000], mean action: 0.459 [0.000, 1.000], mean observation: 0.112 [-0.768, 1.747], loss: 0.327402, mean_absolute_error: 4.313377, mean_q: 8.442416\n",
      "  1105/50000: episode: 47, duration: 0.214s, episode steps: 42, steps per second: 196, episode reward: 42.000, mean reward: 1.000 [1.000, 1.000], mean action: 0.476 [0.000, 1.000], mean observation: -0.027 [-0.972, 0.629], loss: 0.266695, mean_absolute_error: 4.508072, mean_q: 8.915560\n",
      "  1255/50000: episode: 48, duration: 0.749s, episode steps: 150, steps per second: 200, episode reward: 150.000, mean reward: 1.000 [1.000, 1.000], mean action: 0.507 [0.000, 1.000], mean observation: 0.123 [-1.351, 1.482], loss: 0.313055, mean_absolute_error: 4.852047, mean_q: 9.601523\n",
      "  1292/50000: episode: 49, duration: 0.184s, episode steps: 37, steps per second: 201, episode reward: 37.000, mean reward: 1.000 [1.000, 1.000], mean action: 0.459 [0.000, 1.000], mean observation: 0.017 [-0.887, 1.404], loss: 0.309777, mean_absolute_error: 5.244401, mean_q: 10.441366\n",
      "  1312/50000: episode: 50, duration: 0.107s, episode steps: 20, steps per second: 187, episode reward: 20.000, mean reward: 1.000 [1.000, 1.000], mean action: 0.500 [0.000, 1.000], mean observation: -0.102 [-1.023, 0.569], loss: 0.156158, mean_absolute_error: 5.323470, mean_q: 10.688594\n",
      "  1419/50000: episode: 51, duration: 0.581s, episode steps: 107, steps per second: 184, episode reward: 107.000, mean reward: 1.000 [1.000, 1.000], mean action: 0.495 [0.000, 1.000], mean observation: -0.103 [-1.280, 1.062], loss: 0.339271, mean_absolute_error: 5.614001, mean_q: 11.291522\n",
      "  1481/50000: episode: 52, duration: 0.336s, episode steps: 62, steps per second: 185, episode reward: 62.000, mean reward: 1.000 [1.000, 1.000], mean action: 0.452 [0.000, 1.000], mean observation: -0.208 [-1.551, 1.380], loss: 0.366363, mean_absolute_error: 5.899202, mean_q: 11.892343\n",
      "  1658/50000: episode: 53, duration: 0.954s, episode steps: 177, steps per second: 186, episode reward: 177.000, mean reward: 1.000 [1.000, 1.000], mean action: 0.486 [0.000, 1.000], mean observation: -0.259 [-1.443, 0.936], loss: 0.379503, mean_absolute_error: 6.446212, mean_q: 12.988245\n",
      "  1858/50000: episode: 54, duration: 1.709s, episode steps: 200, steps per second: 117, episode reward: 200.000, mean reward: 1.000 [1.000, 1.000], mean action: 0.520 [0.000, 1.000], mean observation: 0.212 [-1.182, 1.839], loss: 0.445658, mean_absolute_error: 7.332262, mean_q: 14.858203\n",
      "  1913/50000: episode: 55, duration: 0.916s, episode steps: 55, steps per second: 60, episode reward: 55.000, mean reward: 1.000 [1.000, 1.000], mean action: 0.473 [0.000, 1.000], mean observation: 0.003 [-1.138, 1.104], loss: 0.734647, mean_absolute_error: 7.941621, mean_q: 15.987750\n",
      "  2077/50000: episode: 56, duration: 2.733s, episode steps: 164, steps per second: 60, episode reward: 164.000, mean reward: 1.000 [1.000, 1.000], mean action: 0.463 [0.000, 1.000], mean observation: -0.387 [-2.414, 0.838], loss: 0.499159, mean_absolute_error: 8.443274, mean_q: 17.129040\n",
      "  2115/50000: episode: 57, duration: 0.633s, episode steps: 38, steps per second: 60, episode reward: 38.000, mean reward: 1.000 [1.000, 1.000], mean action: 0.553 [0.000, 1.000], mean observation: 0.037 [-1.443, 1.325], loss: 0.539440, mean_absolute_error: 8.926404, mean_q: 18.026857\n",
      "  2284/50000: episode: 58, duration: 2.817s, episode steps: 169, steps per second: 60, episode reward: 169.000, mean reward: 1.000 [1.000, 1.000], mean action: 0.467 [0.000, 1.000], mean observation: -0.357 [-1.993, 0.905], loss: 0.642438, mean_absolute_error: 9.386331, mean_q: 19.038887\n",
      "  2484/50000: episode: 59, duration: 3.332s, episode steps: 200, steps per second: 60, episode reward: 200.000, mean reward: 1.000 [1.000, 1.000], mean action: 0.495 [0.000, 1.000], mean observation: -0.126 [-0.974, 1.014], loss: 0.865170, mean_absolute_error: 10.185779, mean_q: 20.654455\n",
      "  2684/50000: episode: 60, duration: 3.334s, episode steps: 200, steps per second: 60, episode reward: 200.000, mean reward: 1.000 [1.000, 1.000], mean action: 0.485 [0.000, 1.000], mean observation: -0.135 [-1.536, 1.141], loss: 1.004474, mean_absolute_error: 11.166721, mean_q: 22.619263\n",
      "  2884/50000: episode: 61, duration: 3.333s, episode steps: 200, steps per second: 60, episode reward: 200.000, mean reward: 1.000 [1.000, 1.000], mean action: 0.480 [0.000, 1.000], mean observation: -0.239 [-1.884, 1.066], loss: 1.082172, mean_absolute_error: 12.056448, mean_q: 24.494829\n",
      "  3084/50000: episode: 62, duration: 2.239s, episode steps: 200, steps per second: 89, episode reward: 200.000, mean reward: 1.000 [1.000, 1.000], mean action: 0.480 [0.000, 1.000], mean observation: -0.296 [-2.015, 0.943], loss: 0.932351, mean_absolute_error: 12.996494, mean_q: 26.470726\n",
      "  3284/50000: episode: 63, duration: 1.026s, episode steps: 200, steps per second: 195, episode reward: 200.000, mean reward: 1.000 [1.000, 1.000], mean action: 0.490 [0.000, 1.000], mean observation: -0.104 [-1.286, 1.098], loss: 1.478416, mean_absolute_error: 13.852886, mean_q: 28.090849\n",
      "  3477/50000: episode: 64, duration: 0.959s, episode steps: 193, steps per second: 201, episode reward: 193.000, mean reward: 1.000 [1.000, 1.000], mean action: 0.472 [0.000, 1.000], mean observation: -0.385 [-2.442, 0.778], loss: 1.460182, mean_absolute_error: 14.735758, mean_q: 29.958954\n",
      "  3677/50000: episode: 65, duration: 1.040s, episode steps: 200, steps per second: 192, episode reward: 200.000, mean reward: 1.000 [1.000, 1.000], mean action: 0.480 [0.000, 1.000], mean observation: -0.299 [-2.031, 1.086], loss: 1.379021, mean_absolute_error: 15.596416, mean_q: 31.678858\n",
      "  3877/50000: episode: 66, duration: 1.041s, episode steps: 200, steps per second: 192, episode reward: 200.000, mean reward: 1.000 [1.000, 1.000], mean action: 0.485 [0.000, 1.000], mean observation: -0.140 [-1.124, 1.108], loss: 1.289576, mean_absolute_error: 16.334749, mean_q: 33.193615\n"
     ]
    }
   ],
   "source": [
    "dqn.fit(env, nb_steps=50000, visualize=True, verbose=2)\n",
    "\n",
    "# After training is done, we save the final weights.\n",
    "dqn.save_weights('dqn_{}_weights.h5f'.format(ENV_NAME), overwrite=True)"
   ]
  },
  {
   "cell_type": "markdown",
   "metadata": {},
   "source": [
    "#### Evaluate our algorithm for 5 episodes."
   ]
  },
  {
   "cell_type": "code",
   "execution_count": null,
   "metadata": {
    "collapsed": false
   },
   "outputs": [],
   "source": [
    "dqn.test(env, nb_episodes=5, visualize=True)"
   ]
  },
  {
   "cell_type": "code",
   "execution_count": null,
   "metadata": {
    "collapsed": true
   },
   "outputs": [],
   "source": []
  }
 ],
 "metadata": {
  "kernelspec": {
   "display_name": "Python 2",
   "language": "python",
   "name": "python2"
  },
  "language_info": {
   "codemirror_mode": {
    "name": "ipython",
    "version": 2
   },
   "file_extension": ".py",
   "mimetype": "text/x-python",
   "name": "python",
   "nbconvert_exporter": "python",
   "pygments_lexer": "ipython2",
   "version": "2.7.13"
  }
 },
 "nbformat": 4,
 "nbformat_minor": 2
}
