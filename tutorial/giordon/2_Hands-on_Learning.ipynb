{
 "cells": [
  {
   "cell_type": "code",
   "execution_count": 1,
   "metadata": {
    "scrolled": true
   },
   "outputs": [
    {
     "name": "stdout",
     "output_type": "stream",
     "text": [
      "hello world\n"
     ]
    }
   ],
   "source": [
    "print \"hello world\""
   ]
  },
  {
   "cell_type": "markdown",
   "metadata": {},
   "source": [
    "<a name=\"top\"></a> Table of Contents\n",
    "====================================\n",
    "\n",
    "- [Introduction to Git and Python](#intro)\n",
    "  - [Overview of Git](#overview-git)\n",
    "  - [Overview of Python](#overview-python)\n",
    "- [Getting Started with Git](#start-git)\n",
    "- [The Flying Circus (Getting Started with Python)](#start-python)\n",
    "  - Statements\n",
    "    - [Python Futures](#python-futures)\n",
    "    - [Hello World](#hello-world)\n",
    "    - [Your Second Statement](#import-statement)\n",
    "    - [The Future of Hello World](#hello-world-future)\n",
    "  - [Input/Output](#input-output)\n",
    "    - [Input](#input)\n",
    "      - [Raw](#input-raw)\n",
    "      - [Plain Text](#input-plain)\n",
    "      - [JSON](#input-json)\n",
    "      - [ROOT and HDF5](#input-root-hdf5)\n",
    "    - [Output](#output)\n",
    "      - [Hello World](#output-hello-world)\n",
    "      - [Plain Text](#output-plain)\n",
    "      - [JSON](#output-json)\n",
    "    - [Iterables](#iterables)\n",
    "      - [List](#iterables-list)\n",
    "      - [Set](#iterables-set)\n",
    "      - [Dictionary](#iterables-dict)\n",
    "      - [Tuple](#iterables-tuple)\n",
    "      - [String](#iterables-str)\n",
    "      - [File](#iterables-file)\n",
    "      "
   ]
  },
  {
   "cell_type": "markdown",
   "metadata": {},
   "source": [
    "<img src=\"https://git-scm.com/images/logos/downloads/Git-Logo-2Color.png\" alt=\"git logo\" width=\"125\" />\n",
    "\n",
    "<img src=\"https://www.python.org/static/community_logos/python-logo-master-v3-TM.png\" alt=\"python logo\" width=\"250\"/>\n",
    "\n",
    "------\n",
    "\n",
    "<a name=\"intro\"></a> Introduction to Git and Python\n",
    "===================================================\n",
    "\n",
    "Welcome to the first tutorial of the EFI workshop. The goal for today:\n",
    "- familiarity with ``Python``\n",
    "- familiarity with ``Git``\n",
    "- understand common Python concepts\n",
    "- gain foundation to succeed in the rest of the workshop\n",
    "\n",
    "<a name=\"overview-git\"></a> Overview of Git\n",
    "-------------------------------------------\n",
    "\n",
    "**What is git?**\n",
    "- distributed revision control system\n",
    "- blazing fast\n",
    "- free and open-sourced software\n",
    "\n",
    "**Git as a historical tree**\n",
    "\n",
    "- All changes start on the ``master`` timeline -- a ``branch``\n",
    "- Can create a new ``branch`` to diverge, make changes, and then merge it back in to ``master``\n",
    "- Always have a mental image of a tree like the below diagram\n",
    "\n",
    "```\n",
    "                  Branch A\n",
    "               o--o--o--o----o-------....\n",
    "              /               \\ Merge\n",
    "Master o--o--o ----------------o-----....\n",
    "             \\\n",
    "              o--o--o-----o----o-----....\n",
    "                  Branch B\n",
    "```\n",
    "\n",
    "**Who uses Git?**\n",
    "- [GitHub](<https://github.com/>) -- online community that is free for anyone to create and share public projects and repositories\n",
    "- [GitLab](https://about.gitlab.com/) -- online, open-sourced software that you can install on a server, maintain it yourself, and have your collaborators contribute.\n",
    "\n",
    "CERN, for example, maintains a [GitLab instance](http://information-technology.web.cern.ch/services/git-service) for all CERN users and experiments including (but not limited to) LHC, ATLAS, and CMS.\n",
    "\n",
    "| GitHub | GitLab |\n",
    "|:------:|:------:|\n",
    "|<img src=\"https://assets-cdn.github.com/images/modules/logos_page/GitHub-Mark.png\" alt=\"github logo\" width=\"100\" /> | <img src=\"https://cdn.worldvectorlogo.com/logos/gitlab.svg\" alt=\"gitlab logo\" width=\"100\" /> |\n",
    "\n",
    "There is a lot more to Git which will not be covered today, but if you have time to learn some more advanced concepts, try [learning about Git branching](https://learngitbranching.js.org/)!\n",
    "\n",
    "<a name=\"overview-python\"></a> Overview of Python\n",
    "-------------------------------------------------\n",
    "\n",
    "**What is [Python](https://docs.python.org/3/tutorial/appetite.html)?**\n",
    "- a *real* [high-level] programming language\n",
    "- simple to use, easy to learn\n",
    "- extensible and can execute compiled C-code directly\n",
    "\n",
    "I will include a very brief example of being able to compile an existing C/C++ libary to allow it to interface with ``Python`` as if it was a ``Python`` package!\n",
    "\n",
    "<a name=\"start-git\"></a> Getting Started with Git\n",
    "===========================================================\n",
    "\n",
    "Click this link and enjoy the interactive tutorial: https://try.github.io ."
   ]
  },
  {
   "cell_type": "markdown",
   "metadata": {},
   "source": [
    "# <a name=\"start-python\"></a> The Flying Circus (Getting started with Python)\n",
    "\n",
    "## <a name=\"python-futures\"></a> Python Futures\n",
    "\n",
    "For the point of the tutorial today, we'll focus on Python 2.7 - however Python 3 does exist.\n",
    "\n",
    "**Why are there two Pythons?**\n",
    "\n",
    "- [Python 3 is a newer version of Python.](https://wiki.python.org/moin/Python2orPython3)\n",
    "- Many people stil use Python 2.\n",
    "\n",
    "Physicists in CERN rely primarily on python 2.7 as part of their analysis and development efforts. That doesn't mean you should use 2.7 or you will be forced to use it. Feel free to do the research and understand the differences, but realize that **2.X is on end-of-life releases while 3.X undergoes active development**."
   ]
  },
  {
   "cell_type": "markdown",
   "metadata": {},
   "source": [
    "## <a name=\"hello-world\"></a> Hello World\n",
    "\n",
    "When programmers are learning a new language, we tend to write a one-line program that prints some version of the message \"Hello world!\" this is a simple program that shows whether your computer is properly set up to run Python programs. Let's try it out."
   ]
  },
  {
   "cell_type": "code",
   "execution_count": 1,
   "metadata": {},
   "outputs": [
    {
     "name": "stdout",
     "output_type": "stream",
     "text": [
      "Hello World!\n"
     ]
    }
   ],
   "source": [
    "print \"Hello World!\""
   ]
  },
  {
   "cell_type": "markdown",
   "metadata": {},
   "source": [
    "What just happened? A string defined in python ``\"Hello World!\"`` is printed out to ``STDOUT`` - your console, this Jupyter notebook, along with an automatically added newline character."
   ]
  },
  {
   "cell_type": "code",
   "execution_count": 2,
   "metadata": {},
   "outputs": [
    {
     "data": {
      "text/plain": [
       "str"
      ]
     },
     "execution_count": 2,
     "metadata": {},
     "output_type": "execute_result"
    }
   ],
   "source": [
    "type(\"Hello World!\")"
   ]
  },
  {
   "cell_type": "code",
   "execution_count": 4,
   "metadata": {},
   "outputs": [
    {
     "name": "stdout",
     "output_type": "stream",
     "text": [
      "Hakuna Matata!\n",
      "What a wonderful phrase...\n",
      "Hakuna Matata!\n",
      "It ain't no passing craze...\n",
      "It means no worries... for the rest of your days\n"
     ]
    }
   ],
   "source": [
    "timon = \"Hakuna Matata!\"\n",
    "print timon\n",
    "print \"What a wonderful phrase...\"\n",
    "print timon\n",
    "print \"It ain't no passing craze...\"\n",
    "print \"It means no worries...\", \"for the rest of your days\""
   ]
  },
  {
   "cell_type": "markdown",
   "metadata": {},
   "source": [
    "and so clearly, you can already start understand how easy it is to print anything that has a representation. Variables can be printed, functions and classes can also be printed. But what if you wanted to print something on the same line? You can use ``print foo, bar`` of course, but what about using two ``print`` statements?\n",
    "\n",
    "It might seem annoying sometimes that there's always a newline appended - but you can use a nifty shortcut by ending your ``print`` statement with a comma (``,``)"
   ]
  },
  {
   "cell_type": "code",
   "execution_count": 2,
   "metadata": {},
   "outputs": [
    {
     "ename": "NameError",
     "evalue": "name 'timon' is not defined",
     "output_type": "error",
     "traceback": [
      "\u001b[0;31m---------------------------------------------------------------------------\u001b[0m",
      "\u001b[0;31mNameError\u001b[0m                                 Traceback (most recent call last)",
      "\u001b[0;32m<ipython-input-2-d29e32609120>\u001b[0m in \u001b[0;36m<module>\u001b[0;34m()\u001b[0m\n\u001b[0;32m----> 1\u001b[0;31m \u001b[0;32mprint\u001b[0m \u001b[0mtimon\u001b[0m\u001b[0;34m\u001b[0m\u001b[0m\n\u001b[0m\u001b[1;32m      2\u001b[0m \u001b[0;32mprint\u001b[0m \u001b[0;34m\"What a wonderful phrase...\"\u001b[0m\u001b[0;34m\u001b[0m\u001b[0m\n\u001b[1;32m      3\u001b[0m \u001b[0;32mprint\u001b[0m \u001b[0mtimon\u001b[0m\u001b[0;34m,\u001b[0m\u001b[0;34m\u001b[0m\u001b[0m\n\u001b[1;32m      4\u001b[0m \u001b[0;32mprint\u001b[0m \u001b[0;34m\"It ain't no passing craze...\"\u001b[0m\u001b[0;34m\u001b[0m\u001b[0m\n\u001b[1;32m      5\u001b[0m \u001b[0;32mprint\u001b[0m \u001b[0;34m\"It means no worries...\"\u001b[0m\u001b[0;34m,\u001b[0m\u001b[0;34m\u001b[0m\u001b[0m\n",
      "\u001b[0;31mNameError\u001b[0m: name 'timon' is not defined"
     ]
    }
   ],
   "source": [
    "print timon\n",
    "print \"What a wonderful phrase...\"\n",
    "print timon,\n",
    "print \"It ain't no passing craze...\"\n",
    "print \"It means no worries...\",\n",
    "print \"for the rest of your days\""
   ]
  },
  {
   "cell_type": "markdown",
   "metadata": {},
   "source": [
    "## <a name=\"import-statement\"></a> Your Second Statement\n",
    "\n",
    "To being the process of python coding, you should get introduced to your second statement: ``import``. This allows you to import modules and packages into the scope of your code and interface with other peoples sweat and tears. Let's start with the classic easter egg:"
   ]
  },
  {
   "cell_type": "code",
   "execution_count": 1,
   "metadata": {},
   "outputs": [],
   "source": [
    "import antigravity"
   ]
  },
  {
   "cell_type": "markdown",
   "metadata": {},
   "source": [
    "Now, it's time for your first exercise. Try importing a module called ``this``"
   ]
  },
  {
   "cell_type": "code",
   "execution_count": 7,
   "metadata": {},
   "outputs": [],
   "source": [
    "# go ahead and import it!"
   ]
  },
  {
   "cell_type": "markdown",
   "metadata": {},
   "source": [
    "When you import a module, the name of that module goes into scope and its API is accessible under the same name. If the above two modules actually imported anything, you would be able to access it via ``antigravity.something`` or ``this.that``. As a concrete example, let's import the [``types`` library](https://docs.python.org/2/library/types.html) and see what sorts of things are included when importing it."
   ]
  },
  {
   "cell_type": "code",
   "execution_count": 8,
   "metadata": {},
   "outputs": [
    {
     "data": {
      "text/plain": [
       "['BooleanType',\n",
       " 'BufferType',\n",
       " 'BuiltinFunctionType',\n",
       " 'BuiltinMethodType',\n",
       " 'ClassType',\n",
       " 'CodeType',\n",
       " 'ComplexType',\n",
       " 'DictProxyType',\n",
       " 'DictType',\n",
       " 'DictionaryType',\n",
       " 'EllipsisType',\n",
       " 'FileType',\n",
       " 'FloatType',\n",
       " 'FrameType',\n",
       " 'FunctionType',\n",
       " 'GeneratorType',\n",
       " 'GetSetDescriptorType',\n",
       " 'InstanceType',\n",
       " 'IntType',\n",
       " 'LambdaType',\n",
       " 'ListType',\n",
       " 'LongType',\n",
       " 'MemberDescriptorType',\n",
       " 'MethodType',\n",
       " 'ModuleType',\n",
       " 'NoneType',\n",
       " 'NotImplementedType',\n",
       " 'ObjectType',\n",
       " 'SliceType',\n",
       " 'StringType',\n",
       " 'StringTypes',\n",
       " 'TracebackType',\n",
       " 'TupleType',\n",
       " 'TypeType',\n",
       " 'UnboundMethodType',\n",
       " 'UnicodeType',\n",
       " 'XRangeType',\n",
       " '__all__',\n",
       " '__builtins__',\n",
       " '__doc__',\n",
       " '__file__',\n",
       " '__name__',\n",
       " '__package__']"
      ]
     },
     "execution_count": 8,
     "metadata": {},
     "output_type": "execute_result"
    }
   ],
   "source": [
    "import types\n",
    "dir(types)"
   ]
  },
  {
   "cell_type": "code",
   "execution_count": 9,
   "metadata": {},
   "outputs": [
    {
     "data": {
      "text/plain": [
       "bool"
      ]
     },
     "execution_count": 9,
     "metadata": {},
     "output_type": "execute_result"
    }
   ],
   "source": [
    "types.BooleanType"
   ]
  },
  {
   "cell_type": "markdown",
   "metadata": {},
   "source": [
    "This means that I can do something like ``from types import BooleanType`` to only extract a specific variable, class, or function instead! I can even rename it during ``import`` if I have name-conflicts:\n",
    "\n",
    "```python\n",
    "import types as MyTypes\n",
    "from types import BooleanType as AnotherBooleanType\n",
    "```"
   ]
  },
  {
   "cell_type": "markdown",
   "metadata": {},
   "source": [
    "## <a name=\"hello-world-future\"></a> The Future of Hello World\n",
    "\n",
    "However, you might have noticed that I say\n",
    "\n",
    "> ``print`` statement\n",
    "\n",
    "and not ``print`` function. There's a reason for this. I also introduced ``import`` as the second statement you have learned so far... Here's why!\n",
    "\n",
    "In Python, functions are defined"
   ]
  },
  {
   "cell_type": "code",
   "execution_count": 10,
   "metadata": {},
   "outputs": [],
   "source": [
    "# define a function named \"what_does_the_fox_say\"\n",
    "def what_does_the_fox_say():\n",
    "    print \"Ring-ding-ding-ding-dingeringeding\""
   ]
  },
  {
   "cell_type": "markdown",
   "metadata": {},
   "source": [
    "and then executed"
   ]
  },
  {
   "cell_type": "code",
   "execution_count": 11,
   "metadata": {},
   "outputs": [
    {
     "name": "stdout",
     "output_type": "stream",
     "text": [
      "Ring-ding-ding-ding-dingeringeding\n"
     ]
    }
   ],
   "source": [
    "what_does_the_fox_say()"
   ]
  },
  {
   "cell_type": "markdown",
   "metadata": {},
   "source": [
    "and we get all sorts of remarkable properties on these functions, which you can view by running the [``dir``](https://docs.python.org/2/library/functions.html#dir) command"
   ]
  },
  {
   "cell_type": "code",
   "execution_count": 12,
   "metadata": {},
   "outputs": [
    {
     "data": {
      "text/plain": [
       "['__call__',\n",
       " '__class__',\n",
       " '__closure__',\n",
       " '__code__',\n",
       " '__defaults__',\n",
       " '__delattr__',\n",
       " '__dict__',\n",
       " '__doc__',\n",
       " '__format__',\n",
       " '__get__',\n",
       " '__getattribute__',\n",
       " '__globals__',\n",
       " '__hash__',\n",
       " '__init__',\n",
       " '__module__',\n",
       " '__name__',\n",
       " '__new__',\n",
       " '__reduce__',\n",
       " '__reduce_ex__',\n",
       " '__repr__',\n",
       " '__setattr__',\n",
       " '__sizeof__',\n",
       " '__str__',\n",
       " '__subclasshook__',\n",
       " 'func_closure',\n",
       " 'func_code',\n",
       " 'func_defaults',\n",
       " 'func_dict',\n",
       " 'func_doc',\n",
       " 'func_globals',\n",
       " 'func_name']"
      ]
     },
     "execution_count": 12,
     "metadata": {},
     "output_type": "execute_result"
    }
   ],
   "source": [
    "dir(what_does_the_fox_say)"
   ]
  },
  {
   "cell_type": "markdown",
   "metadata": {},
   "source": [
    "such as maybe printing out the name of the function"
   ]
  },
  {
   "cell_type": "code",
   "execution_count": 13,
   "metadata": {},
   "outputs": [
    {
     "data": {
      "text/plain": [
       "'what_does_the_fox_say'"
      ]
     },
     "execution_count": 13,
     "metadata": {},
     "output_type": "execute_result"
    }
   ],
   "source": [
    "what_does_the_fox_say.__name__"
   ]
  },
  {
   "cell_type": "markdown",
   "metadata": {},
   "source": [
    "which seems a little redundant right now. But imagine you alias a function to another variable, but you want to do something based on the name of the function..."
   ]
  },
  {
   "cell_type": "code",
   "execution_count": 14,
   "metadata": {},
   "outputs": [
    {
     "name": "stdout",
     "output_type": "stream",
     "text": [
      "Ring-ding-ding-ding-dingeringeding\n"
     ]
    },
    {
     "data": {
      "text/plain": [
       "'what_does_the_fox_say'"
      ]
     },
     "execution_count": 14,
     "metadata": {},
     "output_type": "execute_result"
    }
   ],
   "source": [
    "# assign another variable that points to the function\n",
    "wdtfs = what_does_the_fox_say\n",
    "# execute the function\n",
    "wdtfs()\n",
    "# what is the name of the function?\n",
    "wdtfs.__name__"
   ]
  },
  {
   "cell_type": "markdown",
   "metadata": {},
   "source": [
    "As you can see, functions are objects in Python, otherwise known as *first class citizens*.\n",
    "\n",
    "[StackOverflow](https://stackoverflow.com/a/27392443/1532974):\n",
    "> A first-class function is not a particular kind of function. All functions in Python are first-class functions. To say that functions are first-class in a certain programming language means that they can be passed around and manipulated similarly to how you would pass around and manipulate other kinds of objects (like integers or strings). You can assign a function to a variable, pass it as an argument to another function, etc. The distinction is not that individual functions can be first class or not, but that entire languages may treat functions as first-class objects, or may not.\n",
    "\n",
    "Notice how the function in Python has two parentheses wrapping the arguments (or the function signature). Is the ``print`` statement a function?"
   ]
  },
  {
   "cell_type": "code",
   "execution_count": 15,
   "metadata": {},
   "outputs": [],
   "source": [
    "# try it out: print(....) with a single string or a single variable of your choice!"
   ]
  },
  {
   "cell_type": "markdown",
   "metadata": {},
   "source": [
    "But this isn't quite right! In fact, the parentheses here, as we'll talking about, defines a [tuple](#tuple). This is somewhat deceiving but check it out:"
   ]
  },
  {
   "cell_type": "code",
   "execution_count": 16,
   "metadata": {},
   "outputs": [
    {
     "name": "stdout",
     "output_type": "stream",
     "text": [
      "('Hakuna Matata!', 'Hakuna Matata!')\n"
     ]
    }
   ],
   "source": [
    "print(timon,timon)"
   ]
  },
  {
   "cell_type": "markdown",
   "metadata": {},
   "source": [
    "so it seems to be printing out two strings in a tuple format... Is ``(timon, timon)`` a tuple?"
   ]
  },
  {
   "cell_type": "code",
   "execution_count": 17,
   "metadata": {},
   "outputs": [
    {
     "data": {
      "text/plain": [
       "tuple"
      ]
     },
     "execution_count": 17,
     "metadata": {},
     "output_type": "execute_result"
    }
   ],
   "source": [
    "type( (timon,timon) )"
   ]
  },
  {
   "cell_type": "markdown",
   "metadata": {},
   "source": [
    "It appears to be! But how would I know if something is a function or not? Use the ``type`` class!"
   ]
  },
  {
   "cell_type": "code",
   "execution_count": 18,
   "metadata": {},
   "outputs": [
    {
     "data": {
      "text/plain": [
       "function"
      ]
     },
     "execution_count": 18,
     "metadata": {},
     "output_type": "execute_result"
    }
   ],
   "source": [
    "type(what_does_the_fox_say)"
   ]
  },
  {
   "cell_type": "code",
   "execution_count": 19,
   "metadata": {},
   "outputs": [
    {
     "ename": "SyntaxError",
     "evalue": "invalid syntax (<ipython-input-19-4f63349bb2ec>, line 1)",
     "output_type": "error",
     "traceback": [
      "\u001b[0;36m  File \u001b[0;32m\"<ipython-input-19-4f63349bb2ec>\"\u001b[0;36m, line \u001b[0;32m1\u001b[0m\n\u001b[0;31m    type(print)\u001b[0m\n\u001b[0m             ^\u001b[0m\n\u001b[0;31mSyntaxError\u001b[0m\u001b[0;31m:\u001b[0m invalid syntax\n"
     ]
    }
   ],
   "source": [
    "type(print)"
   ]
  },
  {
   "cell_type": "markdown",
   "metadata": {},
   "source": [
    "My personal opinion is that this sort of thing can start to get confusing having a very special *statement* in Python. For the rest of the notebook, we'll replace the ``print`` statement with the ``print`` function instead, which is a lot more powerful as we shall soon see.\n",
    "\n",
    "Let's try and fix the error we've seen:"
   ]
  },
  {
   "cell_type": "code",
   "execution_count": 20,
   "metadata": {},
   "outputs": [
    {
     "ename": "SyntaxError",
     "evalue": "invalid syntax (<ipython-input-20-fb60d9ade086>, line 3)",
     "output_type": "error",
     "traceback": [
      "\u001b[0;36m  File \u001b[0;32m\"<ipython-input-20-fb60d9ade086>\"\u001b[0;36m, line \u001b[0;32m3\u001b[0m\n\u001b[0;31m    type(print)\u001b[0m\n\u001b[0m             ^\u001b[0m\n\u001b[0;31mSyntaxError\u001b[0m\u001b[0;31m:\u001b[0m invalid syntax\n"
     ]
    }
   ],
   "source": [
    "# go ahead and import print_function from the __future__ module\n",
    "\n",
    "type(print)"
   ]
  },
  {
   "cell_type": "markdown",
   "metadata": {},
   "source": [
    "<img src=\"https://upload.wikimedia.org/wikipedia/commons/9/92/CPT_Hardware-InputOutput.svg\" width=\"250\" alt=\"input-output diagram\" />\n",
    "\n",
    "## <a name=\"input-output\"></a> Input/Output\n",
    "\n",
    "In this section, I hope to highlight some of the different ways that you should be able to input data into your python scripts, as well as being able to extract it out.\n",
    "\n",
    "Lots of times, you might want to treat a python script as a single step in your processing chain. There could be a lot of variables, many places where something can go wrong. Rather than trying to create a one-stop-shop piece of code in Python that could do the full processing - it is much easier to build small snippets, process the data, output an intermediate result that gets fed into the next script down the chain.\n",
    "\n",
    "For now, let's focus on the different ways to input data. Passing command line arguments will be handled in a [later section](#argparse) since we'll focus on data first, not configuration. Editing a python script and re-running is a beginner (and slow) way to do configuration, but if it works, don't knock it!\n",
    "\n",
    "### <a name=\"input\"></a> Input\n",
    "\n",
    "In this section, we'll focus on the following ways to input files:\n",
    "- [raw input](https://docs.python.org/2/library/functions.html#raw_input) / user prompt\n",
    "- plain and delimited text files (comma, tabs/spaces, etc...)\n",
    "- [JSON (**J**ava**S**cript **O**bject **N**otation)](http://www.json.org/)\n",
    "- [ROOT](https://root.cern.ch/) data files\n",
    "- [HDF5](https://en.wikipedia.org/wiki/Hierarchical_Data_Format) data files\n",
    "\n",
    "For more information, see [python's tutorial](https://docs.python.org/2/tutorial/inputoutput.html) on input/output."
   ]
  },
  {
   "cell_type": "markdown",
   "metadata": {},
   "source": [
    "### <a name=\"input-raw\"></a> Raw Input\n",
    "\n",
    "Raw input is what I call prompting the user for input. This is done using the [``raw_input``](https://docs.python.org/2/library/functions.html#raw_input) built-in function. This blocks your script from continuing until the user has put some input in."
   ]
  },
  {
   "cell_type": "code",
   "execution_count": 22,
   "metadata": {},
   "outputs": [
    {
     "name": "stdout",
     "output_type": "stream",
     "text": [
      "('Greetings', 'Giordon')\n"
     ]
    }
   ],
   "source": [
    "name = raw_input(\"What is your name?\")\n",
    "print(\"Greetings\", name)"
   ]
  },
  {
   "cell_type": "markdown",
   "metadata": {},
   "source": [
    "This is the most dangerous form as you will need to santize and validate the user input. Imagine that the person typing input to your script is a chimpanzee and you need to program your script to allow them to use it without breaking it.\n",
    "\n",
    "Try running the above code with anything, or just press enter and type nothing in! You can get an idea of how to break a script if you're not careful about validating **all** crazy monkey inputs.\n",
    "\n",
    "But this alone can let you create some really clever or useful helper programs. I like to think of ``raw_input`` as a way to make my python script become a customized calculator for very specific calculations I do repetitively. This way, my script asks me for input, I give it the input, and let it calculate something for me.\n",
    "\n",
    "As an example of this idea, I'll demonstrate how you could create an adder with an infinite ``while`` loop."
   ]
  },
  {
   "cell_type": "code",
   "execution_count": 23,
   "metadata": {},
   "outputs": [
    {
     "name": "stdout",
     "output_type": "stream",
     "text": [
      "('Your total is', 0)\n"
     ]
    }
   ],
   "source": [
    "# start with nothing\n",
    "total = 0\n",
    "# loop infinitely\n",
    "while True:\n",
    "    number = raw_input(\"Gimme a number or press enter to continue: \")\n",
    "    if number.isdigit():\n",
    "        # as long as we're given something that\n",
    "        #  looks like a number... add it.\n",
    "        total += int(number)\n",
    "    else:\n",
    "        # break the loop\n",
    "        break\n",
    "# let's tell them what they've won!\n",
    "print(\"Your total is\", total)"
   ]
  },
  {
   "cell_type": "markdown",
   "metadata": {},
   "source": [
    "### <a name=\"input-plain\"></a> Plain Text\n",
    "\n",
    "Next up on input is dealing with plain text files. I would like to focus a little bit on the different ways you can read a text file. In the ``data`` directory are three files we will look at in this section. I will provide an explanation of how you might read them, and leave another as an exercise up to you. Feel free to play with these files."
   ]
  },
  {
   "cell_type": "code",
   "execution_count": 24,
   "metadata": {},
   "outputs": [
    {
     "name": "stdout",
     "output_type": "stream",
     "text": [
      "-rw-r--r--  1 kratsg  staff    18K Oct 28 13:30 plain_data/animals\r\n",
      "-rw-r--r--  1 kratsg  staff   174B Oct 28 14:18 plain_data/example.csv\r\n",
      "-rw-r--r--  1 kratsg  staff   174B Oct 28 14:33 plain_data/example.tsv\r\n"
     ]
    }
   ],
   "source": [
    "! ls -lavh plain_data/*"
   ]
  },
  {
   "cell_type": "markdown",
   "metadata": {},
   "source": [
    "The first file is ``animals`` which is a (non-exhaustive) list of animals, one animal per line. We would like to read this file into a Python [list](#list). Don't worry about what a Python list is (if you're unfamiliar) but it is like an array. The goal here is just to load the data file in.\n",
    "\n",
    "I will demonstrate some different ways to do it using [``open()``](https://docs.python.org/2/library/functions.html#open) a built-in function. This returns a file handler (or a file pointer). This means that you will need to make sure you manually close this file yourself when you are done with it, or you will leak a little bit of memory which is usually caught by the python garbage collection."
   ]
  },
  {
   "cell_type": "code",
   "execution_count": 25,
   "metadata": {},
   "outputs": [
    {
     "name": "stdout",
     "output_type": "stream",
     "text": [
      "(<open file 'plain_data/animals', mode 'r' at 0x104dde9c0>, <type 'file'>)\n",
      "(<closed file 'plain_data/animals', mode 'r' at 0x104dde9c0>, <type 'file'>)\n"
     ]
    }
   ],
   "source": [
    "# r means open this file in read-only mode\n",
    "fh = open(\"plain_data/animals\", \"r\")\n",
    "print(fh, type(fh))\n",
    "\n",
    "# do something in between\n",
    "\n",
    "# always make sure to close the file when you are done with it\n",
    "fh.close()\n",
    "print(fh, type(fh))"
   ]
  },
  {
   "cell_type": "markdown",
   "metadata": {},
   "source": [
    "If you keep re-running the above code, notice that the file pointer changes. You really are opening this file, and then closing it. Obviously, we would like to read the contents of the file. There's a really handy intuitive method called ``read()`` that lets us do that!\n",
    "\n",
    "To read a file’s contents, call ``f.read(size)``, which reads some quantity of data and returns it as a string. ``size`` is an optional numeric argument. When ``size`` is omitted or negative, the entire contents of the file will be read and returned; it’s **your** problem if the file is twice as large as your machine’s memory. Otherwise, at most ``size`` bytes are read and returned. If the end of the file has been reached, ``f.read()`` will return an empty string (``\"\"``).\n",
    "\n",
    "Let's try it out."
   ]
  },
  {
   "cell_type": "code",
   "execution_count": 26,
   "metadata": {},
   "outputs": [
    {
     "name": "stdout",
     "output_type": "stream",
     "text": [
      "(<open file 'plain_data/animals', mode 'r' at 0x104ddedb0>, <type 'file'>)\n",
      "('aardvark\\naardwolf\\nabalone\\nabyssiniancat\\nabyssiniangroundhornbill\\nacaciarat\\nachillestang\\nacornbarnacle\\nacornweevil\\nacornwoodpecke', '\\n')\n",
      "'aardvark\\naardwolf\\nabalone\\nabyssiniancat\\nabyssiniangroundhornbill\\nacaciarat\\nachillestang\\nacornbarnacle\\nacornweevil\\nacornwoodpecke'\n",
      "('Data type: ', <type 'str'>)\n",
      "(<closed file 'plain_data/animals', mode 'r' at 0x104ddedb0>, <type 'file'>)\n"
     ]
    }
   ],
   "source": [
    "# r means open this file in read-only mode\n",
    "fh = open(\"plain_data/animals\", \"r\")\n",
    "print(fh, type(fh))\n",
    "\n",
    "# read the first 128 bytes from the file\n",
    "#    leave this blank (fh.read()) to read it all\n",
    "#    but there are a lot of animals, so let's not read it all\n",
    "data = fh.read(128)\n",
    "print(data, \"\\n\")\n",
    "print(repr(data))\n",
    "print(\"Data type: \", type(data))\n",
    "\n",
    "# always make sure to close the file when you are done with it\n",
    "fh.close()\n",
    "print(fh, type(fh))"
   ]
  },
  {
   "cell_type": "markdown",
   "metadata": {},
   "source": [
    "Notice that Python's ``print`` function will print the newline characters ``\\n`` by default. You can force it not to do this by wrapping the text in [``repr()``](https://docs.python.org/2/library/functions.html#func-repr) which prints the **repr**esentation of the text.\n",
    "\n",
    "This is a single string object. That's not entirely useful for our purposes, is it? We want to read this file, line by line. Perhaps we can read the entire file, then split it up by the newline delimiter -- but maybe we're limited by application memory. As it turns out, there is a ``readline()`` command.\n",
    "\n",
    "``f.readline()`` reads a single line from the file; a newline character (``\\n``) is left at the end of the string, and is only omitted on the last line of the file if the file doesn’t end in a newline. This makes the return value unambiguous; if ``f.readline()`` returns an empty string, the end of the file has been reached, while a blank line is represented by ``'\\n'``, a string containing only a single newline."
   ]
  },
  {
   "cell_type": "code",
   "execution_count": 27,
   "metadata": {},
   "outputs": [
    {
     "name": "stdout",
     "output_type": "stream",
     "text": [
      "(<open file 'plain_data/animals', mode 'r' at 0x104dde9c0>, <type 'file'>)\n",
      "'aardvark\\n'\n",
      "'aardwolf\\n'\n",
      "(<closed file 'plain_data/animals', mode 'r' at 0x104dde9c0>, <type 'file'>)\n"
     ]
    }
   ],
   "source": [
    "# r means open this file in read-only mode\n",
    "fh = open(\"plain_data/animals\", \"r\")\n",
    "print(fh, type(fh))\n",
    "\n",
    "data = fh.readline()\n",
    "print(repr(data))\n",
    "\n",
    "data = fh.readline()\n",
    "print(repr(data))\n",
    "\n",
    "# always make sure to close the file when you are done with it\n",
    "fh.close()\n",
    "print(fh, type(fh))"
   ]
  },
  {
   "cell_type": "markdown",
   "metadata": {},
   "source": [
    "and so now, we can read this file, line by line. But maybe you want all the lines. There's also a nifty ``readlines()`` command:"
   ]
  },
  {
   "cell_type": "code",
   "execution_count": 28,
   "metadata": {},
   "outputs": [
    {
     "name": "stdout",
     "output_type": "stream",
     "text": [
      "(<open file 'plain_data/animals', mode 'r' at 0x104ddedb0>, <type 'file'>)\n",
      "('There are', 1750, 'animals in the file.')\n",
      "(<closed file 'plain_data/animals', mode 'r' at 0x104ddedb0>, <type 'file'>)\n"
     ]
    }
   ],
   "source": [
    "# r means open this file in read-only mode\n",
    "fh = open(\"plain_data/animals\", \"r\")\n",
    "print(fh, type(fh))\n",
    "\n",
    "data = fh.readlines()\n",
    "# let's not print out all the animals\n",
    "print(\"There are\", len(data), \"animals in the file.\")\n",
    "\n",
    "# always make sure to close the file when you are done with it\n",
    "fh.close()\n",
    "print(fh, type(fh))"
   ]
  },
  {
   "cell_type": "markdown",
   "metadata": {},
   "source": [
    "Another, somewhat less undocumented way, is to use ``list()`` to cast the file pointer into a list object. In Python, this is a special case that automatically gives you a list."
   ]
  },
  {
   "cell_type": "code",
   "execution_count": 29,
   "metadata": {},
   "outputs": [
    {
     "name": "stdout",
     "output_type": "stream",
     "text": [
      "(<open file 'plain_data/animals', mode 'r' at 0x104dde9c0>, <type 'file'>)\n",
      "('There are', 1750, 'animals in the file.')\n",
      "(<closed file 'plain_data/animals', mode 'r' at 0x104dde9c0>, <type 'file'>)\n"
     ]
    }
   ],
   "source": [
    "# r means open this file in read-only mode\n",
    "fh = open(\"plain_data/animals\", \"r\")\n",
    "print(fh, type(fh))\n",
    "\n",
    "data = list(fh)\n",
    "# let's not print out all the animals\n",
    "print(\"There are\", len(data), \"animals in the file.\")\n",
    "\n",
    "# always make sure to close the file when you are done with it\n",
    "fh.close()\n",
    "print(fh, type(fh))"
   ]
  },
  {
   "cell_type": "markdown",
   "metadata": {},
   "source": [
    "Just beware that each element in this list will contain that pesky newline character at the end which is great for printing it to the screen... but not so much when you're trying to do data analysis. The [``strip()`` commands](https://docs.python.org/2/library/string.html#string.lstrip) (also ``lstrip()`` and ``rstrip()``) on ``str`` objects will remove the specified characters from the beginning/end of the string. If you don't specify a character to truncate, whitespace characters will be truncated by default."
   ]
  },
  {
   "cell_type": "code",
   "execution_count": 30,
   "metadata": {},
   "outputs": [
    {
     "name": "stdout",
     "output_type": "stream",
     "text": [
      "('left', '     outer space      ', 'right')\n",
      "('left', 'outer space', 'right')\n"
     ]
    }
   ],
   "source": [
    "print(\"left\", \"     outer space      \", \"right\")\n",
    "print(\"left\", \"     outer space      \".strip(), \"right\")"
   ]
  },
  {
   "cell_type": "markdown",
   "metadata": {},
   "source": [
    "Feel free to go back over some of the above examples and try using ``line.strip()`` instead! When reading plain text files, ``strip()`` and ``repr()`` are your friends.\n",
    "\n",
    "As you can imagine so far, it can start getting annoying to constanly remember to close the file when you're done. In fact, there's a statement for it! The [``with`` statement](https://docs.python.org/2/reference/compound_stmts.html#the-with-statement) will call the ``file.__enter__()`` and ``file.__exit__()`` methods automatically. Luckily for us, this means we can open files for reading and then immediately close them after when we are done. Here's a nice example:"
   ]
  },
  {
   "cell_type": "code",
   "execution_count": 31,
   "metadata": {},
   "outputs": [
    {
     "name": "stdout",
     "output_type": "stream",
     "text": [
      "(<open file 'plain_data/animals', mode 'r' at 0x104ddedb0>, <type 'file'>)\n",
      "(<closed file 'plain_data/animals', mode 'r' at 0x104ddedb0>, <type 'file'>)\n"
     ]
    }
   ],
   "source": [
    "with open(\"plain_data/animals\", \"r\") as fh:\n",
    "    print(fh, type(fh))\n",
    "\n",
    "print(fh, type(fh))"
   ]
  },
  {
   "cell_type": "markdown",
   "metadata": {},
   "source": [
    "So now, we can use the scope of the ``with`` statement to encapsulate the logic we need for reading files in this example. This is incredibly convenient. Let's try to do the same thing with a comma-separated file!"
   ]
  },
  {
   "cell_type": "code",
   "execution_count": 32,
   "metadata": {},
   "outputs": [
    {
     "name": "stdout",
     "output_type": "stream",
     "text": [
      "-rw-r--r--  1 kratsg  staff    18K Oct 28 13:30 plain_data/animals\r\n",
      "-rw-r--r--  1 kratsg  staff   174B Oct 28 14:18 plain_data/example.csv\r\n",
      "-rw-r--r--  1 kratsg  staff   174B Oct 28 14:33 plain_data/example.tsv\r\n"
     ]
    }
   ],
   "source": [
    "! ls -lavh plain_data/*"
   ]
  },
  {
   "cell_type": "markdown",
   "metadata": {},
   "source": [
    "The other two files here to focus on are comma-separated and tab-separated. These are plain text files as well. Like the ``animals`` file we just looked at where there was an animal for each line -- the other files have an entry, or event, or item for each line. The difference is that now, we have a delimiter that encodes more information per line that we need to extract in a meaningful way."
   ]
  },
  {
   "cell_type": "markdown",
   "metadata": {},
   "source": [
    "Using the [``csv`` library](https://docs.python.org/2/library/csv.html) provided, let's try reading in the comma-separated file!\n",
    "\n",
    "Let's look at what ``plain_data/example.csv`` contains so we know how to configure the reader:"
   ]
  },
  {
   "cell_type": "code",
   "execution_count": 33,
   "metadata": {},
   "outputs": [
    {
     "name": "stdout",
     "output_type": "stream",
     "text": [
      "Year,Make,Model,Price\r\n",
      "1997,Ford,E350,3000.00\r\n",
      "1999,Chevy,\"Venture, Extended Edition\",4900.00\r\n",
      "1999,Chevy,\"Venture, Extended Edition\",5000.00\r\n",
      "1996,Jeep,\"Grand Cherokee\",4799.00\r\n"
     ]
    }
   ],
   "source": [
    "! cat plain_data/example.csv"
   ]
  },
  {
   "cell_type": "markdown",
   "metadata": {},
   "source": [
    "As you can see, we want to make sure that the comma inside the quoted string, like ``\"Venture, Extended Edition\"`` isn't considered a delimiter. We will use ``\"`` as a quote character which is a way to let the csv reader flag when to split on the delimiter and when to not."
   ]
  },
  {
   "cell_type": "code",
   "execution_count": 34,
   "metadata": {},
   "outputs": [
    {
     "name": "stdout",
     "output_type": "stream",
     "text": [
      "('Headers:', \"['Year', 'Make', 'Model', 'Price']\")\n",
      "('Data:', \"[['1997', 'Ford', 'E350', '3000.00'], ['1999', 'Chevy', 'Venture, Extended Edition', '4900.00'], ['1999', 'Chevy', 'Venture, Extended Edition', '5000.00'], ['1996', 'Jeep', 'Grand Cherokee', '4799.00']]\")\n"
     ]
    }
   ],
   "source": [
    "import csv\n",
    "with open(\"plain_data/example.csv\") as fh:\n",
    "    reader = csv.reader(fh, delimiter=',', quotechar='\"')\n",
    "    # use next() to get the first line/entry/row/event from the file, which are the headers\n",
    "    headers = reader.next()\n",
    "    # use the list(fh) trick to just get a list of everything else!\n",
    "    data = list(reader)\n",
    "    \n",
    "print(\"Headers:\", repr(headers))\n",
    "print(\"Data:\", repr(data))"
   ]
  },
  {
   "cell_type": "markdown",
   "metadata": {},
   "source": [
    "As you can see, it was remarkably easy to extract out a comma-separated file correctly. What you see above is the list representation for the headers -- a list of 4 items. We called the ``next()`` on the reader (which acts like a file pointer for us).\n",
    "\n",
    "The data is represented as a list of lists. The important part here is that we were able to split up the file and extract out the data in a meaningful way. That's the goal of this section, to input data. We haven't discussed understanding it, or parsing it, or validating it, or doing calculations with it. This is where the crux of your time will be spent - analyzing and calculating. I hope these pieces of the code become less challenging and easier so you can focus on what really matters.\n",
    "\n",
    "Now for the **exercise**! There is one more file in here, a tab-separated file with the same data. Using the above code as inspiration, copied below for you -- can you produce the same ``print`` output as in the comma-separated case? Make sure you understan what each piece of code is doing. Don't be shy about bedazzling this code with ``print`` functions everywhere!"
   ]
  },
  {
   "cell_type": "code",
   "execution_count": 35,
   "metadata": {},
   "outputs": [
    {
     "name": "stdout",
     "output_type": "stream",
     "text": [
      "('Headers:', \"''\")\n",
      "('Data:', \"''\")\n"
     ]
    }
   ],
   "source": [
    "import csv\n",
    "with open(\"plain_data/example.tsv\") as fh:\n",
    "    reader = csv.reader(fh, delimiter=',', quotechar='\"')\n",
    "    # do some stuff here\n",
    "    headers = ''\n",
    "    data = ''\n",
    "    \n",
    "print(\"Headers:\", repr(headers))\n",
    "print(\"Data:\", repr(data))"
   ]
  },
  {
   "cell_type": "markdown",
   "metadata": {},
   "source": [
    "### <a name=\"input-json\"></a> JSON\n",
    "\n",
    "JSON is one of the most useful plain text formats you can get. Most languages have a JSON parser as you can see from the list at the bottom of [this page on JSON.org](http://www.json.org/). It also happens to be a very nice way to provide configuration for any script as well as a way to serialize data to pass between scripts in different languages that also happens to be human-readable. A more advanced version of JSON is known as [protobuf](https://github.com/google/protobuf) but I won't cover that.\n",
    "\n",
    "Let's just show a very simple example of reading a JSON file in ``json_data/``."
   ]
  },
  {
   "cell_type": "code",
   "execution_count": 36,
   "metadata": {},
   "outputs": [
    {
     "name": "stdout",
     "output_type": "stream",
     "text": [
      "-rw-r--r--  1 kratsg  staff    80B Oct 28 16:54 json_data/example.json\r\n"
     ]
    }
   ],
   "source": [
    "! ls -lavh json_data/*"
   ]
  },
  {
   "cell_type": "code",
   "execution_count": 37,
   "metadata": {},
   "outputs": [
    {
     "name": "stdout",
     "output_type": "stream",
     "text": [
      "{\r\n",
      "    \"string\": \"value\",\r\n",
      "    \"integer\": 1,\r\n",
      "    \"float\": 2.0,\r\n",
      "    \"bool\": true\r\n",
      "}\r\n"
     ]
    }
   ],
   "source": [
    "! cat json_data/example.json"
   ]
  },
  {
   "cell_type": "markdown",
   "metadata": {},
   "source": [
    "As you can see, the JSON data looks perfectly readable. With Python, we just use the JSON library in order to load this up."
   ]
  },
  {
   "cell_type": "code",
   "execution_count": 38,
   "metadata": {},
   "outputs": [
    {
     "ename": "AttributeError",
     "evalue": "'str' object has no attribute 'read'",
     "output_type": "error",
     "traceback": [
      "\u001b[0;31m---------------------------------------------------------------------------\u001b[0m",
      "\u001b[0;31mAttributeError\u001b[0m                            Traceback (most recent call last)",
      "\u001b[0;32m<ipython-input-38-245427bafba7>\u001b[0m in \u001b[0;36m<module>\u001b[0;34m()\u001b[0m\n\u001b[1;32m      1\u001b[0m \u001b[0;32mimport\u001b[0m \u001b[0mjson\u001b[0m\u001b[0;34m\u001b[0m\u001b[0m\n\u001b[0;32m----> 2\u001b[0;31m \u001b[0mjson\u001b[0m\u001b[0;34m.\u001b[0m\u001b[0mload\u001b[0m\u001b[0;34m(\u001b[0m\u001b[0;34m\"json_data/example.json\"\u001b[0m\u001b[0;34m)\u001b[0m\u001b[0;34m\u001b[0m\u001b[0m\n\u001b[0m",
      "\u001b[0;32m/usr/local/Cellar/python/2.7.13/Frameworks/Python.framework/Versions/2.7/lib/python2.7/json/__init__.pyc\u001b[0m in \u001b[0;36mload\u001b[0;34m(fp, encoding, cls, object_hook, parse_float, parse_int, parse_constant, object_pairs_hook, **kw)\u001b[0m\n\u001b[1;32m    285\u001b[0m \u001b[0;34m\u001b[0m\u001b[0m\n\u001b[1;32m    286\u001b[0m     \"\"\"\n\u001b[0;32m--> 287\u001b[0;31m     return loads(fp.read(),\n\u001b[0m\u001b[1;32m    288\u001b[0m         \u001b[0mencoding\u001b[0m\u001b[0;34m=\u001b[0m\u001b[0mencoding\u001b[0m\u001b[0;34m,\u001b[0m \u001b[0mcls\u001b[0m\u001b[0;34m=\u001b[0m\u001b[0mcls\u001b[0m\u001b[0;34m,\u001b[0m \u001b[0mobject_hook\u001b[0m\u001b[0;34m=\u001b[0m\u001b[0mobject_hook\u001b[0m\u001b[0;34m,\u001b[0m\u001b[0;34m\u001b[0m\u001b[0m\n\u001b[1;32m    289\u001b[0m         \u001b[0mparse_float\u001b[0m\u001b[0;34m=\u001b[0m\u001b[0mparse_float\u001b[0m\u001b[0;34m,\u001b[0m \u001b[0mparse_int\u001b[0m\u001b[0;34m=\u001b[0m\u001b[0mparse_int\u001b[0m\u001b[0;34m,\u001b[0m\u001b[0;34m\u001b[0m\u001b[0m\n",
      "\u001b[0;31mAttributeError\u001b[0m: 'str' object has no attribute 'read'"
     ]
    }
   ],
   "source": [
    "import json\n",
    "json.load(\"json_data/example.json\")"
   ]
  },
  {
   "cell_type": "markdown",
   "metadata": {},
   "source": [
    "Uh-oh! What happened here? It looks like the python call was expecting a file pointer instead. Let's fix that."
   ]
  },
  {
   "cell_type": "code",
   "execution_count": 64,
   "metadata": {},
   "outputs": [
    {
     "name": "stdout",
     "output_type": "stream",
     "text": [
      "{u'integer': 1, u'float': 2.0, u'bool': True, u'string': u'value'}\n"
     ]
    }
   ],
   "source": [
    "import json\n",
    "data = json.load(open(\"json_data/example.json\"))\n",
    "print(repr(data))"
   ]
  },
  {
   "cell_type": "markdown",
   "metadata": {},
   "source": [
    "And that's it! There is really not that much more to do here. You've just loaded in a file containing JSON data and you can now do things with it."
   ]
  },
  {
   "cell_type": "markdown",
   "metadata": {},
   "source": [
    "### <a name=\"input-root-hdf5\"></a> ROOT and HDF5\n",
    "\n",
    "As you probably can already guess - JSON is not the best format when it comes to storing a lot of raw data in very complicated layouts. In fact, when you start having so much data that it costs a lot of money to maintain the storage for the data - you care a lot about being able to compress it while still maintaining as fast access as possible. This is where data formats like [ROOT](https://root.cern.ch/) and [HDF](https://www.hdfgroup.org/) become important.\n",
    "\n",
    "These are file formats that are usually bottlenecked by I/O (input/output) but still allows for very fast access of a large amount of data that cannot fit into physical memory. At this point, you start getting into parallel processing, and thinking about distributed computing, and a lot of interesting technologies come into play. For now, we'll just briefly show two different ways of opening a ROOT file. There will be more of a focus on HDF5 later during the workshop."
   ]
  },
  {
   "cell_type": "code",
   "execution_count": null,
   "metadata": {},
   "outputs": [
    {
     "data": {
      "application/javascript": [
       "\n",
       "require(['notebook'],\n",
       "  function() {\n",
       "    IPython.CodeCell.config_defaults.highlight_modes['magic_text/x-c++src'] = {'reg':[/^%%cpp/]};\n",
       "    console.log(\"JupyROOT - %%cpp magic configured\");\n",
       "  }\n",
       ");\n"
      ]
     },
     "metadata": {},
     "output_type": "display_data"
    }
   ],
   "source": [
    "import ROOT"
   ]
  },
  {
   "cell_type": "markdown",
   "metadata": {},
   "source": [
    "ROOT has a python library known as [PyROOT](https://root.cern.ch/pyroot) which we will take advantage of. There is also a NumPy wrapper around PyROOT which is known as [root_numpy](http://scikit-hep.org/root_numpy/) which contains some test data for the purposes of demonstrating that we can read in a ROOT file."
   ]
  },
  {
   "cell_type": "code",
   "execution_count": null,
   "metadata": {},
   "outputs": [],
   "source": [
    "import ROOT\n",
    "from root_numpy import testdata\n",
    "print(testdata.get_filepath('single1.root'))\n",
    "# open for reading\n",
    "f = ROOT.TFile.Open(testdata.get_filepath('single1.root'))\n",
    "print(f, type(f))\n",
    "\n",
    "# close the file pointer\n",
    "f.Close()\n",
    "print(f, type(f))"
   ]
  },
  {
   "cell_type": "markdown",
   "metadata": {},
   "source": [
    "Like we've seen with [``open()``](#input-plain) before, PyROOT will create the file pointer from you given a filename. You do not need to pass in a file object. In this case, ``ROOT.TFile.Open()`` replaces ``open()`` when we need to open a file pointer for ROOT files.\n",
    "\n",
    "With HDF5, there is a similar pattern. When you start looking into the machine learning tutorials later - you will be able to open and read ``hdf5`` files like so\n",
    "\n",
    "```python\n",
    "import h5py\n",
    "#open for reading\n",
    "f = h5py.File('example.hdf5, 'r')\n",
    "print(f, type(f))\n",
    "\n",
    "f.close()\n",
    "print(f, type(f))\n",
    "# Get the data\n",
    "```\n",
    "\n",
    "so like ROOT, you give the [H5Py](http://docs.h5py.org/en/latest/) library the name of the file to open, and it returns a pointer. For JSON, and other plain text files -- you use ``open()`` to create the file pointer.\n",
    "\n",
    "With this, I conclude the end of the **input** section of the tutorial."
   ]
  },
  {
   "cell_type": "markdown",
   "metadata": {},
   "source": [
    "## <a name=\"output\"></a> Output\n",
    "\n",
    "### <a name=\"output-hello-world\"></a> Saying Hello World to a file\n",
    "\n",
    "Recall that in [The Future of Hello World](#hello-world-future), we used the ``print()`` function from Python 3 by importing from ``__future__``. We also saw that we can use the ``end`` attribute for the function to remove the newline that would get added when printing to screen. What if you wanted to print directly to a file? Well, you can!\n",
    "\n",
    "If you are using the ``print`` statement, you could do\n",
    "\n",
    "```python\n",
    "with open('out.txt', 'w') as f:\n",
    "  print >>f, 'Hello World!'\n",
    "```\n",
    "\n",
    "but since we're wise beyond our years and use the print function... You can use the ``file`` attribute.\n",
    "\n",
    "But before we get to the next exercise, I would like to remind you that you can open a file for reading ``r``, writing ``w``, or appending ``a`` -- as well as in binary mode by adding the ``b`` flag. In order to write to a file, you must use ``w``, ``wb``, ``a``, or ``ab`` at the very least for the ``open`` file-mode call.\n",
    "\n",
    "So now, the exercise! Fix the below code to make it work using the ``print(..., file=<file pointer>)`` function to redirect your output to ``hello_world.log``"
   ]
  },
  {
   "cell_type": "code",
   "execution_count": 13,
   "metadata": {},
   "outputs": [
    {
     "ename": "TypeError",
     "evalue": "unsupported operand type(s) for >>: 'builtin_function_or_method' and 'file'",
     "output_type": "error",
     "traceback": [
      "\u001b[0;31m---------------------------------------------------------------------------\u001b[0m",
      "\u001b[0;31mTypeError\u001b[0m                                 Traceback (most recent call last)",
      "\u001b[0;32m<ipython-input-13-2639a7dfe73e>\u001b[0m in \u001b[0;36m<module>\u001b[0;34m()\u001b[0m\n\u001b[1;32m      1\u001b[0m \u001b[0;32mfrom\u001b[0m \u001b[0m__future__\u001b[0m \u001b[0;32mimport\u001b[0m \u001b[0mprint_function\u001b[0m\u001b[0;34m\u001b[0m\u001b[0m\n\u001b[1;32m      2\u001b[0m \u001b[0;32mwith\u001b[0m \u001b[0mopen\u001b[0m\u001b[0;34m(\u001b[0m\u001b[0;34m'hello_world.log'\u001b[0m\u001b[0;34m,\u001b[0m \u001b[0;34m'w'\u001b[0m\u001b[0;34m)\u001b[0m \u001b[0;32mas\u001b[0m \u001b[0mfh\u001b[0m\u001b[0;34m:\u001b[0m\u001b[0;34m\u001b[0m\u001b[0m\n\u001b[0;32m----> 3\u001b[0;31m     \u001b[0;32mprint\u001b[0m \u001b[0;34m>>\u001b[0m\u001b[0mfh\u001b[0m\u001b[0;34m,\u001b[0m \u001b[0;34m\"Hello World!\"\u001b[0m \u001b[0;31m# rewrite this line\u001b[0m\u001b[0;34m\u001b[0m\u001b[0m\n\u001b[0m",
      "\u001b[0;31mTypeError\u001b[0m: unsupported operand type(s) for >>: 'builtin_function_or_method' and 'file'"
     ]
    }
   ],
   "source": [
    "from __future__ import print_function\n",
    "with open('hello_world.log', 'w') as fh:\n",
    "    print >>fh, \"Hello World!\" # rewrite this line"
   ]
  },
  {
   "cell_type": "markdown",
   "metadata": {},
   "source": [
    "The other thing you could do is to have ``STDOUT`` point to a file instead. Then all print statements get redirected for you. How do you access your system's information about which file the kernel writes into? Why, using the python [``sys``](https://docs.python.org/2/library/sys.html) library!"
   ]
  },
  {
   "cell_type": "code",
   "execution_count": 14,
   "metadata": {},
   "outputs": [
    {
     "name": "stdout",
     "output_type": "stream",
     "text": [
      "<ipykernel.iostream.OutStream object at 0x103112110>\n",
      "<ipykernel.iostream.OutStream object at 0x103112110>\n"
     ]
    }
   ],
   "source": [
    "import sys\n",
    "# let's just show we can write to the notebook as usual\n",
    "print(sys.stdout)\n",
    "# hold on to the regular stdout \n",
    "temp_stdout = sys.stdout\n",
    "# now redirect to a file\n",
    "sys.stdout = open(\"stdout.log\", \"w\")\n",
    "print(sys.stdout)\n",
    "# now redirect back\n",
    "sys.stdout.close()\n",
    "sys.stdout = temp_stdout\n",
    "# this should print again to the notebook\n",
    "print(sys.stdout)"
   ]
  },
  {
   "cell_type": "markdown",
   "metadata": {},
   "source": [
    "and we can see that running the above will make a ``stdout.log`` file containing"
   ]
  },
  {
   "cell_type": "code",
   "execution_count": 15,
   "metadata": {},
   "outputs": [
    {
     "name": "stdout",
     "output_type": "stream",
     "text": [
      "<open file 'stdout.log', mode 'w' at 0x10343eed0>\r\n"
     ]
    }
   ],
   "source": [
    "! cat stdout.log"
   ]
  },
  {
   "cell_type": "markdown",
   "metadata": {},
   "source": [
    "So this is pretty neat. This should give you an idea of how you have some control over being able to stream output on your system. You can start to do more complicated things such as redirecting output to multiple files based on what function is being called or something more clever. To learn more about some advanced features, such as using the python [``logging``](https://docs.python.org/2/library/logging.html) facility, you can check out the [advanced section](#logging) in this tutorial.\n",
    "\n",
    "Let's go ahead and delete the files we just created in this tutorial"
   ]
  },
  {
   "cell_type": "code",
   "execution_count": 16,
   "metadata": {},
   "outputs": [],
   "source": [
    "! rm hello_world.log stdout.log"
   ]
  },
  {
   "cell_type": "markdown",
   "metadata": {},
   "source": [
    "### <a name=\"output-plain\"></a> Plain Text\n",
    "\n",
    "We've just seen how you can redirect ``print`` output to a file in two different ways:\n",
    "- redirect individual ``print`` statements/functions on a case-by-case basis\n",
    "- globally redirect all ``print`` calls by changing where ``sys.stdout`` points to\n",
    "\n",
    "To write output directly to a file using a file pointer is just as easy as [reading it](#input-plain). Instead of using the ``file::read()`` command, you will use the ``file::write()`` command. Unlike ``print`` calls which add a newline character to the end for you, you need to add one manually in order to make newlines in a file. Time for the next exercise!"
   ]
  },
  {
   "cell_type": "code",
   "execution_count": 17,
   "metadata": {},
   "outputs": [],
   "source": [
    "name = raw_input(\"What is your name? \")\n",
    "with open('plain_output.log', 'w') as fh:\n",
    "    # rewrite these lines to use fh.write(....) instead\n",
    "    print(\"Hello \", file=fh, end='') #no newline\n",
    "    print(name, file=fh) #newline\n",
    "    print(\"How are you today?\", file=fh) #newline"
   ]
  },
  {
   "cell_type": "markdown",
   "metadata": {},
   "source": [
    "I would like you to play around with the ``fh.write()`` by adding multiple lines in, and try to understand how this works. This above example combines a few pieces of what you've learned previously using [``raw_input``](#input-raw) as well as how to suppress a newline with a ``print`` call. You can check your work by running"
   ]
  },
  {
   "cell_type": "code",
   "execution_count": 18,
   "metadata": {},
   "outputs": [
    {
     "name": "stdout",
     "output_type": "stream",
     "text": [
      "Hello Giordon\r\n",
      "How are you today?\r\n"
     ]
    }
   ],
   "source": [
    "! cat plain_output.log"
   ]
  },
  {
   "cell_type": "markdown",
   "metadata": {},
   "source": [
    "When you're satisfied that you understand plain text printing, go ahead and clean up the file you made"
   ]
  },
  {
   "cell_type": "code",
   "execution_count": 19,
   "metadata": {},
   "outputs": [],
   "source": [
    "! rm plain_output.log"
   ]
  },
  {
   "cell_type": "markdown",
   "metadata": {},
   "source": [
    "### <a name=\"output-json\"></a> JSON\n",
    "\n",
    "[JSON](http://www.json.org/) is a very nice way to serialize many python objects into a plain text format that can be re-imported at a later time. It's as simple as loading the JSON library and calling the ``dumps()`` method to see the JSON representation, or calling the ``dump(data, fh)`` method to write to a file pointer.\n",
    "\n",
    "Imagine a scenario where you have lots of plain text files, but you want to convert them to JSON. In this case, maybe we'll just load one of the [plain data examples](#input-plain) where we loaded the data into a list, and then just dump that list into a file in JSON format. Starting from a previous exercise, let's extend it more...\n",
    "\n",
    "I've added the ``import json`` and ``json.dumps()`` calls for you. All you need to do is create a ``with`` statement that gives you an open file handle to write into using ``json.dump()``. You can see a pretty JSON representation of the object we will write to the file. I use the nifty ``indent=4`` to make it look pretty. The object we're dumping is a tuple ``(a, b)`` of two different lists: headers and data."
   ]
  },
  {
   "cell_type": "code",
   "execution_count": 20,
   "metadata": {},
   "outputs": [
    {
     "name": "stdout",
     "output_type": "stream",
     "text": [
      "[\n",
      "    [\n",
      "        \"Year\", \n",
      "        \"Make\", \n",
      "        \"Model\", \n",
      "        \"Price\"\n",
      "    ], \n",
      "    [\n",
      "        [\n",
      "            \"1997\", \n",
      "            \"Ford\", \n",
      "            \"E350\", \n",
      "            \"3000.00\"\n",
      "        ], \n",
      "        [\n",
      "            \"1999\", \n",
      "            \"Chevy\", \n",
      "            \"Venture, Extended Edition\", \n",
      "            \"4900.00\"\n",
      "        ], \n",
      "        [\n",
      "            \"1999\", \n",
      "            \"Chevy\", \n",
      "            \"Venture, Extended Edition\", \n",
      "            \"5000.00\"\n",
      "        ], \n",
      "        [\n",
      "            \"1996\", \n",
      "            \"Jeep\", \n",
      "            \"Grand Cherokee\", \n",
      "            \"4799.00\"\n",
      "        ]\n",
      "    ]\n",
      "]\n"
     ]
    }
   ],
   "source": [
    "import csv, json\n",
    "with open(\"plain_data/example.csv\") as fh:\n",
    "    reader = csv.reader(fh, delimiter=',', quotechar='\"')\n",
    "    # use next() to get the first line/entry/row/event from the file, which are the headers\n",
    "    headers = reader.next()\n",
    "    # use the list(fh) trick to just get a list of everything else!\n",
    "    data = list(reader)\n",
    "\n",
    "# I want to write this to a file called: example.json\n",
    "#    using the with statement to pass in a file pointer\n",
    "print(json.dumps((headers, data), indent=4))"
   ]
  },
  {
   "cell_type": "markdown",
   "metadata": {},
   "source": [
    "When all is said and done, you should verify that you wrote to the file correctly"
   ]
  },
  {
   "cell_type": "code",
   "execution_count": 21,
   "metadata": {},
   "outputs": [
    {
     "name": "stdout",
     "output_type": "stream",
     "text": [
      "cat: example.json: No such file or directory\r\n"
     ]
    }
   ],
   "source": [
    "! cat example.json"
   ]
  },
  {
   "cell_type": "markdown",
   "metadata": {},
   "source": [
    "Compare this to ``plain_data/example.csv`` to get an idea of how the two representations are a bit different, but both are still plain text!"
   ]
  },
  {
   "cell_type": "code",
   "execution_count": 22,
   "metadata": {},
   "outputs": [
    {
     "name": "stdout",
     "output_type": "stream",
     "text": [
      "Year,Make,Model,Price\r\n",
      "1997,Ford,E350,3000.00\r\n",
      "1999,Chevy,\"Venture, Extended Edition\",4900.00\r\n",
      "1999,Chevy,\"Venture, Extended Edition\",5000.00\r\n",
      "1996,Jeep,\"Grand Cherokee\",4799.00\r\n"
     ]
    }
   ],
   "source": [
    "! cat plain_data/example.csv"
   ]
  },
  {
   "cell_type": "markdown",
   "metadata": {},
   "source": [
    "and then clean up and remove the JSON file you just made."
   ]
  },
  {
   "cell_type": "code",
   "execution_count": 23,
   "metadata": {},
   "outputs": [
    {
     "name": "stdout",
     "output_type": "stream",
     "text": [
      "rm: example.json: No such file or directory\r\n"
     ]
    }
   ],
   "source": [
    "! rm example.json"
   ]
  },
  {
   "cell_type": "markdown",
   "metadata": {},
   "source": [
    "## <a name=\"iterables\"></a> Iterating Iterables\n",
    "\n",
    "In this section, I will introduce you to the next powerful concept of Python which are iterables. An iterable, as its name implies, is something you can iterate over in some sort of a loop: ``for``, ``do/while``, and so on.\n",
    "\n",
    "From the [python glossary](https://docs.python.org/2/glossary.html), an iterable is:\n",
    "> An object capable of returning its members one at a time. Examples of iterables include all sequence types (such as ``list``, [``str``](https://docs.python.org/2/library/functions.html#str), and [``tuple``](https://docs.python.org/2/library/functions.html#tuple)) and some non-sequence types like [``dict``](https://docs.python.org/2/library/stdtypes.html#dict) and [``file``](https://docs.python.org/2/library/functions.html#file) and objects of any classes you define with an [``__iter__()``](https://docs.python.org/2/reference/datamodel.html#object.__iter__) or [``__getitem__()``](https://docs.python.org/2/reference/datamodel.html#object.__getitem__) method. Iterables can be used in a for loop and in many other places where a sequence is needed ([``zip()``](https://docs.python.org/2/library/functions.html#zip), [``map()``](https://docs.python.org/2/library/functions.html#map), …). When an iterable object is passed as an argument to the built-in function [``iter()``](https://docs.python.org/2/library/functions.html#iter), it returns an iterator for the object. This iterator is good for one pass over the set of values. When using iterables, it is usually not necessary to call [``iter()``](https://docs.python.org/2/library/functions.html#iter) or deal with iterator objects yourself. The for statement does that automatically for you, creating a temporary unnamed variable to hold the iterator for the duration of the loop. See also [iterator](https://docs.python.org/2/glossary.html#term-iterator), [sequence](https://docs.python.org/2/glossary.html#term-sequence), and [generator](https://docs.python.org/2/glossary.html#term-generator).\n",
    "\n",
    "As mentioned, I will show you the different collections that you can iterate over:\n",
    "- lists\n",
    "- sets\n",
    "- dictionaries\n",
    "- tuples\n",
    "- strings\n",
    "- files\n",
    "\n",
    "There are more advanced collections that will be covered in the next section. I will not cover any of the so-called magic functions in the tutorial today. These are double-underscored functions like ``__init__`` or ``__getitem__`` that you can think of as equivalent to overloading operators in C/C++. If you're interested in learning more about using these, come talk to me directly.\n",
    "\n",
    "For more information, see [this tutorial](http://anandology.com/python-practice-book/iterators.html)."
   ]
  },
  {
   "cell_type": "code",
   "execution_count": 24,
   "metadata": {},
   "outputs": [
    {
     "name": "stdout",
     "output_type": "stream",
     "text": [
      "<type 'list'> [1, 2, 'three', 4, 'five', '6', [1, 2, 3]]\n",
      "<type 'set'> set([1, 3, 'two'])\n",
      "<type 'dict'> {'age': 27, 'favorite_number': 3.1415926, 'name': 'Giordon Stark', ('dead', 'alive'): False}\n",
      "<type 'tuple'> ('Enrico', 'Fermi', 'Institute')\n",
      "<type 'str'> Hello World!\n",
      "<type 'file'> <open file 'plain_data/example.tsv', mode 'r' at 0x10343eed0>\n"
     ]
    }
   ],
   "source": [
    "# a list of stuff\n",
    "a_list = [1,2,'three',2*2,\"five\",\"6\", [1,2,3]]\n",
    "print(type(a_list), a_list)\n",
    "\n",
    "# sets contain unique objects\n",
    "a_set = {1,'two',3,3,1,1,1,1,1,1}\n",
    "print(type(a_set), a_set)\n",
    "\n",
    "# dictionaries are key-value stores\n",
    "a_dict = {\"name\": \"Giordon Stark\", \"age\": 27, \"favorite_number\": 3.1415926, (\"dead\",\"alive\"): False}\n",
    "print(type(a_dict), a_dict)\n",
    "\n",
    "# tuples are fixed and cannot be changed after you define it\n",
    "a_tuple = (\"Enrico\",\"Fermi\",\"Institute\")\n",
    "print(type(a_tuple), a_tuple)\n",
    "\n",
    "# you know what a string is\n",
    "a_string = \"Hello World!\"\n",
    "print(type(a_string), a_string)\n",
    "\n",
    "# and what a file is\n",
    "a_file = open(\"plain_data/example.tsv\", \"r\")\n",
    "print(type(a_file), a_file)\n",
    "a_file.close()"
   ]
  },
  {
   "cell_type": "markdown",
   "metadata": {},
   "source": [
    "So let's show you how to iterate over each of these types of objects."
   ]
  },
  {
   "cell_type": "markdown",
   "metadata": {},
   "source": [
    "### <a name=\"iterables-list\"></a> List"
   ]
  },
  {
   "cell_type": "code",
   "execution_count": 25,
   "metadata": {},
   "outputs": [
    {
     "name": "stdout",
     "output_type": "stream",
     "text": [
      "<type 'int'> 1 1\n",
      "<type 'int'> 2 2\n",
      "<type 'str'> three 'three'\n",
      "<type 'int'> 4 4\n",
      "<type 'str'> five 'five'\n",
      "<type 'str'> 6 '6'\n",
      "<type 'list'> [1, 2, 3] [1, 2, 3]\n"
     ]
    }
   ],
   "source": [
    "for item in a_list:\n",
    "    print(type(item), item, repr(item))"
   ]
  },
  {
   "cell_type": "markdown",
   "metadata": {},
   "source": [
    "### <a name=\"iterables-set\"></a> Set"
   ]
  },
  {
   "cell_type": "code",
   "execution_count": 26,
   "metadata": {},
   "outputs": [
    {
     "name": "stdout",
     "output_type": "stream",
     "text": [
      "<type 'int'> 1 1\n",
      "<type 'int'> 3 3\n",
      "<type 'str'> two 'two'\n"
     ]
    }
   ],
   "source": [
    "for item in a_set:\n",
    "    print(type(item), item, repr(item))"
   ]
  },
  {
   "cell_type": "markdown",
   "metadata": {},
   "source": [
    "### <a name=\"iterables-dict\"></a> Dictionary"
   ]
  },
  {
   "cell_type": "code",
   "execution_count": 27,
   "metadata": {},
   "outputs": [
    {
     "name": "stdout",
     "output_type": "stream",
     "text": [
      "<type 'str'> age <type 'int'> 27\n",
      "<type 'str'> favorite_number <type 'float'> 3.1415926\n",
      "<type 'str'> name <type 'str'> Giordon Stark\n",
      "<type 'tuple'> ('dead', 'alive') <type 'bool'> False\n"
     ]
    }
   ],
   "source": [
    "for k, v in a_dict.iteritems():\n",
    "    print(type(k), k, type(v), v)"
   ]
  },
  {
   "cell_type": "markdown",
   "metadata": {},
   "source": [
    "but as you've noticed, dictionaries are a little special since they contain key/value pairs. How do you print the value of the dictionary? You can iterate over the keys of a dictionary and then access the values from a dictionary using either it's ``__getitem__()`` method with ``[]`` accessor, or using ``dict::get()`` which also allows you to set a default value... or just use ``dict.iteritems()`` to loop over ``(key, value)`` tuples that represent the dictionary instead."
   ]
  },
  {
   "cell_type": "code",
   "execution_count": 28,
   "metadata": {},
   "outputs": [
    {
     "data": {
      "text/plain": [
       "[('age', 27),\n",
       " ('favorite_number', 3.1415926),\n",
       " ('name', 'Giordon Stark'),\n",
       " (('dead', 'alive'), False)]"
      ]
     },
     "execution_count": 28,
     "metadata": {},
     "output_type": "execute_result"
    }
   ],
   "source": [
    "a_dict.items()"
   ]
  },
  {
   "cell_type": "code",
   "execution_count": 100,
   "metadata": {},
   "outputs": [
    {
     "name": "stdout",
     "output_type": "stream",
     "text": [
      "<type 'str'> first_name Giordon\n",
      "<type 'str'> last_name Stark\n",
      "<type 'str'> dob 1990\n",
      "<type 'str'> age 27\n",
      "<type 'str'> favorite_number 3.1415926\n",
      "<type 'tuple'> ('dead', 'alive') False\n"
     ]
    }
   ],
   "source": [
    "for item in a_dict:\n",
    "    print(type(item), item, a_dict[item])"
   ]
  },
  {
   "cell_type": "code",
   "execution_count": 29,
   "metadata": {},
   "outputs": [
    {
     "name": "stdout",
     "output_type": "stream",
     "text": [
      "<type 'str'> age 27\n",
      "<type 'str'> favorite_number 3.1415926\n",
      "<type 'str'> name Giordon Stark\n",
      "<type 'tuple'> ('dead', 'alive') False\n",
      "None\n",
      "DefaultValue\n"
     ]
    }
   ],
   "source": [
    "for item in a_dict:\n",
    "    print(type(item), item, a_dict.get(item))\n",
    "    \n",
    "print(a_dict.get('FakeKey'))\n",
    "print(a_dict.get('FakeKey', 'DefaultValue'))"
   ]
  },
  {
   "cell_type": "markdown",
   "metadata": {},
   "source": [
    "### <a name=\"iterables-tuple\"></a> Tuple"
   ]
  },
  {
   "cell_type": "code",
   "execution_count": 30,
   "metadata": {},
   "outputs": [
    {
     "name": "stdout",
     "output_type": "stream",
     "text": [
      "<type 'str'> Enrico 'Enrico'\n",
      "<type 'str'> Fermi 'Fermi'\n",
      "<type 'str'> Institute 'Institute'\n"
     ]
    }
   ],
   "source": [
    "for item in a_tuple:\n",
    "    print(type(item), item, repr(item))"
   ]
  },
  {
   "cell_type": "markdown",
   "metadata": {},
   "source": [
    "### <a name=\"iterables-str\"></a> String"
   ]
  },
  {
   "cell_type": "code",
   "execution_count": 31,
   "metadata": {},
   "outputs": [
    {
     "name": "stdout",
     "output_type": "stream",
     "text": [
      "<type 'str'> H 'H'\n",
      "<type 'str'> e 'e'\n",
      "<type 'str'> l 'l'\n",
      "<type 'str'> l 'l'\n",
      "<type 'str'> o 'o'\n",
      "<type 'str'>   ' '\n",
      "<type 'str'> W 'W'\n",
      "<type 'str'> o 'o'\n",
      "<type 'str'> r 'r'\n",
      "<type 'str'> l 'l'\n",
      "<type 'str'> d 'd'\n",
      "<type 'str'> ! '!'\n"
     ]
    }
   ],
   "source": [
    "for item in a_string:\n",
    "    print(type(item), item, repr(item))"
   ]
  },
  {
   "cell_type": "markdown",
   "metadata": {},
   "source": [
    "### <a name=\"iterables-file\"></a> Files"
   ]
  },
  {
   "cell_type": "code",
   "execution_count": 32,
   "metadata": {},
   "outputs": [
    {
     "name": "stdout",
     "output_type": "stream",
     "text": [
      "<type 'str'> 'Year\\tMake\\tModel\\tPrice\\n'\n",
      "<type 'str'> '1997\\tFord\\tE350\\t3000.00\\n'\n",
      "<type 'str'> '1999\\tChevy\\t\"Venture, Extended Edition\"\\t4900.00\\n'\n",
      "<type 'str'> '1999\\tChevy\\t\"Venture, Extended Edition\"\\t5000.00\\n'\n",
      "<type 'str'> '1996\\tJeep\\t\"Grand Cherokee\"\\t4799.00\\n'\n"
     ]
    }
   ],
   "source": [
    "\"\"\" Remember that below code is equivalent to:\n",
    "\n",
    "a_file = open(\"plain_data/example.tsv\")\n",
    "for item in a_file:\n",
    "    print(type(item), item, repr(item))\n",
    "a_file.close()\n",
    "\n",
    "\"\"\"\n",
    "\n",
    "with open(\"plain_data/example.tsv\") as f:\n",
    "    for item in f:\n",
    "        print(type(item), repr(item))"
   ]
  },
  {
   "cell_type": "markdown",
   "metadata": {},
   "source": [
    "Notice that with iterating over a file pointer is like iterating over the ``readlines`` method we've seen [previously in this tutorial](#input-plain)."
   ]
  },
  {
   "cell_type": "markdown",
   "metadata": {},
   "source": [
    "## Advanced Iterables\n",
    "\n",
    "### Generators and Yields\n",
    "\n",
    "### NumPy Arrays\n",
    "\n",
    "### Comprehension\n",
    "\n",
    "### Filtering\n",
    "\n",
    "### Slicing\n",
    "\n",
    "-----------\n",
    "\n",
    "-----------\n",
    "\n",
    "## Python Packaging and Advanced Examples\n",
    "\n",
    "### What is ``__init__.py`` and ``sys.path`` and ``$PYTHONPATH``?\n",
    "\n",
    "### How to write a user-configurable script?\n",
    "\n",
    "### All the shebangs and whistles\n",
    "\n",
    "### Lumberjack Training\n",
    "\n",
    "### C/C++ Interfacing\n",
    "\n",
    "See [hello_world_cython](hello_world_cython/README.rst). How do I link to a rendered document? I can put the next part of the tutorial there so they can link back and forth.\n",
    "\n",
    "### Comments, Docstrings, and Documentation - Oh My!\n",
    "\n",
    "### Debugging Code\n",
    "\n",
    "-----------\n",
    "\n",
    "-----------\n",
    "\n",
    "## Calculations and Plotting\n",
    "\n",
    "### Some example mathematical calculations\n",
    "\n",
    "### Some example plotting exercises"
   ]
  },
  {
   "cell_type": "code",
   "execution_count": null,
   "metadata": {},
   "outputs": [],
   "source": []
  }
 ],
 "metadata": {
  "kernelspec": {
   "display_name": "Python 2",
   "language": "python",
   "name": "python2"
  },
  "language_info": {
   "codemirror_mode": {
    "name": "ipython",
    "version": 2
   },
   "file_extension": ".py",
   "mimetype": "text/x-python",
   "name": "python",
   "nbconvert_exporter": "python",
   "pygments_lexer": "ipython2",
   "version": "2.7.13"
  }
 },
 "nbformat": 4,
 "nbformat_minor": 2
}
