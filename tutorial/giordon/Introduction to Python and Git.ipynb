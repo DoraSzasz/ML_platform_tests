{
 "cells": [
  {
   "cell_type": "code",
   "execution_count": 1,
   "metadata": {
    "scrolled": true
   },
   "outputs": [
    {
     "name": "stdout",
     "output_type": "stream",
     "text": [
      "hello world\n"
     ]
    }
   ],
   "source": [
    "print \"hello world\""
   ]
  },
  {
   "cell_type": "markdown",
   "metadata": {},
   "source": [
    "<img src=\"https://git-scm.com/images/logos/downloads/Git-Logo-2Color.png\" alt=\"git logo\" width=\"125\" />\n",
    "\n",
    "<img src=\"https://www.python.org/static/community_logos/python-logo-master-v3-TM.png\" alt=\"python logo\" width=\"250\"/>\n",
    "\n",
    "------\n",
    "\n",
    "Introduction to Git and Python\n",
    "==============================\n",
    "\n",
    "Welcome to the first tutorial of the EFI workshop. The goal for today is to get you familiar with ``Python``, some of the neat things you can do with it, and give you enough foundation to succeed in the rest of the workshop. To do that, I should first explain some of the different environments you'll work in.\n",
    "\n",
    "Overview of Git\n",
    "---------------\n",
    "\n",
    "Git is a distributed revision control and source code management system with an emphasis on speed. Git was initially designed and developed by Linus Torvalds for Linux kernel development. Git is a free software distributed under the terms of the GNU General Public License version 2.\n",
    "\n",
    "To understand git, it helps to think about git as a historical tree. Every change starts on the ``master`` timeline, which we will call ``branch`` from now on. You can create a new ``branch`` to diverge, make changes, and then eventually merge it back in. This is a workflow for code revision and versioning. An ASCII diagram of this will look like:\n",
    "\n",
    "```\n",
    "                  Branch A\n",
    "               o--o--o--o----o-------....\n",
    "              /               \\ Merge\n",
    "Master o--o--o ----------------o-----....\n",
    "             \\\n",
    "              o--o--o-----o----o-----....\n",
    "                  Branch B\n",
    "```\n",
    "\n",
    "We won't go too much into understanding these diagrams but you should always keep a picture of a tree in your head. Every branch is based off some point in time from another branch. Changes on one branch are not included in another branch unless **you** explicitly include them. This is important and we will go back to this later!\n",
    "\n",
    "There are two major centralized projects that are based on top of Git: [GitHub](<https://github.com/>) and [GitLab](https://about.gitlab.com/). GitHub is an online, closed-sourced community that is free for anyone to create and share public projects and repositories. GitLab is an online, open-sourced software that you can install on a server, maintain it yourself, and have your collaborators contribute. CERN, for example, maintains a [GitLab instance](http://information-technology.web.cern.ch/services/git-service) for all CERN users and experiments including (but not limited to) LHC, ATLAS, and CMS.\n",
    "\n",
    "| GitHub | GitLab |\n",
    "|:------:|:------:|\n",
    "|<img src=\"https://assets-cdn.github.com/images/modules/logos_page/GitHub-Mark.png\" alt=\"github logo\" width=\"100\" /> | <img src=\"https://cdn.worldvectorlogo.com/logos/gitlab.svg\" alt=\"gitlab logo\" width=\"100\" /> |\n",
    "\n",
    "We'll have already discussed briefly about creating a repository on GitHub, pushing code to it, and fetching code from it. There is a lot more to Git which will not be covered today, but if you have time to learn some more advanced concepts, try learning about Git branching: https://learngitbranching.js.org/ !\n",
    "\n",
    "Overview of Python\n",
    "------------------\n",
    "\n",
    "From [python.org](https://docs.python.org/3/tutorial/appetite.html):\n",
    "> Python is simple to use, but it is a real programming language, offering much more structure and support for large programs than shell scripts or batch files can offer. On the other hand, Python also offers much more error checking than C, and, being a very-high-level language, it has high-level data types built in, such as flexible arrays and dictionaries. Because of its more general data types Python is applicable to a much larger problem domain than Awk or even Perl, yet many things are at least as easy in Python as in those languages.\n",
    "\n",
    "and while it is easy to program anything in ``Python``, you'll quickly find that it can be slow for data-intensive tasks\n",
    "> Python is extensible: if you know how to program in C it is easy to add a new built-in function or module to the interpreter, either to perform critical operations at maximum speed, or to link Python programs to libraries that may only be available in binary form (such as a vendor-specific graphics library). Once you are really hooked, you can link the Python interpreter into an application written in C and use it as an extension or command language for that application.\n",
    "\n",
    "I'll include a very brief example of being able to compile an existing C/C++ libary to allow it to interface with ``Python`` as if it was a ``Python`` package!\n",
    "\n",
    "Getting Started with Git\n",
    "========================\n",
    "\n",
    "Click this link and enjoy the interactive tutorial: https://try.github.io ."
   ]
  },
  {
   "cell_type": "markdown",
   "metadata": {},
   "source": [
    "# Diving into Python\n",
    "\n",
    "## Input/Output\n",
    "\n",
    "## Hello World\n",
    "\n",
    "### Saying Hello World\n",
    "\n",
    "```python\n",
    "print \"hello world\"\n",
    "print \"hello\", \"world\"\n",
    "print \"hello\",\n",
    "print \" world\"\n",
    "```\n",
    "\n",
    "etc\n",
    "\n",
    "### Saying Hello World in the Future\n",
    "\n",
    "```python\n",
    "from __future__ import print_function\n",
    "print(\"hello world\")\n",
    "print(\"hello\", \"world\")\n",
    "print(\"hello\", end='')\n",
    "print(\" world\")\n",
    "```\n",
    "\n",
    "etc\n",
    "\n",
    "## Input\n",
    "\n",
    "### Raw Input / User Prompt\n",
    "\n",
    "### JSON\n",
    "\n",
    "### Delimited (Tab, Comma, Space, etc...)\n",
    "\n",
    "### ROOT\n",
    "\n",
    "### HD5\n",
    "\n",
    "-----------\n",
    "\n",
    "-----------\n",
    "\n",
    "## Output\n",
    "\n",
    "### Saying Hello World to a file\n",
    "\n",
    "see above future print, but with file redirector, etc...\n",
    "\n",
    "### JSON\n",
    "\n",
    "```python\n",
    "import json\n",
    "json.dump()\n",
    "json.dumps()\n",
    "```\n",
    "\n",
    "### Delimited\n",
    "\n",
    "### Line-by-line\n",
    "\n",
    "-----------\n",
    "\n",
    "-----------\n",
    "\n",
    "## Iterating Iterables\n",
    "\n",
    "### Lists\n",
    "\n",
    "### Sets\n",
    "\n",
    "### Dictionaries\n",
    "\n",
    "### Tuples\n",
    "\n",
    "### Strings\n",
    "\n",
    "### Files\n",
    "\n",
    "-----------\n",
    "\n",
    "-----------\n",
    "\n",
    "## Advanced Iterables\n",
    "\n",
    "### Generators and Yields\n",
    "\n",
    "### NumPy Arrays\n",
    "\n",
    "### Comprehension\n",
    "\n",
    "### Filtering\n",
    "\n",
    "### Slicing\n",
    "\n",
    "-----------\n",
    "\n",
    "-----------\n",
    "\n",
    "## Python Packaging and Advanced Examples\n",
    "\n",
    "### What is ``__init__.py`` and ``sys.path`` and ``$PYTHONPATH``?\n",
    "\n",
    "### How to write a user-configurable script?\n",
    "\n",
    "### All the shebangs and whistles\n",
    "\n",
    "### Lumberjack Training\n",
    "\n",
    "### C/C++ Interfacing\n",
    "\n",
    "See [hello_world_cython](hello_world_cython/README.rst). How do I link to a rendered document? I can put the next part of the tutorial there so they can link back and forth.\n",
    "\n",
    "### Comments, Docstrings, and Documentation - Oh My!\n",
    "\n",
    "### Debugging Code\n",
    "\n",
    "-----------\n",
    "\n",
    "-----------\n",
    "\n",
    "## Calculations and Plotting\n",
    "\n",
    "### Some example mathematical calculations\n",
    "\n",
    "### Some example plotting exercises"
   ]
  },
  {
   "cell_type": "markdown",
   "metadata": {},
   "source": [
    "# Necessary Python packages"
   ]
  },
  {
   "cell_type": "code",
   "execution_count": 2,
   "metadata": {},
   "outputs": [],
   "source": [
    "import json"
   ]
  },
  {
   "cell_type": "code",
   "execution_count": 3,
   "metadata": {},
   "outputs": [],
   "source": [
    "import Cython"
   ]
  },
  {
   "cell_type": "code",
   "execution_count": 4,
   "metadata": {},
   "outputs": [],
   "source": [
    "import numpy"
   ]
  },
  {
   "cell_type": "code",
   "execution_count": 5,
   "metadata": {},
   "outputs": [],
   "source": [
    "import matplotlib"
   ]
  },
  {
   "cell_type": "code",
   "execution_count": null,
   "metadata": {},
   "outputs": [
    {
     "data": {
      "application/javascript": [
       "\n",
       "require(['notebook'],\n",
       "  function() {\n",
       "    IPython.CodeCell.config_defaults.highlight_modes['magic_text/x-c++src'] = {'reg':[/^%%cpp/]};\n",
       "    console.log(\"JupyROOT - %%cpp magic configured\");\n",
       "  }\n",
       ");\n"
      ]
     },
     "metadata": {},
     "output_type": "display_data"
    }
   ],
   "source": [
    "import ROOT"
   ]
  },
  {
   "cell_type": "code",
   "execution_count": null,
   "metadata": {},
   "outputs": [],
   "source": [
    "import root_numpy"
   ]
  },
  {
   "cell_type": "code",
   "execution_count": null,
   "metadata": {},
   "outputs": [],
   "source": [
    "import math"
   ]
  },
  {
   "cell_type": "code",
   "execution_count": null,
   "metadata": {},
   "outputs": [],
   "source": [
    "import scipy"
   ]
  },
  {
   "cell_type": "code",
   "execution_count": null,
   "metadata": {},
   "outputs": [],
   "source": [
    "from __future__ import print_function"
   ]
  },
  {
   "cell_type": "code",
   "execution_count": null,
   "metadata": {},
   "outputs": [],
   "source": [
    "import os"
   ]
  },
  {
   "cell_type": "code",
   "execution_count": null,
   "metadata": {},
   "outputs": [],
   "source": [
    "import sys"
   ]
  },
  {
   "cell_type": "code",
   "execution_count": null,
   "metadata": {},
   "outputs": [],
   "source": [
    "import csv"
   ]
  },
  {
   "cell_type": "code",
   "execution_count": null,
   "metadata": {},
   "outputs": [],
   "source": [
    "import itertools"
   ]
  },
  {
   "cell_type": "code",
   "execution_count": null,
   "metadata": {},
   "outputs": [],
   "source": [
    "import logging"
   ]
  },
  {
   "cell_type": "code",
   "execution_count": 1,
   "metadata": {},
   "outputs": [],
   "source": [
    "import argparse"
   ]
  }
 ],
 "metadata": {
  "kernelspec": {
   "display_name": "Python 2",
   "language": "python",
   "name": "python2"
  },
  "language_info": {
   "codemirror_mode": {
    "name": "ipython",
    "version": 2
   },
   "file_extension": ".py",
   "mimetype": "text/x-python",
   "name": "python",
   "nbconvert_exporter": "python",
   "pygments_lexer": "ipython2",
   "version": "2.7.13"
  }
 },
 "nbformat": 4,
 "nbformat_minor": 2
}
