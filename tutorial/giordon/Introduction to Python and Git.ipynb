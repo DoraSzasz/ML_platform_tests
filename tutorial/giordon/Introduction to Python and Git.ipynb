{
 "cells": [
  {
   "cell_type": "code",
   "execution_count": 1,
   "metadata": {
    "scrolled": true
   },
   "outputs": [
    {
     "name": "stdout",
     "output_type": "stream",
     "text": [
      "hello world\n"
     ]
    }
   ],
   "source": [
    "print \"hello world\""
   ]
  },
  {
   "cell_type": "markdown",
   "metadata": {},
   "source": [
    "<img src=\"https://git-scm.com/images/logos/downloads/Git-Logo-2Color.png\" alt=\"git logo\" width=\"125\" />\n",
    "\n",
    "<img src=\"https://www.python.org/static/community_logos/python-logo-master-v3-TM.png\" alt=\"python logo\" width=\"250\"/>\n",
    "\n",
    "------\n",
    "\n",
    "<a name=\"intro\"></a> Introduction to Git and Python\n",
    "===================================================\n",
    "\n",
    "Welcome to the first tutorial of the EFI workshop. The goal for today is to get you familiar with ``Python``, some of the neat things you can do with it, and give you enough foundation to succeed in the rest of the workshop. To do that, I should first explain some of the different environments you'll work in.\n",
    "\n",
    "Overview of Git\n",
    "---------------\n",
    "\n",
    "Git is a distributed revision control and source code management system with an emphasis on speed. Git was initially designed and developed by Linus Torvalds for Linux kernel development. Git is a free software distributed under the terms of the GNU General Public License version 2.\n",
    "\n",
    "To understand git, it helps to think about git as a historical tree. Every change starts on the ``master`` timeline, which we will call ``branch`` from now on. You can create a new ``branch`` to diverge, make changes, and then eventually merge it back in. This is a workflow for code revision and versioning. An ASCII diagram of this will look like:\n",
    "\n",
    "```\n",
    "                  Branch A\n",
    "               o--o--o--o----o-------....\n",
    "              /               \\ Merge\n",
    "Master o--o--o ----------------o-----....\n",
    "             \\\n",
    "              o--o--o-----o----o-----....\n",
    "                  Branch B\n",
    "```\n",
    "\n",
    "We won't go too much into understanding these diagrams but you should always keep a picture of a tree in your head. Every branch is based off some point in time from another branch. Changes on one branch are not included in another branch unless **you** explicitly include them. This is important and we will go back to this later!\n",
    "\n",
    "There are two major centralized projects that are based on top of Git: [GitHub](<https://github.com/>) and [GitLab](https://about.gitlab.com/). GitHub is an online, closed-sourced community that is free for anyone to create and share public projects and repositories. GitLab is an online, open-sourced software that you can install on a server, maintain it yourself, and have your collaborators contribute. CERN, for example, maintains a [GitLab instance](http://information-technology.web.cern.ch/services/git-service) for all CERN users and experiments including (but not limited to) LHC, ATLAS, and CMS.\n",
    "\n",
    "| GitHub | GitLab |\n",
    "|:------:|:------:|\n",
    "|<img src=\"https://assets-cdn.github.com/images/modules/logos_page/GitHub-Mark.png\" alt=\"github logo\" width=\"100\" /> | <img src=\"https://cdn.worldvectorlogo.com/logos/gitlab.svg\" alt=\"gitlab logo\" width=\"100\" /> |\n",
    "\n",
    "We'll have already discussed briefly about creating a repository on GitHub, pushing code to it, and fetching code from it. There is a lot more to Git which will not be covered today, but if you have time to learn some more advanced concepts, try learning about Git branching: https://learngitbranching.js.org/ !\n",
    "\n",
    "Overview of Python\n",
    "------------------\n",
    "\n",
    "From [python.org](https://docs.python.org/3/tutorial/appetite.html):\n",
    "> Python is simple to use, but it is a real programming language, offering much more structure and support for large programs than shell scripts or batch files can offer. On the other hand, Python also offers much more error checking than C, and, being a very-high-level language, it has high-level data types built in, such as flexible arrays and dictionaries. Because of its more general data types Python is applicable to a much larger problem domain than Awk or even Perl, yet many things are at least as easy in Python as in those languages.\n",
    "\n",
    "and while it is easy to program anything in ``Python``, you'll quickly find that it can be slow for data-intensive tasks\n",
    "> Python is extensible: if you know how to program in C it is easy to add a new built-in function or module to the interpreter, either to perform critical operations at maximum speed, or to link Python programs to libraries that may only be available in binary form (such as a vendor-specific graphics library). Once you are really hooked, you can link the Python interpreter into an application written in C and use it as an extension or command language for that application.\n",
    "\n",
    "I'll include a very brief example of being able to compile an existing C/C++ libary to allow it to interface with ``Python`` as if it was a ``Python`` package!\n",
    "\n",
    "Getting Started with Git\n",
    "========================\n",
    "\n",
    "Click this link and enjoy the interactive tutorial: https://try.github.io ."
   ]
  },
  {
   "cell_type": "markdown",
   "metadata": {},
   "source": [
    "# <a name=\"start-python\"></a> The Flying Circus (Getting started with Python)\n",
    "\n",
    "## <a name=\"python-futures\"></a> Python Futures\n",
    "\n",
    "For the point of the tutorial today, we'll focus on Python 2.7 - however Python 3 does exist.\n",
    "\n",
    "From [Python.org](https://wiki.python.org/moin/Python2orPython3):\n",
    "> Python 3.0 was released in 2008. The final 2.x version 2.7 release came out in mid-2010, with a statement of extended support for this end-of-life release. The 2.x branch will see no new major releases after that. 3.x is under active development and has already seen over five years of stable releases, including version 3.3 in 2012, 3.4 in 2014, 3.5 in 2015, and 3.6 in 2016. This means that all recent standard library improvements, for example, are only available by default in Python 3.x.\n",
    "> \n",
    "> Guido van Rossum (the original creator of the Python language) decided to clean up Python 2.x properly, with less regard for backwards compatibility than is the case for new releases in the 2.x range. The most drastic improvement is the better Unicode support (with all text strings being Unicode by default) as well as saner bytes/Unicode separation.\n",
    "\n",
    "However, python 2.7 still sees continued support and wide adoption, even today. Physicists in CERN rely primarily on python 2.7 as part of their analysis and development efforts. That doesn't mean you should use 2.7 or you will be forced to use it. Feel free to do the research and understand the differences, but realize that **2.X is on end-of-life releases while 3.X undergoes active development**.\n",
    "\n",
    "There are some features of Python 3 that can be directly imported into Python 2.X using the ``__future__`` module. Feel free to read the [documentation](https://docs.python.org/2/library/__future__.html) for more information.\n",
    "\n",
    "My two favorite future features I include in python 2.7 often are ``absolute_import`` for developing packages and ``print_function`` everywhere I can, as it makes managing logs and debugging easier, which you'll see later in the tutorial."
   ]
  },
  {
   "cell_type": "markdown",
   "metadata": {},
   "source": [
    "## <a name=\"hello-world\"></a> Hello World\n",
    "\n",
    "When programmers are learning a new language, we tend to write a one-line program that prints some version of the message \"Hello world!\" this is a simple program that shows whether your computer is properly set up to run Python programs. Let's try it out."
   ]
  },
  {
   "cell_type": "code",
   "execution_count": 2,
   "metadata": {},
   "outputs": [
    {
     "name": "stdout",
     "output_type": "stream",
     "text": [
      "Hello World!\n"
     ]
    }
   ],
   "source": [
    "print \"Hello World!\""
   ]
  },
  {
   "cell_type": "markdown",
   "metadata": {},
   "source": [
    "What just happened? A string defined in python ``\"Hello World!\"`` is printed out to ``STDOUT`` - your console, this Jupyter notebook, along with an automatically added newline character."
   ]
  },
  {
   "cell_type": "code",
   "execution_count": 3,
   "metadata": {},
   "outputs": [
    {
     "data": {
      "text/plain": [
       "str"
      ]
     },
     "execution_count": 3,
     "metadata": {},
     "output_type": "execute_result"
    }
   ],
   "source": [
    "type(\"Hello World!\")"
   ]
  },
  {
   "cell_type": "code",
   "execution_count": 4,
   "metadata": {},
   "outputs": [
    {
     "name": "stdout",
     "output_type": "stream",
     "text": [
      "Hakuna Matata!\n",
      "What a wonderful phrase...\n",
      "Hakuna Matata!\n",
      "It ain't no passing craze...\n",
      "It means no worries... for the rest of your days\n"
     ]
    }
   ],
   "source": [
    "timon = \"Hakuna Matata!\"\n",
    "print timon\n",
    "print \"What a wonderful phrase...\"\n",
    "print timon\n",
    "print \"It ain't no passing craze...\"\n",
    "print \"It means no worries...\", \"for the rest of your days\""
   ]
  },
  {
   "cell_type": "markdown",
   "metadata": {},
   "source": [
    "and so clearly, you can already start understand how easy it is to print anything that has a representation. Variables can be printed, functions and classes can also be printed. But what if you wanted to print something on the same line? You can use ``print foo, bar`` of course, but what about using two ``print`` statements?\n",
    "\n",
    "It might seem annoying sometimes that there's always a newline appended - but you can use a nifty shortcut by ending your ``print`` statement with a comma (``,``)"
   ]
  },
  {
   "cell_type": "code",
   "execution_count": 5,
   "metadata": {},
   "outputs": [
    {
     "name": "stdout",
     "output_type": "stream",
     "text": [
      "Hakuna Matata! What a wonderful phrase...\n",
      "Hakuna Matata! It ain't no passing craze...\n",
      "It means no worries... for the rest of your days\n"
     ]
    }
   ],
   "source": [
    "print timon,\n",
    "print \"What a wonderful phrase...\"\n",
    "print timon,\n",
    "print \"It ain't no passing craze...\"\n",
    "print \"It means no worries...\",\n",
    "print \"for the rest of your days\""
   ]
  },
  {
   "cell_type": "markdown",
   "metadata": {},
   "source": [
    "## <a name=\"import-statement\"></a> Your Second Statement\n",
    "\n",
    "To being the process of python coding, you should get introduced to your second statement: ``import``. This allows you to import modules and packages into the scope of your code and interface with other peoples sweat and tears. Let's start with the classic easter egg:"
   ]
  },
  {
   "cell_type": "code",
   "execution_count": 21,
   "metadata": {},
   "outputs": [],
   "source": [
    "import antigravity"
   ]
  },
  {
   "cell_type": "markdown",
   "metadata": {},
   "source": [
    "Now, it's time for your first exercise. Try importing a module called ``this``"
   ]
  },
  {
   "cell_type": "code",
   "execution_count": 23,
   "metadata": {},
   "outputs": [],
   "source": [
    "# go ahead and import it!"
   ]
  },
  {
   "cell_type": "markdown",
   "metadata": {},
   "source": [
    "When you import a module, the name of that module goes into scope and its API is accessible under the same name. If the above two modules actually imported anything, you would be able to access it via ``antigravity.something`` or ``this.that``. As a concrete example, let's import the [``types`` library](https://docs.python.org/2/library/types.html) and see what sorts of things are included when importing it."
   ]
  },
  {
   "cell_type": "code",
   "execution_count": 26,
   "metadata": {},
   "outputs": [
    {
     "data": {
      "text/plain": [
       "['BooleanType',\n",
       " 'BufferType',\n",
       " 'BuiltinFunctionType',\n",
       " 'BuiltinMethodType',\n",
       " 'ClassType',\n",
       " 'CodeType',\n",
       " 'ComplexType',\n",
       " 'DictProxyType',\n",
       " 'DictType',\n",
       " 'DictionaryType',\n",
       " 'EllipsisType',\n",
       " 'FileType',\n",
       " 'FloatType',\n",
       " 'FrameType',\n",
       " 'FunctionType',\n",
       " 'GeneratorType',\n",
       " 'GetSetDescriptorType',\n",
       " 'InstanceType',\n",
       " 'IntType',\n",
       " 'LambdaType',\n",
       " 'ListType',\n",
       " 'LongType',\n",
       " 'MemberDescriptorType',\n",
       " 'MethodType',\n",
       " 'ModuleType',\n",
       " 'NoneType',\n",
       " 'NotImplementedType',\n",
       " 'ObjectType',\n",
       " 'SliceType',\n",
       " 'StringType',\n",
       " 'StringTypes',\n",
       " 'TracebackType',\n",
       " 'TupleType',\n",
       " 'TypeType',\n",
       " 'UnboundMethodType',\n",
       " 'UnicodeType',\n",
       " 'XRangeType',\n",
       " '__all__',\n",
       " '__builtins__',\n",
       " '__doc__',\n",
       " '__file__',\n",
       " '__name__',\n",
       " '__package__']"
      ]
     },
     "execution_count": 26,
     "metadata": {},
     "output_type": "execute_result"
    }
   ],
   "source": [
    "import types\n",
    "dir(types)"
   ]
  },
  {
   "cell_type": "markdown",
   "metadata": {},
   "source": [
    "This means that I can do something like ``from types import BooleanType`` to only extract a specific variable, class, or function instead! I can even rename it during ``import`` if I have name-conflicts:\n",
    "\n",
    "```python\n",
    "import types as MyTypes\n",
    "from types import BooleanType as AnotherBooleanType\n",
    "```"
   ]
  },
  {
   "cell_type": "markdown",
   "metadata": {},
   "source": [
    "## <a name=\"hello-world-future\"></a> The Future of Hello World\n",
    "\n",
    "However, you might have noticed that I say\n",
    "\n",
    "> ``print`` statement\n",
    "\n",
    "and not ``print`` function. There's a reason for this. I also introduced ``import`` as the second statement you have learned so far... Here's why!\n",
    "\n",
    "In Python, functions are defined"
   ]
  },
  {
   "cell_type": "code",
   "execution_count": 6,
   "metadata": {},
   "outputs": [],
   "source": [
    "def what_does_the_fox_say():\n",
    "    print \"Ring-ding-ding-ding-dingeringeding\""
   ]
  },
  {
   "cell_type": "markdown",
   "metadata": {},
   "source": [
    "and then executed"
   ]
  },
  {
   "cell_type": "code",
   "execution_count": 7,
   "metadata": {},
   "outputs": [
    {
     "name": "stdout",
     "output_type": "stream",
     "text": [
      "Ring-ding-ding-ding-dingeringeding\n"
     ]
    }
   ],
   "source": [
    "what_does_the_fox_say()"
   ]
  },
  {
   "cell_type": "markdown",
   "metadata": {},
   "source": [
    "Notice how the function in Python has two parentheses wrapping the arguments (or the function signature). Is the ``print`` statement a function?"
   ]
  },
  {
   "cell_type": "code",
   "execution_count": 27,
   "metadata": {},
   "outputs": [],
   "source": [
    "# try it out: print(....) with a single string or a single variable of your choice!"
   ]
  },
  {
   "cell_type": "markdown",
   "metadata": {},
   "source": [
    "But this isn't quite right! In fact, the parentheses here, as we'll talking about, defines a [tuple](#tuple). This is somewhat deceiving but check it out:"
   ]
  },
  {
   "cell_type": "code",
   "execution_count": 12,
   "metadata": {},
   "outputs": [
    {
     "name": "stdout",
     "output_type": "stream",
     "text": [
      "('Hakuna Matata!', 'Hakuna Matata!')\n"
     ]
    }
   ],
   "source": [
    "print(timon,timon)"
   ]
  },
  {
   "cell_type": "markdown",
   "metadata": {},
   "source": [
    "so it seems to be printing out two strings in a tuple format... Is ``(timon, timon)`` a tuple?"
   ]
  },
  {
   "cell_type": "code",
   "execution_count": 14,
   "metadata": {},
   "outputs": [
    {
     "data": {
      "text/plain": [
       "tuple"
      ]
     },
     "execution_count": 14,
     "metadata": {},
     "output_type": "execute_result"
    }
   ],
   "source": [
    "type( (timon,timon) )"
   ]
  },
  {
   "cell_type": "markdown",
   "metadata": {},
   "source": [
    "It appears to be! But how would I know if something is a function or not? Use the ``type`` class!"
   ]
  },
  {
   "cell_type": "code",
   "execution_count": 19,
   "metadata": {},
   "outputs": [
    {
     "data": {
      "text/plain": [
       "function"
      ]
     },
     "execution_count": 19,
     "metadata": {},
     "output_type": "execute_result"
    }
   ],
   "source": [
    "type(what_does_the_fox_say)"
   ]
  },
  {
   "cell_type": "code",
   "execution_count": 20,
   "metadata": {},
   "outputs": [
    {
     "ename": "SyntaxError",
     "evalue": "invalid syntax (<ipython-input-20-4f63349bb2ec>, line 1)",
     "output_type": "error",
     "traceback": [
      "\u001b[0;36m  File \u001b[0;32m\"<ipython-input-20-4f63349bb2ec>\"\u001b[0;36m, line \u001b[0;32m1\u001b[0m\n\u001b[0;31m    type(print)\u001b[0m\n\u001b[0m             ^\u001b[0m\n\u001b[0;31mSyntaxError\u001b[0m\u001b[0;31m:\u001b[0m invalid syntax\n"
     ]
    }
   ],
   "source": [
    "type(print)"
   ]
  },
  {
   "cell_type": "markdown",
   "metadata": {},
   "source": [
    "My personal opinion is that this sort of thing can start to get confusing having a very special *statement* in Python. For the rest of the notebook, we'll replace the ``print`` statement with the ``print`` function instead, which is a lot more powerful as we shall soon see.\n",
    "\n",
    "Let's try and fix the error we've seen:"
   ]
  },
  {
   "cell_type": "code",
   "execution_count": 1,
   "metadata": {},
   "outputs": [
    {
     "ename": "SyntaxError",
     "evalue": "invalid syntax (<ipython-input-1-fb60d9ade086>, line 3)",
     "output_type": "error",
     "traceback": [
      "\u001b[0;36m  File \u001b[0;32m\"<ipython-input-1-fb60d9ade086>\"\u001b[0;36m, line \u001b[0;32m3\u001b[0m\n\u001b[0;31m    type(print)\u001b[0m\n\u001b[0m             ^\u001b[0m\n\u001b[0;31mSyntaxError\u001b[0m\u001b[0;31m:\u001b[0m invalid syntax\n"
     ]
    }
   ],
   "source": [
    "# go ahead and import print_function from the __future__ module\n",
    "\n",
    "type(print)"
   ]
  },
  {
   "cell_type": "markdown",
   "metadata": {},
   "source": [
    "## <a name=\"input-output\"></a> Input/Output\n",
    "\n",
    "### <a name=\"input\"></a> Input"
   ]
  },
  {
   "cell_type": "markdown",
   "metadata": {},
   "source": [
    "### <a name=\"output\"></a> Output"
   ]
  },
  {
   "cell_type": "markdown",
   "metadata": {},
   "source": [
    "## Input\n",
    "\n",
    "### Raw Input / User Prompt\n",
    "\n",
    "### JSON\n",
    "\n",
    "### Delimited (Tab, Comma, Space, etc...)\n",
    "\n",
    "### ROOT\n",
    "\n",
    "### HD5\n",
    "\n",
    "-----------\n",
    "\n",
    "-----------\n",
    "\n",
    "## Output\n",
    "\n",
    "### Saying Hello World to a file\n",
    "\n",
    "see above future print, but with file redirector, etc...\n",
    "\n",
    "### JSON\n",
    "\n",
    "```python\n",
    "import json\n",
    "json.dump()\n",
    "json.dumps()\n",
    "```\n",
    "\n",
    "### Delimited\n",
    "\n",
    "### Line-by-line\n",
    "\n",
    "-----------\n",
    "\n",
    "-----------\n",
    "\n",
    "## Iterating Iterables\n",
    "\n",
    "### Lists\n",
    "\n",
    "### Sets\n",
    "\n",
    "### Dictionaries\n",
    "\n",
    "### Tuples\n",
    "\n",
    "### Strings\n",
    "\n",
    "### Files\n",
    "\n",
    "-----------\n",
    "\n",
    "-----------\n",
    "\n",
    "## Advanced Iterables\n",
    "\n",
    "### Generators and Yields\n",
    "\n",
    "### NumPy Arrays\n",
    "\n",
    "### Comprehension\n",
    "\n",
    "### Filtering\n",
    "\n",
    "### Slicing\n",
    "\n",
    "-----------\n",
    "\n",
    "-----------\n",
    "\n",
    "## Python Packaging and Advanced Examples\n",
    "\n",
    "### What is ``__init__.py`` and ``sys.path`` and ``$PYTHONPATH``?\n",
    "\n",
    "### How to write a user-configurable script?\n",
    "\n",
    "### All the shebangs and whistles\n",
    "\n",
    "### Lumberjack Training\n",
    "\n",
    "### C/C++ Interfacing\n",
    "\n",
    "See [hello_world_cython](hello_world_cython/README.rst). How do I link to a rendered document? I can put the next part of the tutorial there so they can link back and forth.\n",
    "\n",
    "### Comments, Docstrings, and Documentation - Oh My!\n",
    "\n",
    "### Debugging Code\n",
    "\n",
    "-----------\n",
    "\n",
    "-----------\n",
    "\n",
    "## Calculations and Plotting\n",
    "\n",
    "### Some example mathematical calculations\n",
    "\n",
    "### Some example plotting exercises"
   ]
  },
  {
   "cell_type": "code",
   "execution_count": null,
   "metadata": {},
   "outputs": [],
   "source": []
  }
 ],
 "metadata": {
  "kernelspec": {
   "display_name": "Python 2",
   "language": "python",
   "name": "python2"
  },
  "language_info": {
   "codemirror_mode": {
    "name": "ipython",
    "version": 2
   },
   "file_extension": ".py",
   "mimetype": "text/x-python",
   "name": "python",
   "nbconvert_exporter": "python",
   "pygments_lexer": "ipython2",
   "version": "2.7.13"
  }
 },
 "nbformat": 4,
 "nbformat_minor": 2
}
