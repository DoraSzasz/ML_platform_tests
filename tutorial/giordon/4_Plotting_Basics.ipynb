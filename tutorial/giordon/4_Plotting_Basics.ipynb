{
 "cells": [
  {
   "cell_type": "code",
   "execution_count": null,
   "metadata": {},
   "outputs": [],
   "source": [
    "import numpy as np\n",
    "import matplotlib.pyplot as pl"
   ]
  },
  {
   "cell_type": "markdown",
   "metadata": {},
   "source": [
    "We start by importing NumPy which you should be familiar with from the [previous tutorial](3_NumPy_Basics.ipynb). The next library introduced is called [MatPlotLib](http://matplotlib.org/) which is the roughly the Python equivalent of Matlab's plotting functionality. Think of it as a Mathematical Plotting Library.\n",
    "\n",
    "Let's use NumPy to create a Gaussian distribution and then plot it."
   ]
  },
  {
   "cell_type": "code",
   "execution_count": null,
   "metadata": {},
   "outputs": [],
   "source": [
    "fig, ax = pl.subplots(2,2, figsize=(8,6))"
   ]
  },
  {
   "cell_type": "code",
   "execution_count": null,
   "metadata": {},
   "outputs": [],
   "source": [
    "fig"
   ]
  },
  {
   "cell_type": "code",
   "execution_count": null,
   "metadata": {},
   "outputs": [],
   "source": [
    "ax"
   ]
  },
  {
   "cell_type": "code",
   "execution_count": null,
   "metadata": {},
   "outputs": [],
   "source": [
    "ax[0,0]"
   ]
  },
  {
   "cell_type": "markdown",
   "metadata": {},
   "source": [
    "We make a figure object that allows us to draw things inside of it. This is our canvas which lets us save the entire thing as an image or a PDF to our computer.\n",
    "\n",
    "We also split up this canvas to a 2x2 grid and tell matplotlib that we want 4 ``axes`` object. Each ``axes`` object is a separate plot that we can draw into. For the purposes of the exercise, we'll demonstrate the different linestyles in each subplot. The ordering is by setting ``[0,0]`` to the top-left and ``[n,m]`` to the bottom-right. As this returns a 2D array, you access each ``axis`` by ``ax[i,j]`` notation."
   ]
  },
  {
   "cell_type": "code",
   "execution_count": null,
   "metadata": {},
   "outputs": [],
   "source": [
    "# create x values from [0,99)\n",
    "x = np.arange(100)\n",
    "x"
   ]
  },
  {
   "cell_type": "code",
   "execution_count": null,
   "metadata": {},
   "outputs": [],
   "source": [
    "# generate y values based on a Gaussian PDF\n",
    "y1 = np.random.normal(loc=0.0, scale=1.0, size=x.size) # mu=0.0, sigma=1.0\n",
    "y2 = np.random.normal(loc=2.0, scale=2.0, size=x.size) # mu=1.0, sigma=2.0\n",
    "y3 = np.random.normal(loc=-2.0, scale=0.5, size=x.size)# mu=-1.0, sigma=0.5\n",
    "y1[:20] # just show the first 20 as an example"
   ]
  },
  {
   "cell_type": "markdown",
   "metadata": {},
   "source": [
    "Now, for each axes, we want to draw one of the four different example linestyles so you can get an idea of how this works."
   ]
  },
  {
   "cell_type": "code",
   "execution_count": null,
   "metadata": {},
   "outputs": [],
   "source": [
    "for axis, linestyle in zip(ax.reshape(-1), ['-', '--', '-.', ':']):\n",
    "    axis.plot(x, y1, color=\"red\", linewidth=1.0, linestyle=linestyle)\n",
    "    axis.plot(x, y2, color=\"blue\", linewidth=1.0, linestyle=linestyle)\n",
    "    axis.plot(x, y3, color=\"green\", linewidth=1.0, linestyle=linestyle)\n",
    "    axis.set_title('line style: '+linestyle)\n",
    "    axis.set_xlabel(\"$x$\")\n",
    "    axis.set_ylabel(\"$e^{-\\\\frac{(x-\\\\mu)^2}{2\\\\sigma}}$\")"
   ]
  },
  {
   "cell_type": "markdown",
   "metadata": {},
   "source": [
    "You can see that we use ``ax.reshape(-1)`` which flattens our ``axes`` object, so we can just loop over all 4 entries without nested loops, and we combine this with the different linestyles we want to look at: ``['-', '--', '-.', ':']``.\n",
    "\n",
    "So for each axis, we plot ``y1``, ``y2``, and ``y3`` with different colors for the same linestyle and then set the title. Let's look at the plots we just made:"
   ]
  },
  {
   "cell_type": "code",
   "execution_count": null,
   "metadata": {},
   "outputs": [],
   "source": [
    "fig"
   ]
  },
  {
   "cell_type": "markdown",
   "metadata": {},
   "source": [
    "But as a perfectionist, I dislike that things look like they overlap... let's fix this using [``matplotlib.tight_layout()``](https://matplotlib.org/api/pyplot_api.html#matplotlib.pyplot.tight_layout)"
   ]
  },
  {
   "cell_type": "code",
   "execution_count": null,
   "metadata": {},
   "outputs": [],
   "source": [
    "pl.tight_layout() # a nice command that just fixes overlaps\n",
    "fig"
   ]
  },
  {
   "cell_type": "code",
   "execution_count": null,
   "metadata": {},
   "outputs": [],
   "source": [
    "pl.clf() # clear current figure"
   ]
  },
  {
   "cell_type": "markdown",
   "metadata": {},
   "source": [
    "# Sharing Axes\n",
    "\n",
    "A nice example to demonstrate another feature of NumPy and Matplotlib together for analysis and visualization is to make one of my favorite kinds of plots"
   ]
  },
  {
   "cell_type": "code",
   "execution_count": null,
   "metadata": {},
   "outputs": [],
   "source": [
    "data_2d = np.random.multivariate_normal([10, 5], [[9,3],[3,18]], size=1000000)"
   ]
  },
  {
   "cell_type": "markdown",
   "metadata": {},
   "source": [
    "Draw ``size=1000000`` random samples from a multivariate normal distribution. We first specify the means: ``[10, 5]``, then the covariance matrix of the distribution ``[[3,2],[2,3]]``. What does this look like?"
   ]
  },
  {
   "cell_type": "code",
   "execution_count": null,
   "metadata": {},
   "outputs": [],
   "source": [
    "pl.hist2d(data_2d[:, 0], data_2d[:,1])\n",
    "pl.show()"
   ]
  },
  {
   "cell_type": "markdown",
   "metadata": {},
   "source": [
    "Oh, that looks weird, maybe we should increase the binning."
   ]
  },
  {
   "cell_type": "code",
   "execution_count": null,
   "metadata": {},
   "outputs": [],
   "source": [
    "pl.hist2d(data_2d[:, 0], data_2d[:, 1], bins=100)\n",
    "pl.show()"
   ]
  },
  {
   "cell_type": "markdown",
   "metadata": {},
   "source": [
    "And we can understand the underlying histograms that lie alone each axis."
   ]
  },
  {
   "cell_type": "code",
   "execution_count": null,
   "metadata": {},
   "outputs": [],
   "source": [
    "fig, ax = pl.subplots()\n",
    "ax.hist(data_2d[:,0], bins=100, color=\"red\", alpha=0.5) # draw x-histogram\n",
    "ax.hist(data_2d[:,1], bins=100, color=\"blue\", alpha=0.5) # draw y-histogram\n",
    "pl.show()"
   ]
  },
  {
   "cell_type": "code",
   "execution_count": null,
   "metadata": {},
   "outputs": [],
   "source": [
    "pl.clf()"
   ]
  },
  {
   "cell_type": "markdown",
   "metadata": {},
   "source": [
    "Now let's combine the these plots in a way that teaches someone what a 2D histogram represents along each dimension. In order to get our histogram for the ``y-axis`` \"rotated\", we just need to specify a ``orientiation='horizontal'`` when drawing the histogram."
   ]
  },
  {
   "cell_type": "code",
   "execution_count": null,
   "metadata": {},
   "outputs": [],
   "source": [
    "fig, ax = pl.subplots(2,2, sharex='col', sharey='row', figsize=(10,10))\n",
    "\n",
    "# draw x-histogram at top-left\n",
    "ax[0,0].hist(data_2d[:,0], bins=100, color=\"red\") # draw x-histogram\n",
    "# draw y-histogram at bottom-right\n",
    "ax[1,1].hist(data_2d[:,1], bins=100, color=\"blue\",orientation=\"horizontal\")\n",
    "# draw 2d histogram at bottom-left\n",
    "ax[1,0].hist2d(data_2d[:, 0], data_2d[:, 1], bins=100)\n",
    "# delete top-right\n",
    "fig.delaxes(ax[0,1])\n",
    "fig"
   ]
  },
  {
   "cell_type": "markdown",
   "metadata": {},
   "source": [
    "But again, I am not a huge fan of the whitespace between subplots, so I run the following"
   ]
  },
  {
   "cell_type": "code",
   "execution_count": null,
   "metadata": {},
   "outputs": [],
   "source": [
    "pl.subplots_adjust(wspace=0, hspace=0)\n",
    "fig"
   ]
  }
 ],
 "metadata": {
  "kernelspec": {
   "display_name": "Python 2",
   "language": "python",
   "name": "python2"
  },
  "language_info": {
   "codemirror_mode": {
    "name": "ipython",
    "version": 2
   },
   "file_extension": ".py",
   "mimetype": "text/x-python",
   "name": "python",
   "nbconvert_exporter": "python",
   "pygments_lexer": "ipython2",
   "version": "2.7.13"
  }
 },
 "nbformat": 4,
 "nbformat_minor": 2
}
