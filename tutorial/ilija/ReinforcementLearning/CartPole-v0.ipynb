{
 "cells": [
  {
   "cell_type": "markdown",
   "metadata": {},
   "source": [
    "# Solving CartPole OpenAI environment using DQNAgent"
   ]
  },
  {
   "cell_type": "markdown",
   "metadata": {},
   "source": [
    "#### first install rl package - not done in the container as it requires a bit older version of keras"
   ]
  },
  {
   "cell_type": "code",
   "execution_count": 2,
   "metadata": {},
   "outputs": [
    {
     "name": "stdout",
     "output_type": "stream",
     "text": [
      "Requirement already satisfied: keras-rl in /usr/local/lib/python3.5/dist-packages\n",
      "Requirement already satisfied: keras<2.0.7,>=1.0.7 in /usr/local/lib/python3.5/dist-packages (from keras-rl)\n",
      "Requirement already satisfied: six in /usr/local/lib/python3.5/dist-packages (from keras<2.0.7,>=1.0.7->keras-rl)\n",
      "Requirement already satisfied: theano in /usr/local/lib/python3.5/dist-packages (from keras<2.0.7,>=1.0.7->keras-rl)\n",
      "Requirement already satisfied: pyyaml in /usr/local/lib/python3.5/dist-packages (from keras<2.0.7,>=1.0.7->keras-rl)\n",
      "Requirement already satisfied: scipy>=0.14 in /usr/local/lib/python3.5/dist-packages (from theano->keras<2.0.7,>=1.0.7->keras-rl)\n",
      "Requirement already satisfied: numpy>=1.9.1 in /usr/local/lib/python3.5/dist-packages (from theano->keras<2.0.7,>=1.0.7->keras-rl)\n"
     ]
    }
   ],
   "source": [
    "!pip install keras-rl\n",
    "\n",
    "# these are needed to show display\n",
    "# !apt-get install xvfb\n",
    "# !apt-get install python-opengl"
   ]
  },
  {
   "cell_type": "code",
   "execution_count": null,
   "metadata": {},
   "outputs": [
    {
     "name": "stderr",
     "output_type": "stream",
     "text": [
      "Using TensorFlow backend.\n"
     ]
    },
    {
     "name": "stdout",
     "output_type": "stream",
     "text": [
      "_________________________________________________________________\n",
      "Layer (type)                 Output Shape              Param #   \n",
      "=================================================================\n",
      "flatten_1 (Flatten)          (None, 4)                 0         \n",
      "_________________________________________________________________\n",
      "dense_1 (Dense)              (None, 16)                80        \n",
      "_________________________________________________________________\n",
      "activation_1 (Activation)    (None, 16)                0         \n",
      "_________________________________________________________________\n",
      "dense_2 (Dense)              (None, 16)                272       \n",
      "_________________________________________________________________\n",
      "activation_2 (Activation)    (None, 16)                0         \n",
      "_________________________________________________________________\n",
      "dense_3 (Dense)              (None, 16)                272       \n",
      "_________________________________________________________________\n",
      "activation_3 (Activation)    (None, 16)                0         \n",
      "_________________________________________________________________\n",
      "dense_4 (Dense)              (None, 2)                 34        \n",
      "_________________________________________________________________\n",
      "activation_4 (Activation)    (None, 2)                 0         \n",
      "=================================================================\n",
      "Total params: 658\n",
      "Trainable params: 658\n",
      "Non-trainable params: 0\n",
      "_________________________________________________________________\n",
      "None\n",
      "Training for 50000 steps ...\n"
     ]
    },
    {
     "name": "stderr",
     "output_type": "stream",
     "text": [
      "/usr/local/lib/python3.5/dist-packages/rl/memory.py:29: UserWarning: Not enough entries to sample without replacement. Consider increasing your warm-up phase to avoid oversampling!\n",
      "  warnings.warn('Not enough entries to sample without replacement. Consider increasing your warm-up phase to avoid oversampling!')\n"
     ]
    },
    {
     "name": "stdout",
     "output_type": "stream",
     "text": [
      "    23/50000: episode: 1, duration: 1.024s, episode steps: 23, steps per second: 22, episode reward: 23.000, mean reward: 1.000 [1.000, 1.000], mean action: 0.609 [0.000, 1.000], mean observation: -0.082 [-2.106, 1.171], loss: 0.480381, mean_absolute_error: 0.504366, mean_q: 0.034857\n",
      "    33/50000: episode: 2, duration: 0.096s, episode steps: 10, steps per second: 104, episode reward: 10.000, mean reward: 1.000 [1.000, 1.000], mean action: 0.300 [0.000, 1.000], mean observation: 0.157 [-1.129, 1.948], loss: 0.424381, mean_absolute_error: 0.512619, mean_q: 0.116559\n"
     ]
    },
    {
     "name": "stderr",
     "output_type": "stream",
     "text": [
      "/usr/local/lib/python3.5/dist-packages/rl/memory.py:29: UserWarning: Not enough entries to sample without replacement. Consider increasing your warm-up phase to avoid oversampling!\n",
      "  warnings.warn('Not enough entries to sample without replacement. Consider increasing your warm-up phase to avoid oversampling!')\n"
     ]
    },
    {
     "name": "stdout",
     "output_type": "stream",
     "text": [
      "    69/50000: episode: 3, duration: 0.295s, episode steps: 36, steps per second: 122, episode reward: 36.000, mean reward: 1.000 [1.000, 1.000], mean action: 0.528 [0.000, 1.000], mean observation: 0.134 [-0.535, 0.891], loss: 0.262810, mean_absolute_error: 0.556174, mean_q: 0.438657\n",
      "    86/50000: episode: 4, duration: 0.140s, episode steps: 17, steps per second: 121, episode reward: 17.000, mean reward: 1.000 [1.000, 1.000], mean action: 0.471 [0.000, 1.000], mean observation: 0.081 [-0.803, 1.185], loss: 0.107777, mean_absolute_error: 0.621345, mean_q: 0.861255\n",
      "   130/50000: episode: 5, duration: 0.371s, episode steps: 44, steps per second: 118, episode reward: 44.000, mean reward: 1.000 [1.000, 1.000], mean action: 0.523 [0.000, 1.000], mean observation: -0.153 [-2.216, 0.852], loss: 0.041801, mean_absolute_error: 0.715026, mean_q: 1.303339\n",
      "   144/50000: episode: 6, duration: 0.123s, episode steps: 14, steps per second: 114, episode reward: 14.000, mean reward: 1.000 [1.000, 1.000], mean action: 0.214 [0.000, 1.000], mean observation: 0.116 [-1.560, 2.559], loss: 0.023699, mean_absolute_error: 0.808045, mean_q: 1.583197\n",
      "   165/50000: episode: 7, duration: 0.191s, episode steps: 21, steps per second: 110, episode reward: 21.000, mean reward: 1.000 [1.000, 1.000], mean action: 0.476 [0.000, 1.000], mean observation: -0.105 [-1.212, 0.825], loss: 0.029494, mean_absolute_error: 0.866596, mean_q: 1.696570\n",
      "   195/50000: episode: 8, duration: 0.261s, episode steps: 30, steps per second: 115, episode reward: 30.000, mean reward: 1.000 [1.000, 1.000], mean action: 0.433 [0.000, 1.000], mean observation: 0.062 [-0.807, 1.682], loss: 0.026256, mean_absolute_error: 0.945734, mean_q: 1.898220\n",
      "   210/50000: episode: 9, duration: 0.126s, episode steps: 15, steps per second: 119, episode reward: 15.000, mean reward: 1.000 [1.000, 1.000], mean action: 0.733 [0.000, 1.000], mean observation: -0.072 [-2.279, 1.420], loss: 0.042287, mean_absolute_error: 1.042525, mean_q: 2.068582\n",
      "   225/50000: episode: 10, duration: 0.137s, episode steps: 15, steps per second: 109, episode reward: 15.000, mean reward: 1.000 [1.000, 1.000], mean action: 0.333 [0.000, 1.000], mean observation: 0.086 [-1.006, 1.850], loss: 0.042651, mean_absolute_error: 1.092062, mean_q: 2.170076\n",
      "   251/50000: episode: 11, duration: 0.234s, episode steps: 26, steps per second: 111, episode reward: 26.000, mean reward: 1.000 [1.000, 1.000], mean action: 0.500 [0.000, 1.000], mean observation: 0.069 [-0.806, 1.128], loss: 0.052629, mean_absolute_error: 1.174579, mean_q: 2.281313\n",
      "   289/50000: episode: 12, duration: 0.340s, episode steps: 38, steps per second: 112, episode reward: 38.000, mean reward: 1.000 [1.000, 1.000], mean action: 0.526 [0.000, 1.000], mean observation: -0.111 [-1.769, 0.483], loss: 0.059294, mean_absolute_error: 1.312545, mean_q: 2.570176\n",
      "   348/50000: episode: 13, duration: 0.480s, episode steps: 59, steps per second: 123, episode reward: 59.000, mean reward: 1.000 [1.000, 1.000], mean action: 0.441 [0.000, 1.000], mean observation: -0.042 [-1.864, 1.878], loss: 0.062417, mean_absolute_error: 1.503134, mean_q: 2.976257\n",
      "   360/50000: episode: 14, duration: 0.103s, episode steps: 12, steps per second: 116, episode reward: 12.000, mean reward: 1.000 [1.000, 1.000], mean action: 0.250 [0.000, 1.000], mean observation: 0.110 [-1.354, 2.172], loss: 0.073154, mean_absolute_error: 1.661708, mean_q: 3.287136\n",
      "   378/50000: episode: 15, duration: 0.162s, episode steps: 18, steps per second: 111, episode reward: 18.000, mean reward: 1.000 [1.000, 1.000], mean action: 0.389 [0.000, 1.000], mean observation: 0.069 [-0.802, 1.539], loss: 0.117722, mean_absolute_error: 1.752630, mean_q: 3.433394\n",
      "   406/50000: episode: 16, duration: 0.287s, episode steps: 28, steps per second: 98, episode reward: 28.000, mean reward: 1.000 [1.000, 1.000], mean action: 0.607 [0.000, 1.000], mean observation: -0.030 [-2.067, 1.374], loss: 0.146123, mean_absolute_error: 1.859909, mean_q: 3.597079\n",
      "   420/50000: episode: 17, duration: 0.140s, episode steps: 14, steps per second: 100, episode reward: 14.000, mean reward: 1.000 [1.000, 1.000], mean action: 0.357 [0.000, 1.000], mean observation: 0.087 [-0.967, 1.658], loss: 0.113094, mean_absolute_error: 1.916570, mean_q: 3.743582\n",
      "   438/50000: episode: 18, duration: 0.161s, episode steps: 18, steps per second: 112, episode reward: 18.000, mean reward: 1.000 [1.000, 1.000], mean action: 0.333 [0.000, 1.000], mean observation: 0.075 [-1.381, 2.189], loss: 0.084106, mean_absolute_error: 1.995055, mean_q: 3.885199\n",
      "   449/50000: episode: 19, duration: 0.097s, episode steps: 11, steps per second: 114, episode reward: 11.000, mean reward: 1.000 [1.000, 1.000], mean action: 0.818 [0.000, 1.000], mean observation: -0.105 [-2.288, 1.399], loss: 0.144820, mean_absolute_error: 2.051300, mean_q: 3.959763\n",
      "   458/50000: episode: 20, duration: 0.093s, episode steps: 9, steps per second: 96, episode reward: 9.000, mean reward: 1.000 [1.000, 1.000], mean action: 0.000 [0.000, 0.000], mean observation: 0.153 [-1.756, 2.807], loss: 0.123180, mean_absolute_error: 2.120104, mean_q: 4.115472\n",
      "   469/50000: episode: 21, duration: 0.105s, episode steps: 11, steps per second: 105, episode reward: 11.000, mean reward: 1.000 [1.000, 1.000], mean action: 0.182 [0.000, 1.000], mean observation: 0.149 [-1.354, 2.344], loss: 0.152210, mean_absolute_error: 2.158862, mean_q: 4.183540\n",
      "   497/50000: episode: 22, duration: 0.263s, episode steps: 28, steps per second: 106, episode reward: 28.000, mean reward: 1.000 [1.000, 1.000], mean action: 0.321 [0.000, 1.000], mean observation: 0.013 [-1.954, 2.800], loss: 0.157808, mean_absolute_error: 2.248155, mean_q: 4.359351\n",
      "   508/50000: episode: 23, duration: 0.107s, episode steps: 11, steps per second: 103, episode reward: 11.000, mean reward: 1.000 [1.000, 1.000], mean action: 0.273 [0.000, 1.000], mean observation: 0.135 [-1.144, 2.023], loss: 0.169382, mean_absolute_error: 2.295992, mean_q: 4.497433\n",
      "   519/50000: episode: 24, duration: 0.099s, episode steps: 11, steps per second: 111, episode reward: 11.000, mean reward: 1.000 [1.000, 1.000], mean action: 0.182 [0.000, 1.000], mean observation: 0.137 [-1.360, 2.293], loss: 0.109370, mean_absolute_error: 2.352921, mean_q: 4.607642\n",
      "   534/50000: episode: 25, duration: 0.144s, episode steps: 15, steps per second: 104, episode reward: 15.000, mean reward: 1.000 [1.000, 1.000], mean action: 0.267 [0.000, 1.000], mean observation: 0.073 [-1.579, 2.434], loss: 0.228037, mean_absolute_error: 2.406651, mean_q: 4.525707\n",
      "   551/50000: episode: 26, duration: 0.164s, episode steps: 17, steps per second: 103, episode reward: 17.000, mean reward: 1.000 [1.000, 1.000], mean action: 0.471 [0.000, 1.000], mean observation: 0.100 [-0.579, 1.131], loss: 0.192808, mean_absolute_error: 2.524687, mean_q: 4.815046\n",
      "   564/50000: episode: 27, duration: 0.126s, episode steps: 13, steps per second: 103, episode reward: 13.000, mean reward: 1.000 [1.000, 1.000], mean action: 0.308 [0.000, 1.000], mean observation: 0.076 [-1.181, 1.714], loss: 0.198154, mean_absolute_error: 2.542445, mean_q: 4.871717\n",
      "   585/50000: episode: 28, duration: 0.181s, episode steps: 21, steps per second: 116, episode reward: 21.000, mean reward: 1.000 [1.000, 1.000], mean action: 0.429 [0.000, 1.000], mean observation: 0.064 [-1.037, 1.809], loss: 0.226335, mean_absolute_error: 2.619232, mean_q: 4.975350\n",
      "   605/50000: episode: 29, duration: 0.173s, episode steps: 20, steps per second: 115, episode reward: 20.000, mean reward: 1.000 [1.000, 1.000], mean action: 0.450 [0.000, 1.000], mean observation: 0.090 [-0.735, 1.193], loss: 0.221865, mean_absolute_error: 2.686155, mean_q: 5.160323\n",
      "   621/50000: episode: 30, duration: 0.155s, episode steps: 16, steps per second: 103, episode reward: 16.000, mean reward: 1.000 [1.000, 1.000], mean action: 0.312 [0.000, 1.000], mean observation: 0.090 [-1.135, 1.990], loss: 0.196940, mean_absolute_error: 2.774967, mean_q: 5.317750\n",
      "   640/50000: episode: 31, duration: 0.163s, episode steps: 19, steps per second: 116, episode reward: 19.000, mean reward: 1.000 [1.000, 1.000], mean action: 0.421 [0.000, 1.000], mean observation: 0.060 [-1.005, 1.410], loss: 0.194193, mean_absolute_error: 2.830999, mean_q: 5.435344\n"
     ]
    },
    {
     "name": "stdout",
     "output_type": "stream",
     "text": [
      "   655/50000: episode: 32, duration: 0.135s, episode steps: 15, steps per second: 111, episode reward: 15.000, mean reward: 1.000 [1.000, 1.000], mean action: 0.400 [0.000, 1.000], mean observation: 0.079 [-1.027, 1.661], loss: 0.212586, mean_absolute_error: 2.861350, mean_q: 5.446199\n",
      "   665/50000: episode: 33, duration: 0.088s, episode steps: 10, steps per second: 113, episode reward: 10.000, mean reward: 1.000 [1.000, 1.000], mean action: 0.800 [0.000, 1.000], mean observation: -0.125 [-2.206, 1.394], loss: 0.192192, mean_absolute_error: 2.875637, mean_q: 5.469489\n",
      "   693/50000: episode: 34, duration: 0.237s, episode steps: 28, steps per second: 118, episode reward: 28.000, mean reward: 1.000 [1.000, 1.000], mean action: 0.429 [0.000, 1.000], mean observation: 0.072 [-0.939, 1.798], loss: 0.195467, mean_absolute_error: 2.959061, mean_q: 5.694083\n",
      "   703/50000: episode: 35, duration: 0.097s, episode steps: 10, steps per second: 103, episode reward: 10.000, mean reward: 1.000 [1.000, 1.000], mean action: 0.100 [0.000, 1.000], mean observation: 0.119 [-1.591, 2.582], loss: 0.145942, mean_absolute_error: 3.056212, mean_q: 5.906309\n",
      "   719/50000: episode: 36, duration: 0.140s, episode steps: 16, steps per second: 114, episode reward: 16.000, mean reward: 1.000 [1.000, 1.000], mean action: 0.562 [0.000, 1.000], mean observation: -0.099 [-1.224, 0.578], loss: 0.226785, mean_absolute_error: 3.063882, mean_q: 5.851547\n",
      "   751/50000: episode: 37, duration: 0.292s, episode steps: 32, steps per second: 110, episode reward: 32.000, mean reward: 1.000 [1.000, 1.000], mean action: 0.531 [0.000, 1.000], mean observation: -0.085 [-1.561, 0.631], loss: 0.266956, mean_absolute_error: 3.174632, mean_q: 6.100576\n",
      "   769/50000: episode: 38, duration: 0.157s, episode steps: 18, steps per second: 114, episode reward: 18.000, mean reward: 1.000 [1.000, 1.000], mean action: 0.389 [0.000, 1.000], mean observation: 0.107 [-0.975, 1.937], loss: 0.210578, mean_absolute_error: 3.271431, mean_q: 6.385976\n",
      "   791/50000: episode: 39, duration: 0.201s, episode steps: 22, steps per second: 109, episode reward: 22.000, mean reward: 1.000 [1.000, 1.000], mean action: 0.591 [0.000, 1.000], mean observation: -0.085 [-1.663, 0.798], loss: 0.183826, mean_absolute_error: 3.364713, mean_q: 6.583043\n",
      "   808/50000: episode: 40, duration: 0.164s, episode steps: 17, steps per second: 104, episode reward: 17.000, mean reward: 1.000 [1.000, 1.000], mean action: 0.471 [0.000, 1.000], mean observation: 0.077 [-0.797, 1.261], loss: 0.311758, mean_absolute_error: 3.442666, mean_q: 6.693933\n",
      "   828/50000: episode: 41, duration: 0.172s, episode steps: 20, steps per second: 117, episode reward: 20.000, mean reward: 1.000 [1.000, 1.000], mean action: 0.450 [0.000, 1.000], mean observation: 0.109 [-0.791, 1.511], loss: 0.307283, mean_absolute_error: 3.489234, mean_q: 6.761276\n",
      "   863/50000: episode: 42, duration: 0.281s, episode steps: 35, steps per second: 125, episode reward: 35.000, mean reward: 1.000 [1.000, 1.000], mean action: 0.543 [0.000, 1.000], mean observation: -0.060 [-1.526, 0.748], loss: 0.248430, mean_absolute_error: 3.558978, mean_q: 6.920216\n",
      "   875/50000: episode: 43, duration: 0.103s, episode steps: 12, steps per second: 117, episode reward: 12.000, mean reward: 1.000 [1.000, 1.000], mean action: 0.417 [0.000, 1.000], mean observation: 0.127 [-0.751, 1.433], loss: 0.357437, mean_absolute_error: 3.727479, mean_q: 7.209438\n",
      "   910/50000: episode: 44, duration: 0.280s, episode steps: 35, steps per second: 125, episode reward: 35.000, mean reward: 1.000 [1.000, 1.000], mean action: 0.571 [0.000, 1.000], mean observation: -0.031 [-2.076, 1.223], loss: 0.296007, mean_absolute_error: 3.775278, mean_q: 7.334242\n",
      "   942/50000: episode: 45, duration: 0.271s, episode steps: 32, steps per second: 118, episode reward: 32.000, mean reward: 1.000 [1.000, 1.000], mean action: 0.500 [0.000, 1.000], mean observation: -0.016 [-1.198, 0.823], loss: 0.262848, mean_absolute_error: 3.892767, mean_q: 7.633612\n",
      "   963/50000: episode: 46, duration: 0.200s, episode steps: 21, steps per second: 105, episode reward: 21.000, mean reward: 1.000 [1.000, 1.000], mean action: 0.619 [0.000, 1.000], mean observation: -0.027 [-1.671, 1.021], loss: 0.367637, mean_absolute_error: 4.038206, mean_q: 7.916461\n",
      "  1007/50000: episode: 47, duration: 0.378s, episode steps: 44, steps per second: 116, episode reward: 44.000, mean reward: 1.000 [1.000, 1.000], mean action: 0.523 [0.000, 1.000], mean observation: 0.107 [-0.607, 0.873], loss: 0.287329, mean_absolute_error: 4.154356, mean_q: 8.170542\n",
      "  1111/50000: episode: 48, duration: 0.898s, episode steps: 104, steps per second: 116, episode reward: 104.000, mean reward: 1.000 [1.000, 1.000], mean action: 0.490 [0.000, 1.000], mean observation: -0.130 [-1.167, 0.942], loss: 0.365442, mean_absolute_error: 4.441643, mean_q: 8.764605\n",
      "  1123/50000: episode: 49, duration: 0.118s, episode steps: 12, steps per second: 101, episode reward: 12.000, mean reward: 1.000 [1.000, 1.000], mean action: 0.417 [0.000, 1.000], mean observation: 0.095 [-0.987, 1.563], loss: 0.317287, mean_absolute_error: 4.696076, mean_q: 9.346006\n",
      "  1137/50000: episode: 50, duration: 0.129s, episode steps: 14, steps per second: 108, episode reward: 14.000, mean reward: 1.000 [1.000, 1.000], mean action: 0.500 [0.000, 1.000], mean observation: -0.112 [-1.371, 0.767], loss: 0.336326, mean_absolute_error: 4.693422, mean_q: 9.300912\n",
      "  1159/50000: episode: 51, duration: 0.209s, episode steps: 22, steps per second: 105, episode reward: 22.000, mean reward: 1.000 [1.000, 1.000], mean action: 0.455 [0.000, 1.000], mean observation: -0.079 [-1.524, 1.012], loss: 0.350383, mean_absolute_error: 4.776385, mean_q: 9.475493\n",
      "  1247/50000: episode: 52, duration: 0.701s, episode steps: 88, steps per second: 126, episode reward: 88.000, mean reward: 1.000 [1.000, 1.000], mean action: 0.557 [0.000, 1.000], mean observation: 0.012 [-2.089, 2.060], loss: 0.489334, mean_absolute_error: 5.020355, mean_q: 9.959521\n",
      "  1287/50000: episode: 53, duration: 0.338s, episode steps: 40, steps per second: 118, episode reward: 40.000, mean reward: 1.000 [1.000, 1.000], mean action: 0.450 [0.000, 1.000], mean observation: -0.014 [-1.194, 1.409], loss: 0.486345, mean_absolute_error: 5.258748, mean_q: 10.476784\n",
      "  1370/50000: episode: 54, duration: 0.697s, episode steps: 83, steps per second: 119, episode reward: 83.000, mean reward: 1.000 [1.000, 1.000], mean action: 0.458 [0.000, 1.000], mean observation: -0.152 [-1.282, 0.723], loss: 0.479385, mean_absolute_error: 5.505108, mean_q: 11.023779\n",
      "  1478/50000: episode: 55, duration: 0.881s, episode steps: 108, steps per second: 123, episode reward: 108.000, mean reward: 1.000 [1.000, 1.000], mean action: 0.491 [0.000, 1.000], mean observation: -0.017 [-1.302, 1.072], loss: 0.503912, mean_absolute_error: 5.953216, mean_q: 11.969995\n",
      "  1550/50000: episode: 56, duration: 0.600s, episode steps: 72, steps per second: 120, episode reward: 72.000, mean reward: 1.000 [1.000, 1.000], mean action: 0.472 [0.000, 1.000], mean observation: -0.224 [-1.353, 0.830], loss: 0.567948, mean_absolute_error: 6.351671, mean_q: 12.821471\n",
      "  1642/50000: episode: 57, duration: 0.796s, episode steps: 92, steps per second: 116, episode reward: 92.000, mean reward: 1.000 [1.000, 1.000], mean action: 0.478 [0.000, 1.000], mean observation: -0.184 [-1.146, 0.923], loss: 0.659819, mean_absolute_error: 6.719845, mean_q: 13.474904\n",
      "  1782/50000: episode: 58, duration: 1.195s, episode steps: 140, steps per second: 117, episode reward: 140.000, mean reward: 1.000 [1.000, 1.000], mean action: 0.493 [0.000, 1.000], mean observation: -0.179 [-1.190, 1.044], loss: 0.653232, mean_absolute_error: 7.243451, mean_q: 14.609743\n",
      "  1982/50000: episode: 59, duration: 1.688s, episode steps: 200, steps per second: 118, episode reward: 200.000, mean reward: 1.000 [1.000, 1.000], mean action: 0.515 [0.000, 1.000], mean observation: 0.111 [-1.138, 1.272], loss: 0.751181, mean_absolute_error: 7.944715, mean_q: 16.012493\n",
      "  2110/50000: episode: 60, duration: 1.082s, episode steps: 128, steps per second: 118, episode reward: 128.000, mean reward: 1.000 [1.000, 1.000], mean action: 0.484 [0.000, 1.000], mean observation: -0.177 [-1.179, 1.010], loss: 0.806634, mean_absolute_error: 8.702890, mean_q: 17.615463\n"
     ]
    },
    {
     "name": "stdout",
     "output_type": "stream",
     "text": [
      "  2239/50000: episode: 61, duration: 1.087s, episode steps: 129, steps per second: 119, episode reward: 129.000, mean reward: 1.000 [1.000, 1.000], mean action: 0.473 [0.000, 1.000], mean observation: -0.275 [-1.859, 1.166], loss: 0.847046, mean_absolute_error: 9.295400, mean_q: 18.827444\n",
      "  2332/50000: episode: 62, duration: 0.785s, episode steps: 93, steps per second: 118, episode reward: 93.000, mean reward: 1.000 [1.000, 1.000], mean action: 0.473 [0.000, 1.000], mean observation: -0.269 [-1.302, 0.828], loss: 0.871044, mean_absolute_error: 9.728604, mean_q: 19.685436\n",
      "  2532/50000: episode: 63, duration: 1.744s, episode steps: 200, steps per second: 115, episode reward: 200.000, mean reward: 1.000 [1.000, 1.000], mean action: 0.475 [0.000, 1.000], mean observation: -0.182 [-1.795, 1.201], loss: 0.973263, mean_absolute_error: 10.409055, mean_q: 21.050152\n",
      "  2689/50000: episode: 64, duration: 1.311s, episode steps: 157, steps per second: 120, episode reward: 157.000, mean reward: 1.000 [1.000, 1.000], mean action: 0.471 [0.000, 1.000], mean observation: -0.263 [-1.616, 1.007], loss: 1.222673, mean_absolute_error: 11.201265, mean_q: 22.683563\n",
      "  2844/50000: episode: 65, duration: 1.220s, episode steps: 155, steps per second: 127, episode reward: 155.000, mean reward: 1.000 [1.000, 1.000], mean action: 0.465 [0.000, 1.000], mean observation: -0.368 [-2.204, 1.135], loss: 1.076363, mean_absolute_error: 11.821732, mean_q: 23.975828\n",
      "  3018/50000: episode: 66, duration: 1.461s, episode steps: 174, steps per second: 119, episode reward: 174.000, mean reward: 1.000 [1.000, 1.000], mean action: 0.466 [0.000, 1.000], mean observation: -0.394 [-2.439, 1.299], loss: 1.043733, mean_absolute_error: 12.473985, mean_q: 25.355864\n",
      "  3218/50000: episode: 67, duration: 1.552s, episode steps: 200, steps per second: 129, episode reward: 200.000, mean reward: 1.000 [1.000, 1.000], mean action: 0.470 [0.000, 1.000], mean observation: -0.338 [-2.346, 1.045], loss: 1.513199, mean_absolute_error: 13.090618, mean_q: 26.563288\n",
      "  3418/50000: episode: 68, duration: 1.695s, episode steps: 200, steps per second: 118, episode reward: 200.000, mean reward: 1.000 [1.000, 1.000], mean action: 0.485 [0.000, 1.000], mean observation: -0.223 [-1.658, 1.065], loss: 1.471942, mean_absolute_error: 13.903289, mean_q: 28.254488\n",
      "  3618/50000: episode: 69, duration: 1.689s, episode steps: 200, steps per second: 118, episode reward: 200.000, mean reward: 1.000 [1.000, 1.000], mean action: 0.485 [0.000, 1.000], mean observation: -0.248 [-1.696, 0.905], loss: 1.197178, mean_absolute_error: 14.702241, mean_q: 29.932646\n",
      "  3808/50000: episode: 70, duration: 1.554s, episode steps: 190, steps per second: 122, episode reward: 190.000, mean reward: 1.000 [1.000, 1.000], mean action: 0.474 [0.000, 1.000], mean observation: -0.332 [-2.154, 1.592], loss: 1.632933, mean_absolute_error: 15.506634, mean_q: 31.582951\n",
      "  4008/50000: episode: 71, duration: 1.701s, episode steps: 200, steps per second: 118, episode reward: 200.000, mean reward: 1.000 [1.000, 1.000], mean action: 0.490 [0.000, 1.000], mean observation: -0.235 [-1.623, 0.789], loss: 1.563969, mean_absolute_error: 16.326923, mean_q: 33.206333\n",
      "  4200/50000: episode: 72, duration: 1.674s, episode steps: 192, steps per second: 115, episode reward: 192.000, mean reward: 1.000 [1.000, 1.000], mean action: 0.469 [0.000, 1.000], mean observation: -0.359 [-2.420, 0.967], loss: 1.504639, mean_absolute_error: 17.056906, mean_q: 34.726028\n",
      "  4361/50000: episode: 73, duration: 1.337s, episode steps: 161, steps per second: 120, episode reward: 161.000, mean reward: 1.000 [1.000, 1.000], mean action: 0.466 [0.000, 1.000], mean observation: -0.423 [-2.406, 1.033], loss: 1.748351, mean_absolute_error: 17.695776, mean_q: 35.998695\n",
      "  4561/50000: episode: 74, duration: 1.722s, episode steps: 200, steps per second: 116, episode reward: 200.000, mean reward: 1.000 [1.000, 1.000], mean action: 0.485 [0.000, 1.000], mean observation: -0.224 [-1.657, 1.218], loss: 2.180084, mean_absolute_error: 18.335421, mean_q: 37.248917\n",
      "  4657/50000: episode: 75, duration: 0.834s, episode steps: 96, steps per second: 115, episode reward: 96.000, mean reward: 1.000 [1.000, 1.000], mean action: 0.531 [0.000, 1.000], mean observation: 0.216 [-0.906, 1.109], loss: 1.477156, mean_absolute_error: 19.095636, mean_q: 38.861572\n",
      "  4855/50000: episode: 76, duration: 1.686s, episode steps: 198, steps per second: 117, episode reward: 198.000, mean reward: 1.000 [1.000, 1.000], mean action: 0.470 [0.000, 1.000], mean observation: -0.367 [-2.422, 1.207], loss: 2.011817, mean_absolute_error: 19.476427, mean_q: 39.559116\n"
     ]
    }
   ],
   "source": [
    "import numpy as np\n",
    "import gym\n",
    "\n",
    "from keras.models import Sequential\n",
    "from keras.layers import Dense, Activation, Flatten\n",
    "from keras.optimizers import Adam\n",
    "\n",
    "from rl.agents.dqn import DQNAgent\n",
    "from rl.policy import BoltzmannQPolicy\n",
    "from rl.memory import SequentialMemory\n",
    "\n",
    "\n",
    "ENV_NAME = 'CartPole-v0'\n",
    "\n",
    "\n",
    "# Get the environment and extract the number of actions.\n",
    "env = gym.make(ENV_NAME)\n",
    "np.random.seed(123)\n",
    "env.seed(123)\n",
    "nb_actions = env.action_space.n\n",
    "\n",
    "# Next, we build a very simple model.\n",
    "model = Sequential()\n",
    "model.add(Flatten(input_shape=(1,) + env.observation_space.shape))\n",
    "model.add(Dense(16))\n",
    "model.add(Activation('relu'))\n",
    "model.add(Dense(16))\n",
    "model.add(Activation('relu'))\n",
    "model.add(Dense(16))\n",
    "model.add(Activation('relu'))\n",
    "model.add(Dense(nb_actions))\n",
    "model.add(Activation('linear'))\n",
    "print(model.summary())\n",
    "\n",
    "# Finally, we configure and compile our agent. You can use every built-in Keras optimizer and\n",
    "# even the metrics!\n",
    "memory = SequentialMemory(limit=50000, window_length=1)\n",
    "policy = BoltzmannQPolicy()\n",
    "dqn = DQNAgent(model=model, nb_actions=nb_actions, memory=memory, nb_steps_warmup=10,\n",
    "               target_model_update=1e-2, policy=policy)\n",
    "dqn.compile(Adam(lr=1e-3), metrics=['mae'])\n",
    "\n",
    "# Okay, now it's time to learn something! We visualize the training here for show, but this\n",
    "# slows down training quite a lot. You can always safely abort the training prematurely using\n",
    "# Ctrl + C.\n",
    "\n",
    "# Visualization is OFF untill we figure out how to export display correctly.\n",
    "\n",
    "dqn.fit(env, nb_steps=50000, visualize=False, verbose=2)\n",
    "\n",
    "# After training is done, we save the final weights.\n",
    "dqn.save_weights('dqn_{}_weights.h5f'.format(ENV_NAME), overwrite=True)\n",
    "\n",
    "# Finally, evaluate our algorithm for 5 episodes.\n",
    "dqn.test(env, nb_episodes=5, visualize=False)"
   ]
  },
  {
   "cell_type": "code",
   "execution_count": null,
   "metadata": {},
   "outputs": [],
   "source": []
  }
 ],
 "metadata": {
  "kernelspec": {
   "display_name": "Python 3",
   "language": "python",
   "name": "python3"
  },
  "language_info": {
   "codemirror_mode": {
    "name": "ipython",
    "version": 3
   },
   "file_extension": ".py",
   "mimetype": "text/x-python",
   "name": "python",
   "nbconvert_exporter": "python",
   "pygments_lexer": "ipython3",
   "version": "3.5.2"
  }
 },
 "nbformat": 4,
 "nbformat_minor": 2
}
