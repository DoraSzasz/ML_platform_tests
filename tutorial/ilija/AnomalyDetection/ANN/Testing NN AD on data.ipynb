{
 "cells": [
  {
   "cell_type": "markdown",
   "metadata": {},
   "source": [
    "### Testing Neural Network based Anomaly Detection on actual data\n",
    "\n",
    "#### This code reads PerfSONAR measured packet loss rates between a specified endpoint and all other endpoints in a selected time range. It tries to train neural network to distinguish measurements belonging to the timebin under investigation from measurements in a reference time period."
   ]
  },
  {
   "cell_type": "code",
   "execution_count": 1,
   "metadata": {},
   "outputs": [
    {
     "name": "stderr",
     "output_type": "stream",
     "text": [
      "Using TensorFlow backend.\n"
     ]
    }
   ],
   "source": [
    "%matplotlib inline\n",
    "from elasticsearch import Elasticsearch\n",
    "from elasticsearch.helpers import scan\n",
    "\n",
    "from time import time\n",
    "\n",
    "import numpy as np\n",
    "import pandas as pd\n",
    "import random\n",
    "import matplotlib.pyplot as plt\n",
    "\n",
    "from sklearn.model_selection import train_test_split\n",
    "from sklearn.utils import shuffle\n",
    "\n",
    "from keras.models import Sequential\n",
    "from keras.layers.core import Dense, Activation, Dropout\n",
    "\n",
    "from pandas.tseries.offsets import *"
   ]
  },
  {
   "cell_type": "markdown",
   "metadata": {},
   "source": [
    "#### parameters to set"
   ]
  },
  {
   "cell_type": "code",
   "execution_count": 7,
   "metadata": {},
   "outputs": [
    {
     "name": "stdout",
     "output_type": "stream",
     "text": [
      "chance: 0.96 \tcut: 0.962\n"
     ]
    }
   ],
   "source": [
    "n_series = 20 # not use all the series for the tutorial\n",
    "\n",
    "start_date = '2017-05-13 00:00:00'\n",
    "end_date = '2017-05-20 23:59:59'\n",
    "\n",
    "# tuning parameters\n",
    "ref = 24\n",
    "sub = 1\n",
    "chance = ref/(sub+ref)\n",
    "cut = chance + (1-chance) * 0.05\n",
    "print('chance:',chance, '\\tcut:', cut)\n",
    "ref = ref * Hour()\n",
    "sub = sub * Hour()\n",
    "\n",
    "\n",
    "sS='CERN-PROD'\n",
    "srcSiteOWDServer = \"128.142.223.247\"\n",
    "\n",
    "dS='pic'\n",
    "destSiteOWDServer = \"193.109.172.188\""
   ]
  },
  {
   "cell_type": "markdown",
   "metadata": {},
   "source": [
    "## get data from ES"
   ]
  },
  {
   "cell_type": "code",
   "execution_count": 3,
   "metadata": {
    "collapsed": true
   },
   "outputs": [],
   "source": [
    "es = Elasticsearch(['atlas-kibana.mwt2.org:9200'],timeout=60)\n",
    "indices = \"network_weather-2017.*\"\n",
    "\n",
    "start = pd.Timestamp(start_date)\n",
    "end   = pd.Timestamp(end_date)\n",
    "\n",
    "my_query = {\n",
    "    'query': { \n",
    "       'bool':{\n",
    "            'must':[\n",
    "                    {'range': {'timestamp': {'gte': start.strftime('%Y%m%dT%H%M00Z'), 'lt': end.strftime('%Y%m%dT%H%M00Z')}}},\n",
    "                    {'term': {'src': srcSiteOWDServer}},\n",
    "                    {'term': {'_type': 'packet_loss_rate'}}\n",
    "                    ]\n",
    "               }\n",
    "        }\n",
    "}\n",
    "\n",
    "\n",
    "scroll = scan(client=es, index=indices, query=my_query)"
   ]
  },
  {
   "cell_type": "markdown",
   "metadata": {},
   "source": [
    "### scan the data"
   ]
  },
  {
   "cell_type": "code",
   "execution_count": 4,
   "metadata": {},
   "outputs": [
    {
     "name": "stdout",
     "output_type": "stream",
     "text": [
      "0\n",
      "100000\n",
      "200000\n",
      "300000\n",
      "400000\n",
      "500000\n",
      "600000\n",
      "700000\n",
      "800000\n",
      "900000\n",
      "1000000\n"
     ]
    }
   ],
   "source": [
    "count = 0\n",
    "allData={} # will be like this: {'dest_host':[[timestamp],[value]], ...} \n",
    "for res in scroll:\n",
    "#     if count<2: print(res) \n",
    "    if not count%100000: print(count)\n",
    "    if count>1000000: break\n",
    "    dst = res['_source']['dest'] # old data - dest, new data - dest_host\n",
    "    if dst not in allData: allData[dst]=[[],[]]\n",
    "    allData[dst][0].append(res['_source']['timestamp'] )\n",
    "    allData[dst][1].append(res['_source']['packet_loss'])\n",
    "    \n",
    "    count=count+1\n",
    "\n",
    "dfs=[]\n",
    "for dest,data in allData.items():\n",
    "    ts=pd.to_datetime(data[0],unit='ms')\n",
    "    df=pd.DataFrame({dest:data[1]}, index=ts )\n",
    "    df.sort_index(inplace=True)\n",
    "    df.index = df.index.map(lambda t: t.replace(second=0))\n",
    "    df = df[~df.index.duplicated(keep='last')]\n",
    "    dfs.append(df)\n",
    "    #print(df.head(2))"
   ]
  },
  {
   "cell_type": "code",
   "execution_count": 5,
   "metadata": {
    "collapsed": true
   },
   "outputs": [],
   "source": [
    "full_df = pd.concat(dfs, axis=1)"
   ]
  },
  {
   "cell_type": "code",
   "execution_count": 6,
   "metadata": {},
   "outputs": [
    {
     "name": "stdout",
     "output_type": "stream",
     "text": [
      "(11519, 73)\n"
     ]
    },
    {
     "data": {
      "text/html": [
       "<div>\n",
       "<style>\n",
       "    .dataframe thead tr:only-child th {\n",
       "        text-align: right;\n",
       "    }\n",
       "\n",
       "    .dataframe thead th {\n",
       "        text-align: left;\n",
       "    }\n",
       "\n",
       "    .dataframe tbody tr th {\n",
       "        vertical-align: top;\n",
       "    }\n",
       "</style>\n",
       "<table border=\"1\" class=\"dataframe\">\n",
       "  <thead>\n",
       "    <tr style=\"text-align: right;\">\n",
       "      <th></th>\n",
       "      <th>131.169.98.30</th>\n",
       "      <th>150.244.246.85</th>\n",
       "      <th>134.158.20.192</th>\n",
       "      <th>134.75.125.241</th>\n",
       "      <th>193.144.80.12</th>\n",
       "      <th>158.195.14.26</th>\n",
       "      <th>193.48.83.165</th>\n",
       "      <th>134.158.103.10</th>\n",
       "      <th>146.83.90.7</th>\n",
       "      <th>81.180.86.64</th>\n",
       "      <th>...</th>\n",
       "      <th>193.140.98.8</th>\n",
       "      <th>169.228.130.40</th>\n",
       "      <th>194.190.165.192</th>\n",
       "      <th>192.108.47.12</th>\n",
       "      <th>212.193.96.29</th>\n",
       "      <th>147.231.25.192</th>\n",
       "      <th>194.80.35.169</th>\n",
       "      <th>194.36.11.38</th>\n",
       "      <th>148.187.64.25</th>\n",
       "      <th>159.93.229.151</th>\n",
       "    </tr>\n",
       "  </thead>\n",
       "  <tbody>\n",
       "    <tr>\n",
       "      <th>2017-05-13 00:00:00</th>\n",
       "      <td>0.0</td>\n",
       "      <td>0.0</td>\n",
       "      <td>0.000000</td>\n",
       "      <td>0.0</td>\n",
       "      <td>0.0</td>\n",
       "      <td>0.0</td>\n",
       "      <td>0.0</td>\n",
       "      <td>0.000000</td>\n",
       "      <td>0.000000</td>\n",
       "      <td>0.0</td>\n",
       "      <td>...</td>\n",
       "      <td>0.0</td>\n",
       "      <td>0.0</td>\n",
       "      <td>0.0</td>\n",
       "      <td>0.000000</td>\n",
       "      <td>0.0</td>\n",
       "      <td>0.0</td>\n",
       "      <td>0.0</td>\n",
       "      <td>0.0</td>\n",
       "      <td>0.0</td>\n",
       "      <td>0.0</td>\n",
       "    </tr>\n",
       "    <tr>\n",
       "      <th>2017-05-13 00:01:00</th>\n",
       "      <td>0.0</td>\n",
       "      <td>0.0</td>\n",
       "      <td>0.000000</td>\n",
       "      <td>0.0</td>\n",
       "      <td>0.0</td>\n",
       "      <td>0.0</td>\n",
       "      <td>0.0</td>\n",
       "      <td>0.000000</td>\n",
       "      <td>0.000000</td>\n",
       "      <td>0.0</td>\n",
       "      <td>...</td>\n",
       "      <td>0.0</td>\n",
       "      <td>0.0</td>\n",
       "      <td>0.0</td>\n",
       "      <td>0.001667</td>\n",
       "      <td>0.0</td>\n",
       "      <td>0.0</td>\n",
       "      <td>0.0</td>\n",
       "      <td>0.0</td>\n",
       "      <td>0.0</td>\n",
       "      <td>0.0</td>\n",
       "    </tr>\n",
       "    <tr>\n",
       "      <th>2017-05-13 00:02:00</th>\n",
       "      <td>0.0</td>\n",
       "      <td>0.0</td>\n",
       "      <td>0.000000</td>\n",
       "      <td>0.0</td>\n",
       "      <td>0.0</td>\n",
       "      <td>0.0</td>\n",
       "      <td>0.0</td>\n",
       "      <td>0.000000</td>\n",
       "      <td>0.000000</td>\n",
       "      <td>0.0</td>\n",
       "      <td>...</td>\n",
       "      <td>0.0</td>\n",
       "      <td>0.0</td>\n",
       "      <td>0.0</td>\n",
       "      <td>0.001667</td>\n",
       "      <td>0.0</td>\n",
       "      <td>0.0</td>\n",
       "      <td>0.0</td>\n",
       "      <td>0.0</td>\n",
       "      <td>NaN</td>\n",
       "      <td>0.0</td>\n",
       "    </tr>\n",
       "    <tr>\n",
       "      <th>2017-05-13 00:03:00</th>\n",
       "      <td>0.0</td>\n",
       "      <td>0.0</td>\n",
       "      <td>0.000000</td>\n",
       "      <td>0.0</td>\n",
       "      <td>0.0</td>\n",
       "      <td>0.0</td>\n",
       "      <td>0.0</td>\n",
       "      <td>0.001667</td>\n",
       "      <td>0.000000</td>\n",
       "      <td>0.0</td>\n",
       "      <td>...</td>\n",
       "      <td>0.0</td>\n",
       "      <td>0.0</td>\n",
       "      <td>0.0</td>\n",
       "      <td>0.001667</td>\n",
       "      <td>0.0</td>\n",
       "      <td>0.0</td>\n",
       "      <td>0.0</td>\n",
       "      <td>0.0</td>\n",
       "      <td>0.0</td>\n",
       "      <td>0.0</td>\n",
       "    </tr>\n",
       "    <tr>\n",
       "      <th>2017-05-13 00:04:00</th>\n",
       "      <td>0.0</td>\n",
       "      <td>0.0</td>\n",
       "      <td>0.001667</td>\n",
       "      <td>0.0</td>\n",
       "      <td>0.0</td>\n",
       "      <td>0.0</td>\n",
       "      <td>0.0</td>\n",
       "      <td>0.000000</td>\n",
       "      <td>0.018333</td>\n",
       "      <td>0.0</td>\n",
       "      <td>...</td>\n",
       "      <td>0.0</td>\n",
       "      <td>0.0</td>\n",
       "      <td>0.0</td>\n",
       "      <td>0.000000</td>\n",
       "      <td>0.0</td>\n",
       "      <td>0.0</td>\n",
       "      <td>0.0</td>\n",
       "      <td>0.0</td>\n",
       "      <td>0.0</td>\n",
       "      <td>0.0</td>\n",
       "    </tr>\n",
       "  </tbody>\n",
       "</table>\n",
       "<p>5 rows × 73 columns</p>\n",
       "</div>"
      ],
      "text/plain": [
       "                     131.169.98.30  150.244.246.85  134.158.20.192  \\\n",
       "2017-05-13 00:00:00            0.0             0.0        0.000000   \n",
       "2017-05-13 00:01:00            0.0             0.0        0.000000   \n",
       "2017-05-13 00:02:00            0.0             0.0        0.000000   \n",
       "2017-05-13 00:03:00            0.0             0.0        0.000000   \n",
       "2017-05-13 00:04:00            0.0             0.0        0.001667   \n",
       "\n",
       "                     134.75.125.241  193.144.80.12  158.195.14.26  \\\n",
       "2017-05-13 00:00:00             0.0            0.0            0.0   \n",
       "2017-05-13 00:01:00             0.0            0.0            0.0   \n",
       "2017-05-13 00:02:00             0.0            0.0            0.0   \n",
       "2017-05-13 00:03:00             0.0            0.0            0.0   \n",
       "2017-05-13 00:04:00             0.0            0.0            0.0   \n",
       "\n",
       "                     193.48.83.165  134.158.103.10  146.83.90.7  81.180.86.64  \\\n",
       "2017-05-13 00:00:00            0.0        0.000000     0.000000           0.0   \n",
       "2017-05-13 00:01:00            0.0        0.000000     0.000000           0.0   \n",
       "2017-05-13 00:02:00            0.0        0.000000     0.000000           0.0   \n",
       "2017-05-13 00:03:00            0.0        0.001667     0.000000           0.0   \n",
       "2017-05-13 00:04:00            0.0        0.000000     0.018333           0.0   \n",
       "\n",
       "                          ...        193.140.98.8  169.228.130.40  \\\n",
       "2017-05-13 00:00:00       ...                 0.0             0.0   \n",
       "2017-05-13 00:01:00       ...                 0.0             0.0   \n",
       "2017-05-13 00:02:00       ...                 0.0             0.0   \n",
       "2017-05-13 00:03:00       ...                 0.0             0.0   \n",
       "2017-05-13 00:04:00       ...                 0.0             0.0   \n",
       "\n",
       "                     194.190.165.192  192.108.47.12  212.193.96.29  \\\n",
       "2017-05-13 00:00:00              0.0       0.000000            0.0   \n",
       "2017-05-13 00:01:00              0.0       0.001667            0.0   \n",
       "2017-05-13 00:02:00              0.0       0.001667            0.0   \n",
       "2017-05-13 00:03:00              0.0       0.001667            0.0   \n",
       "2017-05-13 00:04:00              0.0       0.000000            0.0   \n",
       "\n",
       "                     147.231.25.192  194.80.35.169  194.36.11.38  \\\n",
       "2017-05-13 00:00:00             0.0            0.0           0.0   \n",
       "2017-05-13 00:01:00             0.0            0.0           0.0   \n",
       "2017-05-13 00:02:00             0.0            0.0           0.0   \n",
       "2017-05-13 00:03:00             0.0            0.0           0.0   \n",
       "2017-05-13 00:04:00             0.0            0.0           0.0   \n",
       "\n",
       "                     148.187.64.25  159.93.229.151  \n",
       "2017-05-13 00:00:00            0.0             0.0  \n",
       "2017-05-13 00:01:00            0.0             0.0  \n",
       "2017-05-13 00:02:00            NaN             0.0  \n",
       "2017-05-13 00:03:00            0.0             0.0  \n",
       "2017-05-13 00:04:00            0.0             0.0  \n",
       "\n",
       "[5 rows x 73 columns]"
      ]
     },
     "execution_count": 6,
     "metadata": {},
     "output_type": "execute_result"
    }
   ],
   "source": [
    "print(full_df.shape)\n",
    "full_df.head()\n",
    "#print(full_df.columns )"
   ]
  },
  {
   "cell_type": "markdown",
   "metadata": {},
   "source": [
    "#### plot timeseries"
   ]
  },
  {
   "cell_type": "code",
   "execution_count": 8,
   "metadata": {},
   "outputs": [
    {
     "data": {
      "text/plain": [
       "<matplotlib.axes._subplots.AxesSubplot at 0x7fa6c1d4ca58>"
      ]
     },
     "execution_count": 8,
     "metadata": {},
     "output_type": "execute_result"
    },
    {
     "data": {
      "image/png": "[encoded data removed]",
      "text/plain": [
       "<matplotlib.figure.Figure at 0x7fa6f379f0f0>"
      ]
     },
     "metadata": {},
     "output_type": "display_data"
    }
   ],
   "source": [
    "full_df.iloc[:,0:n_series].plot(figsize=(20,7))"
   ]
  },
  {
   "cell_type": "markdown",
   "metadata": {},
   "source": [
    "### create Network Model"
   ]
  },
  {
   "cell_type": "code",
   "execution_count": 8,
   "metadata": {
    "collapsed": true
   },
   "outputs": [],
   "source": [
    "class ANN(object):\n",
    "    def __init__(self, n_series):\n",
    "        self.n_series = n_series\n",
    "        self.df = None\n",
    "        self.auc_df = None\n",
    "        \n",
    "        self.nn = Sequential()\n",
    "        self.nn.add(Dense(units=n_series*2, input_shape=(n_series,), activation='relu' ))\n",
    "#       self.nn.add(Dropout(0.5))\n",
    "        self.nn.add(Dense(units=n_series, activation='relu'))\n",
    "#       self.nn.add(Dropout(0.5))\n",
    "        self.nn.add(Dense(units=1, activation='sigmoid'))\n",
    "#       self.nn.compile(loss='hinge', optimizer='sgd', metrics=['binary_accuracy'])\n",
    "#       self.nn.compile(loss='mse',optimizer='rmsprop', metrics=['accuracy'])\n",
    "        self.nn.compile(loss='binary_crossentropy',optimizer='rmsprop', metrics=['accuracy'])\n",
    "#       self.nn.compile(loss='categorical_crossentropy', optimizer='sgd', metrics=['binary_accuracy'])\n",
    "        self.nn.summary()\n",
    "    \n",
    "    def set_data(self, df, auc_df):\n",
    "        self.df = df\n",
    "        self.auc_df = auc_df\n",
    "    \n",
    "    def plot_hist(self, hist):\n",
    "        es=len(hist.history['loss'])\n",
    "        x = np.linspace(0,es-1,es)\n",
    "        plt.plot(x, hist.history['loss'], '--', linewidth=2, label='loss')\n",
    "        plt.plot(x, hist.history['acc'], '-', linewidth=2, label='acc')\n",
    "        plt.legend()\n",
    "        plt.show()\n",
    "    \n",
    "    def check_for_anomaly(self,ref, sub, count):\n",
    "    \n",
    "        y_ref = pd.Series([0] * ref.shape[0])\n",
    "        X_ref = ref\n",
    "    \n",
    "        y_sub = pd.Series([1] * sub.shape[0])\n",
    "        X_sub = sub\n",
    "        \n",
    "        # separate Reference and Subject into Train and Test\n",
    "        X_ref_train, X_ref_test, y_ref_train, y_ref_test = train_test_split(X_ref, y_ref, test_size=0.3, random_state=42)\n",
    "        X_sub_train, X_sub_test, y_sub_train, y_sub_test = train_test_split(X_sub, y_sub, test_size=0.3, random_state=42)\n",
    "    \n",
    "        # combine training ref and sub samples\n",
    "        X_train = pd.concat([X_ref_train, X_sub_train])\n",
    "        y_train = pd.concat([y_ref_train, y_sub_train])\n",
    "\n",
    "        # combine testing ref and sub samples\n",
    "        X_test = pd.concat([X_ref_test, X_sub_test])\n",
    "        y_test = pd.concat([y_ref_test, y_sub_test])\n",
    "    \n",
    "        X_train = X_train.reset_index(drop=True)\n",
    "        y_train = y_train.reset_index(drop=True)\n",
    "    \n",
    "        X_train_s, y_train_s = shuffle(X_train, y_train)\n",
    "    \n",
    "        hist = self.nn.fit(X_train_s.values, y_train_s.values, epochs=100, verbose=0, shuffle=True, batch_size=10)\n",
    "        loss_and_metrics = self.nn.evaluate(X_test.values, y_test.values)#, batch_size=256)\n",
    "        #print(loss_and_metrics)\n",
    "    \n",
    "        if loss_and_metrics[1] > cut or not count%5: \n",
    "            self.plot_hist(hist)\n",
    "        \n",
    "        return scaled_accuracy(loss_and_metrics[1], ref.shape[0], sub.shape[0])\n",
    "    \n",
    "    \n",
    "    def loop_over_intervals(self):\n",
    "        lstart = self.df.index.min()\n",
    "        lend = self.df.index.max()\n",
    "\n",
    "        #round start \n",
    "        lstart.seconds=0\n",
    "        lstart.minutes=0\n",
    "\n",
    "        # loop over them\n",
    "        ti = lstart + ref + sub\n",
    "        count = 0\n",
    "        while ti < lend + 1 * Minute():\n",
    "            print(count)\n",
    "            startt = time()\n",
    "            ref_start = ti-ref-sub\n",
    "            ref_end = ti-sub\n",
    "            ref_df = self.df[(self.df.index >= ref_start) & (self.df.index < ref_end)]\n",
    "            sub_df = self.df[(self.df.index >= ref_end) & (self.df.index < ti)]\n",
    "            score = self.check_for_anomaly(ref_df, sub_df, count)\n",
    "            self.auc_df.loc[(self.auc_df.index >= ref_end) & (self.auc_df.index < ti), ['score']]  = score\n",
    "            print('\\n',ti,\"\\trefes:\" , ref_df.shape, \"\\tsubjects:\", sub_df.shape, '\\tacc:', score)\n",
    "            ti = ti + sub\n",
    "            print(\"took:\", time()-startt)\n",
    "            count = count + 1\n",
    "            #if count>2: break    \n",
    "    \n",
    "    \n",
    "def getModel():\n",
    "    model = Sequential()\n",
    "    model.add(Dense(units=n_series*2, input_shape=(n_series,), activation='relu' ))\n",
    "#   model.add(Dropout(0.5))\n",
    "    model.add(Dense(units=n_series, activation='relu'))\n",
    "    #model.add(Dropout(0.5))\n",
    "    model.add(Dense(units=1, activation='sigmoid'))\n",
    "    \n",
    "#   model.compile(loss='hinge', optimizer='sgd', metrics=['binary_accuracy'])\n",
    "#   model.compile(loss='mse',optimizer='rmsprop', metrics=['accuracy'])\n",
    "#   model.compile(loss='categorical_crossentropy', optimizer='sgd', metrics=['binary_accuracy'])\n",
    "    model.compile(loss='binary_crossentropy',optimizer='rmsprop', metrics=['accuracy'])\n",
    "    \n",
    "    return model\n",
    "\n",
    "def plotHist(hist):\n",
    "    es=len(hist.history['loss'])\n",
    "    x = np.linspace(0,es-1,es)\n",
    "    plt.plot(x, hist.history['loss'], '--', linewidth=2, label='loss')\n",
    "    plt.plot(x, hist.history['acc'], '-', linewidth=2, label='acc')\n",
    "    plt.legend()\n",
    "    plt.show()"
   ]
  },
  {
   "cell_type": "markdown",
   "metadata": {},
   "source": [
    "#### functions"
   ]
  },
  {
   "cell_type": "code",
   "execution_count": 9,
   "metadata": {
    "collapsed": true
   },
   "outputs": [],
   "source": [
    "def scaled_accuracy(accuracy, ref_samples, sub_samples):\n",
    "    chance = float(ref_samples)/(ref_samples+sub_samples)\n",
    "    rescale = 1/(1 - chance)\n",
    "    return (accuracy-chance)*rescale\n"
   ]
  },
  {
   "cell_type": "markdown",
   "metadata": {},
   "source": [
    "### fix NANs"
   ]
  },
  {
   "cell_type": "code",
   "execution_count": 10,
   "metadata": {
    "collapsed": true
   },
   "outputs": [],
   "source": [
    "# full_df.interpolate(method='nearest', axis=0, inplace=True)\n",
    "full_df.fillna(0, inplace=True)"
   ]
  },
  {
   "cell_type": "markdown",
   "metadata": {},
   "source": [
    "### select part of the data"
   ]
  },
  {
   "cell_type": "code",
   "execution_count": 11,
   "metadata": {
    "collapsed": true
   },
   "outputs": [],
   "source": [
    "df = full_df.iloc[:,0:n_series]\n",
    "auc_df = pd.DataFrame(np.nan, index=df.index, columns=['score'])"
   ]
  },
  {
   "cell_type": "code",
   "execution_count": null,
   "metadata": {},
   "outputs": [
    {
     "name": "stdout",
     "output_type": "stream",
     "text": [
      "_________________________________________________________________\n",
      "Layer (type)                 Output Shape              Param #   \n",
      "=================================================================\n",
      "dense_1 (Dense)              (None, 40)                840       \n",
      "_________________________________________________________________\n",
      "dense_2 (Dense)              (None, 20)                820       \n",
      "_________________________________________________________________\n",
      "dense_3 (Dense)              (None, 1)                 21        \n",
      "=================================================================\n",
      "Total params: 1,681\n",
      "Trainable params: 1,681\n",
      "Non-trainable params: 0\n",
      "_________________________________________________________________\n",
      "0\n"
     ]
    }
   ],
   "source": [
    "ann = ANN(n_series)\n",
    "ann.set_data(df, auc_df)\n",
    "ann.loop_over_intervals()"
   ]
  },
  {
   "cell_type": "code",
   "execution_count": null,
   "metadata": {
    "collapsed": true
   },
   "outputs": [],
   "source": [
    "df.plot(figsize=(20,7))\n"
   ]
  },
  {
   "cell_type": "code",
   "execution_count": null,
   "metadata": {
    "collapsed": true
   },
   "outputs": [],
   "source": [
    "fig, ax = plt.subplots(figsize=(20,7))\n",
    "auc_df['Detected'] = 0\n",
    "auc_df.loc[auc_df.score>0.05, ['Detected']]=1\n",
    "ax.plot( auc_df.score,'g')\n",
    "ax.fill( auc_df.Detected, 'b', alpha=0.3)\n",
    "ax.legend(loc='upper left')\n",
    "plt.show()"
   ]
  },
  {
   "cell_type": "code",
   "execution_count": null,
   "metadata": {
    "collapsed": true
   },
   "outputs": [],
   "source": []
  }
 ],
 "metadata": {
  "kernelspec": {
   "display_name": "Python 3",
   "language": "python",
   "name": "python3"
  },
  "language_info": {
   "codemirror_mode": {
    "name": "ipython",
    "version": 3
   },
   "file_extension": ".py",
   "mimetype": "text/x-python",
   "name": "python",
   "nbconvert_exporter": "python",
   "pygments_lexer": "ipython3",
   "version": "3.5.2"
  }
 },
 "nbformat": 4,
 "nbformat_minor": 2
}
