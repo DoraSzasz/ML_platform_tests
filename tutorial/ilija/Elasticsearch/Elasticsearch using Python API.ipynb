{
 "cells": [
  {
   "cell_type": "markdown",
   "metadata": {},
   "source": [
    "# Elasticsearh - usign python API"
   ]
  },
  {
   "cell_type": "markdown",
   "metadata": {},
   "source": [
    "### Import it and created client object"
   ]
  },
  {
   "cell_type": "code",
   "execution_count": 1,
   "metadata": {},
   "outputs": [],
   "source": [
    "from elasticsearch import Elasticsearch, helpers, exceptions as es_exceptions\n",
    "from elasticsearch.helpers import bulk,scan\n",
    "\n",
    "es = Elasticsearch(['atlas-kibana.mwt2.org:9200'],timeout=60)"
   ]
  },
  {
   "cell_type": "markdown",
   "metadata": {},
   "source": [
    "### Check we can connect to the cluster"
   ]
  },
  {
   "cell_type": "code",
   "execution_count": 2,
   "metadata": {},
   "outputs": [
    {
     "data": {
      "text/plain": [
       "{'active_primary_shards': 13370,\n",
       " 'active_shards': 18516,\n",
       " 'active_shards_percent_as_number': 100.0,\n",
       " 'cluster_name': 'atlas',\n",
       " 'delayed_unassigned_shards': 0,\n",
       " 'initializing_shards': 0,\n",
       " 'number_of_data_nodes': 5,\n",
       " 'number_of_in_flight_fetch': 0,\n",
       " 'number_of_nodes': 10,\n",
       " 'number_of_pending_tasks': 0,\n",
       " 'relocating_shards': 0,\n",
       " 'status': 'green',\n",
       " 'task_max_waiting_in_queue_millis': 0,\n",
       " 'timed_out': False,\n",
       " 'unassigned_shards': 0}"
      ]
     },
     "execution_count": 2,
     "metadata": {},
     "output_type": "execute_result"
    }
   ],
   "source": [
    "# define our address so we dont have to type it all the time\n",
    "es.cluster.health()"
   ]
  },
  {
   "cell_type": "markdown",
   "metadata": {},
   "source": [
    "### Create a bunch of documents"
   ]
  },
  {
   "cell_type": "code",
   "execution_count": 3,
   "metadata": {},
   "outputs": [],
   "source": [
    "import random\n",
    "allEvents=[]\n",
    "for e in range(1000):\n",
    "    E=random.gauss(1000., 30.)\n",
    "    pT=random.gauss(100., 50.)\n",
    "    allEvents.append({ 'eventnr':e, 'E':E, 'pT':pT})"
   ]
  },
  {
   "cell_type": "markdown",
   "metadata": {},
   "source": [
    "### Index documents one by one\n",
    "\n",
    "takes around 70 seconds."
   ]
  },
  {
   "cell_type": "code",
   "execution_count": 4,
   "metadata": {},
   "outputs": [
    {
     "name": "stdout",
     "output_type": "stream",
     "text": [
      "it took 84.49716067314148 seconds.\n"
     ]
    }
   ],
   "source": [
    "from time import time\n",
    "start=time()\n",
    "for nr, event in enumerate(allEvents):\n",
    "    es.create(index='my_events', doc_type='event', id=nr, body=event)\n",
    "print(\"it took\", time()-start,\"seconds.\")"
   ]
  },
  {
   "cell_type": "markdown",
   "metadata": {},
   "source": [
    "### Bulk indexing of same events"
   ]
  },
  {
   "cell_type": "code",
   "execution_count": 5,
   "metadata": {},
   "outputs": [
    {
     "name": "stdout",
     "output_type": "stream",
     "text": [
      "it took 5.286314964294434 seconds.\n"
     ]
    }
   ],
   "source": [
    "# clean all\n",
    "try:\n",
    "    es.indices.delete(index='my_events')\n",
    "except:\n",
    "    print(\"not there?\")\n",
    "    \n",
    "start=time()\n",
    "try:\n",
    "   res = helpers.bulk(es, allEvents, index='my_events', doc_type='event', raise_on_exception=True,request_timeout=60)\n",
    "except es_exceptions.ConnectionError as e:\n",
    "   print('ConnectionError ', e)\n",
    "except es_exceptions.TransportError as e:\n",
    "   print('TransportError ', e)\n",
    "except helpers.BulkIndexError as e:\n",
    "   print(e[0])\n",
    "   for i in e[1]:\n",
    "      print(i)\n",
    "except Exception as e:\n",
    "   print('Something seriously wrong happened.',e)\n",
    "\n",
    "print(\"it took\", time()-start,\"seconds.\")"
   ]
  },
  {
   "cell_type": "markdown",
   "metadata": {},
   "source": [
    "### Search for a document"
   ]
  },
  {
   "cell_type": "code",
   "execution_count": 6,
   "metadata": {},
   "outputs": [],
   "source": [
    "my_query={\n",
    "    \"size\": 15,\n",
    "    \"query\":{\n",
    "       \"bool\":{\n",
    "            \"must\":[\n",
    "                {'range': {'pT': {'gte': 100, 'lt': 120}}},\n",
    "                {\"range\" : { \"E\" :{'gte': 200 }}}\n",
    "            ]\n",
    "        }\n",
    "    }\n",
    "}\n",
    "\n",
    "res = es.search(index='my_events', body=my_query )\n",
    "for r in res['hits']['hits']:\n",
    "    print(r)"
   ]
  },
  {
   "cell_type": "markdown",
   "metadata": {},
   "source": [
    "### Perform aggregated search"
   ]
  },
  {
   "cell_type": "code",
   "execution_count": 7,
   "metadata": {},
   "outputs": [
    {
     "name": "stdout",
     "output_type": "stream",
     "text": [
      "{'pt_bins': {'buckets': []}}\n"
     ]
    }
   ],
   "source": [
    "my_query={\n",
    "    \"aggs\" : {\n",
    "        \"pt_bins\" : {\n",
    "            \"histogram\" : {\n",
    "                \"field\" : \"pT\",\n",
    "                \"interval\" : 50\n",
    "            }\n",
    "        }\n",
    "    }\n",
    "}\n",
    "\n",
    "res = es.search(index='my_events', body=my_query )\n",
    "print(res['aggregations'])"
   ]
  },
  {
   "cell_type": "markdown",
   "metadata": {},
   "source": [
    "### Clean up"
   ]
  },
  {
   "cell_type": "code",
   "execution_count": 8,
   "metadata": {},
   "outputs": [
    {
     "data": {
      "text/plain": [
       "{'acknowledged': True}"
      ]
     },
     "execution_count": 8,
     "metadata": {},
     "output_type": "execute_result"
    }
   ],
   "source": [
    "es.indices.delete(index='my_events')"
   ]
  },
  {
   "cell_type": "code",
   "execution_count": null,
   "metadata": {},
   "outputs": [],
   "source": []
  }
 ],
 "metadata": {
  "kernelspec": {
   "display_name": "Python 3",
   "language": "python",
   "name": "python3"
  },
  "language_info": {
   "codemirror_mode": {
    "name": "ipython",
    "version": 3
   },
   "file_extension": ".py",
   "mimetype": "text/x-python",
   "name": "python",
   "nbconvert_exporter": "python",
   "pygments_lexer": "ipython3",
   "version": "3.5.2"
  }
 },
 "nbformat": 4,
 "nbformat_minor": 2
}
