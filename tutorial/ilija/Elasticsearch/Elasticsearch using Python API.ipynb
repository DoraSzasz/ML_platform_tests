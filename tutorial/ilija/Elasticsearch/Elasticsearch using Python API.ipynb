{
 "cells": [
  {
   "cell_type": "markdown",
   "metadata": {},
   "source": [
    "# Elasticsearh - usign python API"
   ]
  },
  {
   "cell_type": "markdown",
   "metadata": {},
   "source": [
    "### Import it and created client object"
   ]
  },
  {
   "cell_type": "code",
   "execution_count": 43,
   "metadata": {},
   "outputs": [],
   "source": [
    "from elasticsearch import Elasticsearch, helpers, exceptions as es_exceptions\n",
    "from elasticsearch.helpers import bulk,scan\n",
    "\n",
    "es = Elasticsearch(['atlas-kibana.mwt2.org:9200'],timeout=60)"
   ]
  },
  {
   "cell_type": "markdown",
   "metadata": {},
   "source": [
    "### Check we can connect to the cluster"
   ]
  },
  {
   "cell_type": "code",
   "execution_count": 44,
   "metadata": {},
   "outputs": [
    {
     "data": {
      "text/plain": [
       "{'active_primary_shards': 13373,\n",
       " 'active_shards': 18522,\n",
       " 'active_shards_percent_as_number': 100.0,\n",
       " 'cluster_name': 'atlas',\n",
       " 'delayed_unassigned_shards': 0,\n",
       " 'initializing_shards': 0,\n",
       " 'number_of_data_nodes': 5,\n",
       " 'number_of_in_flight_fetch': 0,\n",
       " 'number_of_nodes': 10,\n",
       " 'number_of_pending_tasks': 0,\n",
       " 'relocating_shards': 0,\n",
       " 'status': 'green',\n",
       " 'task_max_waiting_in_queue_millis': 0,\n",
       " 'timed_out': False,\n",
       " 'unassigned_shards': 0}"
      ]
     },
     "execution_count": 44,
     "metadata": {},
     "output_type": "execute_result"
    }
   ],
   "source": [
    "# define our address so we dont have to type it all the time\n",
    "es.cluster.health()"
   ]
  },
  {
   "cell_type": "markdown",
   "metadata": {},
   "source": [
    "### Create a bunch of documents"
   ]
  },
  {
   "cell_type": "code",
   "execution_count": 49,
   "metadata": {},
   "outputs": [],
   "source": [
    "import random\n",
    "allEvents=[]\n",
    "for e in range(1000):\n",
    "    E=random.gauss(1000., 30.)\n",
    "    pT=random.gauss(100., 50.)\n",
    "    allEvents.append({ 'eventnr':e, 'E':E, 'pT':pT})"
   ]
  },
  {
   "cell_type": "markdown",
   "metadata": {},
   "source": [
    "### Index documents one by one\n",
    "\n",
    "takes around 70 seconds."
   ]
  },
  {
   "cell_type": "code",
   "execution_count": 50,
   "metadata": {},
   "outputs": [
    {
     "name": "stdout",
     "output_type": "stream",
     "text": [
      "it took 80.52499747276306 seconds.\n"
     ]
    }
   ],
   "source": [
    "from time import time\n",
    "start=time()\n",
    "for nr, event in enumerate(allEvents):\n",
    "    es.create(index='my_events', doc_type='event', id=nr, body=event)\n",
    "print(\"it took\", time()-start,\"seconds.\")"
   ]
  },
  {
   "cell_type": "markdown",
   "metadata": {},
   "source": [
    "### Bulk indexing of same events"
   ]
  },
  {
   "cell_type": "code",
   "execution_count": 51,
   "metadata": {},
   "outputs": [
    {
     "name": "stdout",
     "output_type": "stream",
     "text": [
      "it took 6.694327354431152 seconds.\n"
     ]
    }
   ],
   "source": [
    "# clean all\n",
    "try:\n",
    "    es.indices.delete(index='my_events')\n",
    "except:\n",
    "    print(\"not there?\")\n",
    "    \n",
    "start=time()\n",
    "try:\n",
    "   res = helpers.bulk(es, allEvents, index='my_events', doc_type='event', raise_on_exception=True,request_timeout=60)\n",
    "except es_exceptions.ConnectionError as e:\n",
    "   print('ConnectionError ', e)\n",
    "except es_exceptions.TransportError as e:\n",
    "   print('TransportError ', e)\n",
    "except helpers.BulkIndexError as e:\n",
    "   print(e[0])\n",
    "   for i in e[1]:\n",
    "      print(i)\n",
    "except Exception as e:\n",
    "   print('Something seriously wrong happened.',e)\n",
    "\n",
    "print(\"it took\", time()-start,\"seconds.\")"
   ]
  },
  {
   "cell_type": "markdown",
   "metadata": {},
   "source": [
    "### Search for a document"
   ]
  },
  {
   "cell_type": "code",
   "execution_count": 52,
   "metadata": {},
   "outputs": [
    {
     "name": "stdout",
     "output_type": "stream",
     "text": [
      "{'_index': 'my_events', '_id': 'AV9qxROBP9IDFhhR0sci', '_score': 2.0, '_type': 'event', '_source': {'E': 984.7084254758788, 'eventnr': 8, 'pT': 117.66098996513544}}\n",
      "{'_index': 'my_events', '_id': 'AV9qxROBP9IDFhhR0scv', '_score': 2.0, '_type': 'event', '_source': {'E': 1016.0826808457183, 'eventnr': 21, 'pT': 114.83635665160716}}\n",
      "{'_index': 'my_events', '_id': 'AV9qxROBP9IDFhhR0scx', '_score': 2.0, '_type': 'event', '_source': {'E': 1009.6402201390512, 'eventnr': 23, 'pT': 107.72196819946713}}\n",
      "{'_index': 'my_events', '_id': 'AV9qxROBP9IDFhhR0sc1', '_score': 2.0, '_type': 'event', '_source': {'E': 928.9305001330944, 'eventnr': 27, 'pT': 110.45458509125653}}\n",
      "{'_index': 'my_events', '_id': 'AV9qxROBP9IDFhhR0sdA', '_score': 2.0, '_type': 'event', '_source': {'E': 959.4179342547469, 'eventnr': 38, 'pT': 114.91073235511675}}\n",
      "{'_index': 'my_events', '_id': 'AV9qxROBP9IDFhhR0sdW', '_score': 2.0, '_type': 'event', '_source': {'E': 1022.541522680717, 'eventnr': 60, 'pT': 117.83457827148412}}\n",
      "{'_index': 'my_events', '_id': 'AV9qxROBP9IDFhhR0sdX', '_score': 2.0, '_type': 'event', '_source': {'E': 1023.1460636660004, 'eventnr': 61, 'pT': 109.11991568421998}}\n",
      "{'_index': 'my_events', '_id': 'AV9qxROBP9IDFhhR0sdZ', '_score': 2.0, '_type': 'event', '_source': {'E': 992.1403386791991, 'eventnr': 63, 'pT': 101.16171575884584}}\n",
      "{'_index': 'my_events', '_id': 'AV9qxROBP9IDFhhR0sda', '_score': 2.0, '_type': 'event', '_source': {'E': 1063.382613320472, 'eventnr': 64, 'pT': 116.04754281234948}}\n",
      "{'_index': 'my_events', '_id': 'AV9qxROBP9IDFhhR0sdh', '_score': 2.0, '_type': 'event', '_source': {'E': 997.3776997856542, 'eventnr': 71, 'pT': 101.48953841154842}}\n",
      "{'_index': 'my_events', '_id': 'AV9qxROBP9IDFhhR0sdj', '_score': 2.0, '_type': 'event', '_source': {'E': 1004.4523950144778, 'eventnr': 73, 'pT': 113.39312862190408}}\n",
      "{'_index': 'my_events', '_id': 'AV9qxROBP9IDFhhR0sdo', '_score': 2.0, '_type': 'event', '_source': {'E': 1009.0715710928151, 'eventnr': 78, 'pT': 105.50618699277518}}\n",
      "{'_index': 'my_events', '_id': 'AV9qxROBP9IDFhhR0sdx', '_score': 2.0, '_type': 'event', '_source': {'E': 993.9581147858031, 'eventnr': 87, 'pT': 103.89818318795133}}\n",
      "{'_index': 'my_events', '_id': 'AV9qxROBP9IDFhhR0sdz', '_score': 2.0, '_type': 'event', '_source': {'E': 1025.1276668396213, 'eventnr': 89, 'pT': 118.91139481158152}}\n",
      "{'_index': 'my_events', '_id': 'AV9qxROBP9IDFhhR0sd0', '_score': 2.0, '_type': 'event', '_source': {'E': 1045.4618218702226, 'eventnr': 90, 'pT': 111.34572951871678}}\n"
     ]
    }
   ],
   "source": [
    "my_query={\n",
    "    \"size\": 15,\n",
    "    \"query\":{\n",
    "       \"bool\":{\n",
    "            \"must\":[\n",
    "                {'range': {'pT': {'gte': 100, 'lt': 120}}},\n",
    "                {\"range\" : { \"E\" :{'gte': 200 }}}\n",
    "            ]\n",
    "        }\n",
    "    }\n",
    "}\n",
    "\n",
    "res = es.search(index='my_events', body=my_query )\n",
    "for r in res['hits']['hits']:\n",
    "    print(r)"
   ]
  },
  {
   "cell_type": "markdown",
   "metadata": {},
   "source": [
    "### Perform aggregated search"
   ]
  },
  {
   "cell_type": "code",
   "execution_count": 53,
   "metadata": {},
   "outputs": [
    {
     "name": "stdout",
     "output_type": "stream",
     "text": [
      "{'pt_bins': {'buckets': [{'key': -100.0, 'doc_count': 1}, {'key': -50.0, 'doc_count': 19}, {'key': 0.0, 'doc_count': 157}, {'key': 50.0, 'doc_count': 331}, {'key': 100.0, 'doc_count': 343}, {'key': 150.0, 'doc_count': 122}, {'key': 200.0, 'doc_count': 27}]}}\n"
     ]
    }
   ],
   "source": [
    "my_query={\n",
    "    \"aggs\" : {\n",
    "        \"pt_bins\" : {\n",
    "            \"histogram\" : {\n",
    "                \"field\" : \"pT\",\n",
    "                \"interval\" : 50\n",
    "            }\n",
    "        }\n",
    "    }\n",
    "}\n",
    "\n",
    "res = es.search(index='my_events', body=my_query )\n",
    "print(res['aggregations'])"
   ]
  },
  {
   "cell_type": "markdown",
   "metadata": {},
   "source": [
    "### Clean up"
   ]
  },
  {
   "cell_type": "code",
   "execution_count": 54,
   "metadata": {},
   "outputs": [
    {
     "data": {
      "text/plain": [
       "{'acknowledged': True}"
      ]
     },
     "execution_count": 54,
     "metadata": {},
     "output_type": "execute_result"
    }
   ],
   "source": [
    "es.indices.delete(index='my_events')"
   ]
  },
  {
   "cell_type": "code",
   "execution_count": null,
   "metadata": {},
   "outputs": [],
   "source": []
  }
 ],
 "metadata": {
  "kernelspec": {
   "display_name": "Python 3",
   "language": "python",
   "name": "python3"
  },
  "language_info": {
   "codemirror_mode": {
    "name": "ipython",
    "version": 3
   },
   "file_extension": ".py",
   "mimetype": "text/x-python",
   "name": "python",
   "nbconvert_exporter": "python",
   "pygments_lexer": "ipython3",
   "version": "3.5.2"
  }
 },
 "nbformat": 4,
 "nbformat_minor": 2
}
