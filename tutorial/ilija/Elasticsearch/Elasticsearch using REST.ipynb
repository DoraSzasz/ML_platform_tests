{
 "cells": [
  {
   "cell_type": "markdown",
   "metadata": {},
   "source": [
    "# Elasticsearh - usign REST interface\n",
    "\n",
    "in these examples we use curl but you can use wget, PUT, GET, DELETE where supported"
   ]
  },
  {
   "cell_type": "markdown",
   "metadata": {},
   "source": [
    "### Check we can connect to the cluster"
   ]
  },
  {
   "cell_type": "code",
   "execution_count": 13,
   "metadata": {},
   "outputs": [
    {
     "name": "stdout",
     "output_type": "stream",
     "text": [
      "{\"cluster_name\":\"atlas\",\"status\":\"green\",\"timed_out\":false,\"number_of_nodes\":10,\"number_of_data_nodes\":5,\"active_primary_shards\":13347,\"active_shards\":18485,\"relocating_shards\":0,\"initializing_shards\":0,\"unassigned_shards\":0,\"delayed_unassigned_shards\":0,\"number_of_pending_tasks\":6,\"number_of_in_flight_fetch\":0,\"task_max_waiting_in_queue_millis\":900,\"active_shards_percent_as_number\":100.0}"
     ]
    }
   ],
   "source": [
    "# define our address so we dont have to type it all the time\n",
    "address='atlas-kibana.mwt2.org:9200'\n",
    "\n",
    "! curl \"$address/_cluster/health\""
   ]
  },
  {
   "cell_type": "markdown",
   "metadata": {},
   "source": [
    "### Index one document we have in a json file"
   ]
  },
  {
   "cell_type": "code",
   "execution_count": 22,
   "metadata": {},
   "outputs": [
    {
     "name": "stdout",
     "output_type": "stream",
     "text": [
      "{\"_index\":\"my_events\",\"_type\":\"event\",\"_id\":\"AV9pfAtZP9IDFhhRXhxR\",\"_version\":1,\"result\":\"created\",\"_shards\":{\"total\":2,\"successful\":2,\"failed\":0},\"created\":true}"
     ]
    }
   ],
   "source": [
    "! curl -XPOST \"$address/my_events/event\"  -d @OneDoc.json"
   ]
  },
  {
   "cell_type": "markdown",
   "metadata": {},
   "source": [
    "### BULK Index the documents we have in a json file"
   ]
  },
  {
   "cell_type": "code",
   "execution_count": 41,
   "metadata": {},
   "outputs": [
    {
     "name": "stdout",
     "output_type": "stream",
     "text": [
      "{\"took\":18,\"errors\":false,\"items\":[{\"index\":{\"_index\":\"my_events\",\"_type\":\"event\",\"_id\":\"AV9pqYhNP9IDFhhRu6Gp\",\"_version\":1,\"result\":\"created\",\"_shards\":{\"total\":2,\"successful\":2,\"failed\":0},\"created\":true,\"status\":201}},{\"index\":{\"_index\":\"my_events\",\"_type\":\"event\",\"_id\":\"AV9pqYhNP9IDFhhRu6Gq\",\"_version\":1,\"result\":\"created\",\"_shards\":{\"total\":2,\"successful\":2,\"failed\":0},\"created\":true,\"status\":201}},{\"index\":{\"_index\":\"my_events\",\"_type\":\"event\",\"_id\":\"AV9pqYhNP9IDFhhRu6Gr\",\"_version\":1,\"result\":\"created\",\"_shards\":{\"total\":2,\"successful\":2,\"failed\":0},\"created\":true,\"status\":201}}]}"
     ]
    }
   ],
   "source": [
    "! curl -XPOST \"$address/my_events/_bulk\" --data-binary \"@ExampleDocs.json\""
   ]
  },
  {
   "cell_type": "markdown",
   "metadata": {},
   "source": [
    "### Get information on what and index settings and docs we have in it"
   ]
  },
  {
   "cell_type": "code",
   "execution_count": 45,
   "metadata": {},
   "outputs": [
    {
     "name": "stdout",
     "output_type": "stream",
     "text": [
      "{\"my_events\":{\"settings\":{\"index\":{\"creation_date\":\"1509303043133\",\"number_of_shards\":\"5\",\"number_of_replicas\":\"1\",\"uuid\":\"38nca8giTCKfkjujdy1RwA\",\"version\":{\"created\":\"5060299\"},\"provided_name\":\"my_events\"}}}}"
     ]
    }
   ],
   "source": [
    "! curl -XGET \"$address/my_events/_settings\"\n",
    "\n",
    "# number of documents\n",
    "! curl -XGET \"$address/my_events/event/_count\"  "
   ]
  },
  {
   "cell_type": "markdown",
   "metadata": {},
   "source": [
    "### Check that the data has been correctly mapped"
   ]
  },
  {
   "cell_type": "code",
   "execution_count": 46,
   "metadata": {},
   "outputs": [
    {
     "name": "stdout",
     "output_type": "stream",
     "text": [
      "{\"my_events\":{\"mappings\":{\"event\":{\"properties\":{\"description\":{\"type\":\"text\",\"fields\":{\"keyword\":{\"type\":\"keyword\",\"ignore_above\":256}}},\"eventnr\":{\"type\":\"long\"},\"timestamp\":{\"type\":\"long\"},\"tracks\":{\"properties\":{\"chi2\":{\"type\":\"float\"},\"kind\":{\"type\":\"text\",\"fields\":{\"keyword\":{\"type\":\"keyword\",\"ignore_above\":256}}},\"pT\":{\"type\":\"float\"}}}}}}}}"
     ]
    }
   ],
   "source": [
    "! curl -XGET \"$address/my_events/_mappings\""
   ]
  },
  {
   "cell_type": "markdown",
   "metadata": {},
   "source": [
    "### Delete newly created index"
   ]
  },
  {
   "cell_type": "code",
   "execution_count": 48,
   "metadata": {},
   "outputs": [
    {
     "name": "stdout",
     "output_type": "stream",
     "text": [
      "{\"acknowledged\":true}"
     ]
    }
   ],
   "source": [
    "!curl -XDELETE \"$address/my_events\""
   ]
  },
  {
   "cell_type": "markdown",
   "metadata": {},
   "source": [
    "### create a template for our data"
   ]
  },
  {
   "cell_type": "code",
   "execution_count": 57,
   "metadata": {},
   "outputs": [
    {
     "name": "stdout",
     "output_type": "stream",
     "text": [
      "{\"acknowledged\":true}"
     ]
    }
   ],
   "source": [
    "! curl -XPOST \"$address/_template/my_events\" -d @ExampleTemplate.json\n"
   ]
  },
  {
   "cell_type": "markdown",
   "metadata": {},
   "source": [
    "### index the data again"
   ]
  },
  {
   "cell_type": "code",
   "execution_count": 58,
   "metadata": {},
   "outputs": [
    {
     "name": "stdout",
     "output_type": "stream",
     "text": [
      "{\"took\":6357,\"errors\":false,\"items\":[{\"index\":{\"_index\":\"my_events\",\"_type\":\"event\",\"_id\":\"AV9ptynNP9IDFhhRvPGV\",\"_version\":1,\"result\":\"created\",\"_shards\":{\"total\":2,\"successful\":2,\"failed\":0},\"created\":true,\"status\":201}},{\"index\":{\"_index\":\"my_events\",\"_type\":\"event\",\"_id\":\"AV9ptynNP9IDFhhRvPGW\",\"_version\":1,\"result\":\"created\",\"_shards\":{\"total\":2,\"successful\":2,\"failed\":0},\"created\":true,\"status\":201}},{\"index\":{\"_index\":\"my_events\",\"_type\":\"event\",\"_id\":\"AV9ptynNP9IDFhhRvPGX\",\"_version\":1,\"result\":\"created\",\"_shards\":{\"total\":2,\"successful\":2,\"failed\":0},\"created\":true,\"status\":201}}]}"
     ]
    }
   ],
   "source": [
    "! curl -XPOST \"$address/my_events/_bulk\" --data-binary \"@ExampleDocs.json\""
   ]
  },
  {
   "cell_type": "markdown",
   "metadata": {},
   "source": [
    "### Check mapping now "
   ]
  },
  {
   "cell_type": "code",
   "execution_count": 59,
   "metadata": {},
   "outputs": [
    {
     "name": "stdout",
     "output_type": "stream",
     "text": [
      "{\"my_events\":{\"mappings\":{\"event\":{\"properties\":{\"description\":{\"type\":\"text\"},\"energy\":{\"type\":\"float\"},\"eventnr\":{\"type\":\"long\"},\"timestamp\":{\"type\":\"date\"},\"tracks\":{\"properties\":{\"chi2\":{\"type\":\"float\"},\"kind\":{\"type\":\"text\",\"fields\":{\"keyword\":{\"type\":\"keyword\",\"ignore_above\":256}}},\"pT\":{\"type\":\"float\"}}}}}}}}"
     ]
    }
   ],
   "source": [
    "! curl -XGET \"$address/my_events/_mappings\""
   ]
  },
  {
   "cell_type": "markdown",
   "metadata": {},
   "source": [
    "### Search for a document"
   ]
  },
  {
   "cell_type": "code",
   "execution_count": 87,
   "metadata": {},
   "outputs": [
    {
     "name": "stdout",
     "output_type": "stream",
     "text": [
      "{\r\n",
      "  \"took\" : 0,\r\n",
      "  \"timed_out\" : false,\r\n",
      "  \"_shards\" : {\r\n",
      "    \"total\" : 1,\r\n",
      "    \"successful\" : 1,\r\n",
      "    \"skipped\" : 0,\r\n",
      "    \"failed\" : 0\r\n",
      "  },\r\n",
      "  \"hits\" : {\r\n",
      "    \"total\" : 3,\r\n",
      "    \"max_score\" : 1.0,\r\n",
      "    \"hits\" : [\r\n",
      "      {\r\n",
      "        \"_index\" : \"my_events\",\r\n",
      "        \"_type\" : \"event\",\r\n",
      "        \"_id\" : \"AV9ptynNP9IDFhhRvPGV\",\r\n",
      "        \"_score\" : 1.0,\r\n",
      "        \"_source\" : {\r\n",
      "          \"eventnr\" : 1231455,\r\n",
      "          \"description\" : \"my higgs candidate1\",\r\n",
      "          \"timestamp\" : 1509301292000,\r\n",
      "          \"tracks\" : [\r\n",
      "            {\r\n",
      "              \"kind\" : \"InDet\",\r\n",
      "              \"pT\" : 1324.123,\r\n",
      "              \"chi2\" : 1.234\r\n",
      "            },\r\n",
      "            {\r\n",
      "              \"kind\" : \"MuonSeg\",\r\n",
      "              \"pT\" : 1324.123,\r\n",
      "              \"chi2\" : 1.234\r\n",
      "            }\r\n",
      "          ]\r\n",
      "        }\r\n",
      "      },\r\n",
      "      {\r\n",
      "        \"_index\" : \"my_events\",\r\n",
      "        \"_type\" : \"event\",\r\n",
      "        \"_id\" : \"AV9ptynNP9IDFhhRvPGW\",\r\n",
      "        \"_score\" : 1.0,\r\n",
      "        \"_source\" : {\r\n",
      "          \"eventnr\" : 2222222,\r\n",
      "          \"description\" : \"my higgs candidate2\",\r\n",
      "          \"timestamp\" : 1509301293000,\r\n",
      "          \"tracks\" : [\r\n",
      "            {\r\n",
      "              \"kind\" : \"InDet\",\r\n",
      "              \"pT\" : 1324.123,\r\n",
      "              \"chi2\" : 1.234\r\n",
      "            },\r\n",
      "            {\r\n",
      "              \"kind\" : \"MuonSeg\",\r\n",
      "              \"pT\" : 1324.123,\r\n",
      "              \"chi2\" : 1.234\r\n",
      "            }\r\n",
      "          ]\r\n",
      "        }\r\n",
      "      },\r\n",
      "      {\r\n",
      "        \"_index\" : \"my_events\",\r\n",
      "        \"_type\" : \"event\",\r\n",
      "        \"_id\" : \"AV9ptynNP9IDFhhRvPGX\",\r\n",
      "        \"_score\" : 1.0,\r\n",
      "        \"_source\" : {\r\n",
      "          \"eventnr\" : 3333333,\r\n",
      "          \"description\" : \"my higgs candidate3\",\r\n",
      "          \"timestamp\" : 1509301294000,\r\n",
      "          \"tracks\" : [\r\n",
      "            {\r\n",
      "              \"kind\" : \"InDet\",\r\n",
      "              \"pT\" : 1324.123,\r\n",
      "              \"chi2\" : 1.234\r\n",
      "            },\r\n",
      "            {\r\n",
      "              \"kind\" : \"MuonSeg\",\r\n",
      "              \"pT\" : 1324.123,\r\n",
      "              \"chi2\" : 1.234\r\n",
      "            }\r\n",
      "          ]\r\n",
      "        }\r\n",
      "      }\r\n",
      "    ]\r\n",
      "  }\r\n",
      "}\r\n"
     ]
    }
   ],
   "source": [
    "! curl -XGET \"$address/my_events/event/_search?pretty&q=eventnr:>1\""
   ]
  },
  {
   "cell_type": "markdown",
   "metadata": {},
   "source": [
    "### Perform aggregated search"
   ]
  },
  {
   "cell_type": "code",
   "execution_count": 107,
   "metadata": {},
   "outputs": [
    {
     "name": "stdout",
     "output_type": "stream",
     "text": [
      "{\r\n",
      "  \"took\" : 3,\r\n",
      "  \"timed_out\" : false,\r\n",
      "  \"_shards\" : {\r\n",
      "    \"total\" : 1,\r\n",
      "    \"successful\" : 1,\r\n",
      "    \"skipped\" : 0,\r\n",
      "    \"failed\" : 0\r\n",
      "  },\r\n",
      "  \"hits\" : {\r\n",
      "    \"total\" : 3,\r\n",
      "    \"max_score\" : 1.0,\r\n",
      "    \"hits\" : [\r\n",
      "      {\r\n",
      "        \"_index\" : \"my_events\",\r\n",
      "        \"_type\" : \"event\",\r\n",
      "        \"_id\" : \"AV9ptynNP9IDFhhRvPGV\",\r\n",
      "        \"_score\" : 1.0,\r\n",
      "        \"_source\" : {\r\n",
      "          \"eventnr\" : 1231455,\r\n",
      "          \"description\" : \"my higgs candidate1\",\r\n",
      "          \"timestamp\" : 1509301292000,\r\n",
      "          \"tracks\" : [\r\n",
      "            {\r\n",
      "              \"kind\" : \"InDet\",\r\n",
      "              \"pT\" : 1324.123,\r\n",
      "              \"chi2\" : 1.234\r\n",
      "            },\r\n",
      "            {\r\n",
      "              \"kind\" : \"MuonSeg\",\r\n",
      "              \"pT\" : 1324.123,\r\n",
      "              \"chi2\" : 1.234\r\n",
      "            }\r\n",
      "          ]\r\n",
      "        }\r\n",
      "      },\r\n",
      "      {\r\n",
      "        \"_index\" : \"my_events\",\r\n",
      "        \"_type\" : \"event\",\r\n",
      "        \"_id\" : \"AV9ptynNP9IDFhhRvPGW\",\r\n",
      "        \"_score\" : 1.0,\r\n",
      "        \"_source\" : {\r\n",
      "          \"eventnr\" : 2222222,\r\n",
      "          \"description\" : \"my higgs candidate2\",\r\n",
      "          \"timestamp\" : 1509301293000,\r\n",
      "          \"tracks\" : [\r\n",
      "            {\r\n",
      "              \"kind\" : \"InDet\",\r\n",
      "              \"pT\" : 1324.123,\r\n",
      "              \"chi2\" : 1.234\r\n",
      "            },\r\n",
      "            {\r\n",
      "              \"kind\" : \"MuonSeg\",\r\n",
      "              \"pT\" : 1324.123,\r\n",
      "              \"chi2\" : 1.234\r\n",
      "            }\r\n",
      "          ]\r\n",
      "        }\r\n",
      "      },\r\n",
      "      {\r\n",
      "        \"_index\" : \"my_events\",\r\n",
      "        \"_type\" : \"event\",\r\n",
      "        \"_id\" : \"AV9ptynNP9IDFhhRvPGX\",\r\n",
      "        \"_score\" : 1.0,\r\n",
      "        \"_source\" : {\r\n",
      "          \"eventnr\" : 3333333,\r\n",
      "          \"description\" : \"my higgs candidate3\",\r\n",
      "          \"timestamp\" : 1509301294000,\r\n",
      "          \"tracks\" : [\r\n",
      "            {\r\n",
      "              \"kind\" : \"InDet\",\r\n",
      "              \"pT\" : 1324.123,\r\n",
      "              \"chi2\" : 1.234\r\n",
      "            },\r\n",
      "            {\r\n",
      "              \"kind\" : \"MuonSeg\",\r\n",
      "              \"pT\" : 1324.123,\r\n",
      "              \"chi2\" : 1.234\r\n",
      "            }\r\n",
      "          ]\r\n",
      "        }\r\n",
      "      }\r\n",
      "    ]\r\n",
      "  },\r\n",
      "  \"aggregations\" : {\r\n",
      "    \"events_stats\" : {\r\n",
      "      \"count\" : 3,\r\n",
      "      \"min\" : 1231455.0,\r\n",
      "      \"max\" : 3333333.0,\r\n",
      "      \"avg\" : 2262336.6666666665,\r\n",
      "      \"sum\" : 6787010.0\r\n",
      "    }\r\n",
      "  }\r\n",
      "}\r\n"
     ]
    }
   ],
   "source": [
    "q= '{  \\\\\"aggs\\\\\" : {   \\\\\"events_stats\\\\\" : { \\\\\"stats\\\\\" : { \\\\\"field\\\\\" : \\\\\"eventnr\\\\\" } }  } }'\n",
    "! curl -XGET \"$address/my_events/event/_search?pretty\"  -H 'Content-Type: application/json'   -d\"$q\""
   ]
  },
  {
   "cell_type": "markdown",
   "metadata": {},
   "source": [
    "### Clean up"
   ]
  },
  {
   "cell_type": "code",
   "execution_count": null,
   "metadata": {},
   "outputs": [],
   "source": [
    "!curl -XDELETE \"$address/my_events\""
   ]
  }
 ],
 "metadata": {
  "kernelspec": {
   "display_name": "Python 3",
   "language": "python",
   "name": "python3"
  },
  "language_info": {
   "codemirror_mode": {
    "name": "ipython",
    "version": 3
   },
   "file_extension": ".py",
   "mimetype": "text/x-python",
   "name": "python",
   "nbconvert_exporter": "python",
   "pygments_lexer": "ipython3",
   "version": "3.5.2"
  }
 },
 "nbformat": 4,
 "nbformat_minor": 2
}
